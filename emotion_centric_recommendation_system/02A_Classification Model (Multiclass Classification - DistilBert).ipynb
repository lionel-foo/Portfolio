{
 "cells": [
  {
   "cell_type": "markdown",
   "metadata": {},
   "source": [
    "<img src=\"http://imgur.com/1ZcRyrc.png\" style=\"float: left; margin: 5px; height: 50px\"> \n",
    "\n",
    "#   Personalizing Music Video Recommendations with Emotional Intelligence\n",
    "\n",
    "> Capstone Project: Lionel Foo\n",
    "\n",
    "---"
   ]
  },
  {
   "cell_type": "markdown",
   "metadata": {},
   "source": [
    "#### <b> Notebook: 02B Classification Model (Multiclass Classification - DistilBERT) </b>\n",
    "\n",
    "<b>(a) Context: Rationale for Incorporating BERT and DistilBERT</b>\n",
    "\n",
    "BERT and DistilBERT are transformer-based models that have revolutionized the field of Natural Language Processing (NLP). They capture the context of words in a sentence and represent them as high-dimensional vectors. These models are pre-trained on a large corpus of text and can be fine-tuned for specific tasks.\n",
    "\n",
    "Unlike traditional machine learning models, BERT and DistilBERT understand the semantic meaning of words based on their context. They retain stop words such as \"to\", \"but\", \"not\", which are often filtered out in traditional NLP pipelines. These stop words can provide essential context information.\n",
    "\n",
    "Moreover, BERT and DistilBERT do not require lemmatization, a process that reduces words to their base or root form. They can understand that different forms of the same word can carry different meanings. For example, \"computer\" and \"computerized\" have different connotations and should be represented differently.\n",
    "\n",
    "DistilBERT is a smaller, faster, and more resource-efficient version of BERT. It retains most of BERT's performance while being significantly smaller and faster, making it suitable for environments with limited computational resources.\n",
    "\n",
    "<font size=\"1.5\">\n",
    "\n",
    "References: \n",
    "\n",
    "[1] Hugging Face. DistilBERT. <br>https://huggingface.co/docs/transformers/model_doc/distilbert\n",
    "\n",
    "[2] Victor Sanh, Lysandre Debut, Julien Chaumond, Thomas Wolf. DistilBERT, a distilled version of BERT: smaller, faster, cheaper and lighter. <br>https://arxiv.org/abs/1910.01108\n",
    "\n",
    "[3] Stack Overflow. Is it necessary to do stopwords removal, Stemming/Lemmatization for text classification while using Spacy, Bert? <br>https://stackoverflow.com/questions/63633534/is-it-necessary-to-do-stopwords-removal-stemming-lemmatization-for-text-classif\n",
    "\n",
    "</font>\n",
    "\n",
    "<br>\n",
    "<b>(b) Incorporating BERT and DistilBERT - Text-Preprocessing: Retention of Stop Words and No Lemmatisation</b>\n",
    "\n",
    "A review of words within the BERT and DistilBERT vocabulary reveals the presence of: \n",
    "* Stop words (e.g., \"to\", \"but\", \"not\")\n",
    "* Words with similar lemmas that have different word vectors (e.g., \"computer\", \"computerized\", \"supercomputers\")\n",
    "\n",
    "As such, stop words will be retained, and lemmatisation will not be performed. This is because BERT and DistilBERT are capable of understanding the context in which a word is used, and different forms of the same word can carry different meanings. For example, \"computer\" and \"computerized\" have different connotations and should be represented differently."
   ]
  },
  {
   "cell_type": "markdown",
   "metadata": {},
   "source": [
    "---\n",
    "\n",
    "<b> 1. Import Libraries</b>"
   ]
  },
  {
   "cell_type": "code",
   "execution_count": 25,
   "metadata": {},
   "outputs": [],
   "source": [
    "# Imports\n",
    "import pandas as pd\n",
    "import numpy as np\n",
    "import transformers\n",
    "import tensorflow as tf\n",
    "from tensorflow.keras import models, layers, metrics\n",
    "from keras.callbacks import EarlyStopping, ReduceLROnPlateau\n",
    "from sklearn.model_selection import train_test_split\n",
    "from datetime import datetime\n",
    "from matplotlib import pyplot as plt\n",
    "from sklearn.metrics import classification_report"
   ]
  },
  {
   "cell_type": "markdown",
   "metadata": {},
   "source": [
    "\n",
    "---\n",
    "\n",
    "<b> 2. Import dataframe and assess imported data </b>"
   ]
  },
  {
   "cell_type": "code",
   "execution_count": 2,
   "metadata": {},
   "outputs": [],
   "source": [
    "# Import data\n",
    "df = pd.read_csv(\"Data/emotions_processed_dataset.csv\")"
   ]
  },
  {
   "cell_type": "code",
   "execution_count": 3,
   "metadata": {},
   "outputs": [
    {
     "data": {
      "text/html": [
       "<div>\n",
       "<style scoped>\n",
       "    .dataframe tbody tr th:only-of-type {\n",
       "        vertical-align: middle;\n",
       "    }\n",
       "\n",
       "    .dataframe tbody tr th {\n",
       "        vertical-align: top;\n",
       "    }\n",
       "\n",
       "    .dataframe thead th {\n",
       "        text-align: right;\n",
       "    }\n",
       "</style>\n",
       "<table border=\"1\" class=\"dataframe\">\n",
       "  <thead>\n",
       "    <tr style=\"text-align: right;\">\n",
       "      <th></th>\n",
       "      <th>text</th>\n",
       "      <th>label</th>\n",
       "      <th>emotion_name</th>\n",
       "    </tr>\n",
       "  </thead>\n",
       "  <tbody>\n",
       "    <tr>\n",
       "      <th>0</th>\n",
       "      <td>i just feel really helpless and heavy hearted</td>\n",
       "      <td>4</td>\n",
       "      <td>Fear</td>\n",
       "    </tr>\n",
       "    <tr>\n",
       "      <th>1</th>\n",
       "      <td>i have enjoyed being able to slouch about rela...</td>\n",
       "      <td>0</td>\n",
       "      <td>Sadness</td>\n",
       "    </tr>\n",
       "    <tr>\n",
       "      <th>2</th>\n",
       "      <td>i gave up my internship with the dmrg and am f...</td>\n",
       "      <td>4</td>\n",
       "      <td>Fear</td>\n",
       "    </tr>\n",
       "    <tr>\n",
       "      <th>3</th>\n",
       "      <td>i do not know i feel so lost</td>\n",
       "      <td>0</td>\n",
       "      <td>Sadness</td>\n",
       "    </tr>\n",
       "    <tr>\n",
       "      <th>4</th>\n",
       "      <td>i am a kindergarten teacher and i am thoroughl...</td>\n",
       "      <td>4</td>\n",
       "      <td>Fear</td>\n",
       "    </tr>\n",
       "    <tr>\n",
       "      <th>5</th>\n",
       "      <td>i was beginning to feel quite disheartened</td>\n",
       "      <td>0</td>\n",
       "      <td>Sadness</td>\n",
       "    </tr>\n",
       "    <tr>\n",
       "      <th>6</th>\n",
       "      <td>i would think that whomever would be lucky eno...</td>\n",
       "      <td>2</td>\n",
       "      <td>Love</td>\n",
       "    </tr>\n",
       "    <tr>\n",
       "      <th>7</th>\n",
       "      <td>i fear that they will not ever feel that delic...</td>\n",
       "      <td>1</td>\n",
       "      <td>Joy</td>\n",
       "    </tr>\n",
       "    <tr>\n",
       "      <th>8</th>\n",
       "      <td>i can still lose the weight without feeling de...</td>\n",
       "      <td>0</td>\n",
       "      <td>Sadness</td>\n",
       "    </tr>\n",
       "    <tr>\n",
       "      <th>9</th>\n",
       "      <td>i try to be nice though so if you get a bitchy...</td>\n",
       "      <td>1</td>\n",
       "      <td>Joy</td>\n",
       "    </tr>\n",
       "  </tbody>\n",
       "</table>\n",
       "</div>"
      ],
      "text/plain": [
       "                                                text  label emotion_name\n",
       "0      i just feel really helpless and heavy hearted      4         Fear\n",
       "1  i have enjoyed being able to slouch about rela...      0      Sadness\n",
       "2  i gave up my internship with the dmrg and am f...      4         Fear\n",
       "3                       i do not know i feel so lost      0      Sadness\n",
       "4  i am a kindergarten teacher and i am thoroughl...      4         Fear\n",
       "5         i was beginning to feel quite disheartened      0      Sadness\n",
       "6  i would think that whomever would be lucky eno...      2         Love\n",
       "7  i fear that they will not ever feel that delic...      1          Joy\n",
       "8  i can still lose the weight without feeling de...      0      Sadness\n",
       "9  i try to be nice though so if you get a bitchy...      1          Joy"
      ]
     },
     "execution_count": 3,
     "metadata": {},
     "output_type": "execute_result"
    }
   ],
   "source": [
    "# Check top 10 rows of imported data\n",
    "df.head(10)"
   ]
  },
  {
   "cell_type": "code",
   "execution_count": 4,
   "metadata": {},
   "outputs": [
    {
     "name": "stdout",
     "output_type": "stream",
     "text": [
      "<class 'pandas.core.frame.DataFrame'>\n",
      "RangeIndex: 380365 entries, 0 to 380364\n",
      "Data columns (total 3 columns):\n",
      " #   Column        Non-Null Count   Dtype \n",
      "---  ------        --------------   ----- \n",
      " 0   text          380365 non-null  object\n",
      " 1   label         380365 non-null  int64 \n",
      " 2   emotion_name  380365 non-null  object\n",
      "dtypes: int64(1), object(2)\n",
      "memory usage: 8.7+ MB\n"
     ]
    }
   ],
   "source": [
    "# Summary of DataFrame information\n",
    "df.info()"
   ]
  },
  {
   "cell_type": "code",
   "execution_count": 5,
   "metadata": {},
   "outputs": [
    {
     "data": {
      "text/plain": [
       "0"
      ]
     },
     "execution_count": 5,
     "metadata": {},
     "output_type": "execute_result"
    }
   ],
   "source": [
    "# Check for null values in the 'text' column\n",
    "df['text'].isnull().sum()"
   ]
  },
  {
   "cell_type": "code",
   "execution_count": 6,
   "metadata": {},
   "outputs": [
    {
     "data": {
      "text/plain": [
       "label\n",
       "1    134709\n",
       "0    118152\n",
       "3     54597\n",
       "4     43497\n",
       "2     29410\n",
       "Name: count, dtype: int64"
      ]
     },
     "execution_count": 6,
     "metadata": {},
     "output_type": "execute_result"
    }
   ],
   "source": [
    "# check for class imbalance\n",
    "df['label'].value_counts()"
   ]
  },
  {
   "cell_type": "markdown",
   "metadata": {},
   "source": [
    "---\n",
    "\n",
    "<b> 2. Prepare Data for Modelling </b>\n",
    "\n",
    "Outline\n",
    "* (a) Define X and y\n",
    "* (b) Tokenize X using DistilBertTokenizer\n",
    "* (c) Perform Train-Test-Split\n",
    "* (d) Evaluate Class Imbalance\n",
    "* (e) Address Class Imbalance\n",
    "* (f) Tokenise & Pad Text Sequences"
   ]
  },
  {
   "cell_type": "markdown",
   "metadata": {},
   "source": [
    "<b> (a) Define X and y </b>"
   ]
  },
  {
   "cell_type": "code",
   "execution_count": 7,
   "metadata": {},
   "outputs": [
    {
     "data": {
      "text/plain": [
       "array([4, 0, 4, ..., 1, 2, 3])"
      ]
     },
     "execution_count": 7,
     "metadata": {},
     "output_type": "execute_result"
    }
   ],
   "source": [
    "# define X and y\n",
    "X = df['text']\n",
    "y = df['label'].to_numpy()\n",
    "y"
   ]
  },
  {
   "cell_type": "markdown",
   "metadata": {},
   "source": [
    "<b> (b) Tokenize X using DistilBertTokenizer </b>"
   ]
  },
  {
   "cell_type": "code",
   "execution_count": 8,
   "metadata": {},
   "outputs": [],
   "source": [
    "# Define the tokenizer\n",
    "tokenizer = transformers.DistilBertTokenizer.from_pretrained('distilbert-base-uncased')"
   ]
  },
  {
   "cell_type": "code",
   "execution_count": 9,
   "metadata": {},
   "outputs": [],
   "source": [
    "# Tokenize X\n",
    "X_tf = [tokenizer(text, padding='max_length', max_length = 54, truncation=True)['input_ids'] for text in X]\n",
    "X_tf = np.array(X_tf, dtype='int32')"
   ]
  },
  {
   "cell_type": "markdown",
   "metadata": {},
   "source": [
    "<b> (c) Perform Train-Test-Split </b>"
   ]
  },
  {
   "cell_type": "code",
   "execution_count": 10,
   "metadata": {},
   "outputs": [
    {
     "name": "stdout",
     "output_type": "stream",
     "text": [
      "Shape of training data:  (304292, 54)\n",
      "Shape of test data:  (76073, 54)\n"
     ]
    }
   ],
   "source": [
    "# Train/test split\n",
    "X_tf_train, X_tf_test, y_tf_train, y_tf_test = train_test_split(X_tf, y, test_size=0.2, random_state=42, stratify=y)\n",
    "print('Shape of training data: ',X_tf_train.shape)\n",
    "print('Shape of test data: ',X_tf_test.shape)"
   ]
  },
  {
   "cell_type": "markdown",
   "metadata": {},
   "source": [
    "<b> (d) Evaluate Class Imbalance </b>"
   ]
  },
  {
   "cell_type": "code",
   "execution_count": 11,
   "metadata": {},
   "outputs": [
    {
     "name": "stdout",
     "output_type": "stream",
     "text": [
      "Value: 0, Count: 94522\n",
      "Value: 1, Count: 107767\n",
      "Value: 2, Count: 23528\n",
      "Value: 3, Count: 43678\n",
      "Value: 4, Count: 34797\n"
     ]
    }
   ],
   "source": [
    "# check class imbalance for training dataset\n",
    "unique, counts = np.unique(y_tf_train, return_counts=True)\n",
    "\n",
    "# print the unique values and their counts\n",
    "for u, c in zip(unique, counts):\n",
    "    print(f\"Value: {u}, Count: {c}\")"
   ]
  },
  {
   "cell_type": "markdown",
   "metadata": {},
   "source": [
    "Comments: Class Imbalance\n",
    "* Class [0]: Sadness ; Class [1]: Joy, Class [2]: Love, Class [3]: Anger, Class [4]: Fear\n",
    "* There are a disproportionately high number of \"Sadness\" (94522), \"Joy\" (107767), and \"Anger\" (43678) instances.\n",
    "* There are a disproportionately low number of \"Love\" (23528) instances.\n",
    "\n",
    "Comments: Approach to Addressing Class Imbalance\n",
    "* Undersampling (oversampling) of the most (least) numerous class to attain a count equivalent to the \"Fear\" class (as it has a count between both classes), where we'll:\n",
    "    * undersample: the most numerous classes (\"Sadness\", \"Joy\", and \"Anger\") \n",
    "    * oversample: the least numerous class (\"Love\")\n",
    "\n",
    "* To prevent \"training\" data from leaking into the \"testing\" data - the class rebalancing procedure will be applied:\n",
    "    * after the \"train-test-split\" step, and\n",
    "    * applied to the \"training\" sample only"
   ]
  },
  {
   "cell_type": "markdown",
   "metadata": {},
   "source": [
    "<b> (e) Address Class Imbalance </b>"
   ]
  },
  {
   "cell_type": "code",
   "execution_count": 12,
   "metadata": {},
   "outputs": [],
   "source": [
    "# Balance classes of training data to sample count of class 4\n",
    "\n",
    "df_train = pd.DataFrame(X_tf_train)\n",
    "df_train['label'] = y_tf_train\n",
    "\n",
    "# Downsampling\n",
    "class_0 = df_train[df_train[\"label\"] == 0].sample(n=34797, random_state=42)\n",
    "class_1 = df_train[df_train[\"label\"] == 1].sample(n=34797, random_state=42)\n",
    "class_3 = df_train[df_train[\"label\"] == 3].sample(n=34797, random_state=42)\n",
    "\n",
    "# Upsampling\n",
    "class_2 = df_train[df_train[\"label\"] == 2]\n",
    "upsampled_class_2 = class_2.sample(n=34797, replace=True, random_state=42)\n",
    "\n",
    "# Keeping class 4 as it is\n",
    "class_4 = df_train[df_train[\"label\"] == 4]\n",
    "\n",
    "df_train_balanced = pd.concat([class_0, class_1, upsampled_class_2, class_3, class_4], axis=0)\n",
    "\n",
    "X_tf_train_balanced = df_train_balanced.drop(columns=['label']).values\n",
    "y_tf_train_balanced = df_train_balanced['label'].values\n"
   ]
  },
  {
   "cell_type": "code",
   "execution_count": 13,
   "metadata": {},
   "outputs": [
    {
     "name": "stdout",
     "output_type": "stream",
     "text": [
      "Value: 0, Count: 34797\n",
      "Value: 1, Count: 34797\n",
      "Value: 2, Count: 34797\n",
      "Value: 3, Count: 34797\n",
      "Value: 4, Count: 34797\n"
     ]
    }
   ],
   "source": [
    "# recheck class distribution after rebalancing\n",
    "unique, counts = np.unique(y_tf_train_balanced, return_counts=True)\n",
    "\n",
    "# print the unique values and their counts\n",
    "for u, c in zip(unique, counts):\n",
    "    print(f\"Value: {u}, Count: {c}\")"
   ]
  },
  {
   "cell_type": "code",
   "execution_count": 14,
   "metadata": {},
   "outputs": [
    {
     "name": "stdout",
     "output_type": "stream",
     "text": [
      "Shape of balanced training data:  (173985, 54)\n"
     ]
    }
   ],
   "source": [
    "print('Shape of balanced training data: ',X_tf_train_balanced.shape)"
   ]
  },
  {
   "cell_type": "markdown",
   "metadata": {},
   "source": [
    "---\n",
    "\n",
    "<b> 3. Train Classification Model using Distilbert </b>"
   ]
  },
  {
   "cell_type": "code",
   "execution_count": 15,
   "metadata": {},
   "outputs": [
    {
     "name": "stderr",
     "output_type": "stream",
     "text": [
      "Some weights of the PyTorch model were not used when initializing the TF 2.0 model TFDistilBertModel: ['vocab_transform.bias', 'vocab_layer_norm.bias', 'vocab_layer_norm.weight', 'vocab_transform.weight', 'vocab_projector.bias']\n",
      "- This IS expected if you are initializing TFDistilBertModel from a PyTorch model trained on another task or with another architecture (e.g. initializing a TFBertForSequenceClassification model from a BertForPreTraining model).\n",
      "- This IS NOT expected if you are initializing TFDistilBertModel from a PyTorch model that you expect to be exactly identical (e.g. initializing a TFBertForSequenceClassification model from a BertForSequenceClassification model).\n",
      "All the weights of TFDistilBertModel were initialized from the PyTorch model.\n",
      "If your task is similar to the task the model of the checkpoint was trained on, you can already use TFDistilBertModel for predictions without further training.\n"
     ]
    }
   ],
   "source": [
    "# Get BERT layer\n",
    "config = transformers.DistilBertConfig(dropout=0.2, attention_dropout=0.2)\n",
    "dbert_tf = transformers.TFDistilBertModel.from_pretrained('distilbert-base-uncased', config=config, trainable=False)"
   ]
  },
  {
   "cell_type": "code",
   "execution_count": 16,
   "metadata": {},
   "outputs": [
    {
     "name": "stdout",
     "output_type": "stream",
     "text": [
      "Object type:  <class 'transformers.modeling_tf_outputs.TFBaseModelOutput'>\n",
      "Output format (shape):  (5, 54, 768)\n",
      "Output used as input for the classifier (shape):  (5, 768)\n"
     ]
    }
   ],
   "source": [
    "# create a sample of size 5 from the training data to test out bert layer\n",
    "sample = X_tf_train_balanced[0:5]\n",
    "print('Object type: ', type(dbert_tf(sample)))\n",
    "print('Output format (shape): ',dbert_tf(sample)[0].shape)\n",
    "print('Output used as input for the classifier (shape): ', dbert_tf(sample)[0][:,0,:].shape)"
   ]
  },
  {
   "cell_type": "code",
   "execution_count": 17,
   "metadata": {},
   "outputs": [],
   "source": [
    "# Define TensorFlow-based classification model using a pre-trained DistilBERT layer as the base\n",
    "input_ids_in = layers.Input(shape=(54,), name='input_token', dtype='int32')\n",
    "\n",
    "x = dbert_tf(input_ids=input_ids_in)[0][:,0,:]\n",
    "x = layers.Dropout(0.2, name='dropout')(x)\n",
    "x = layers.Dense(64, activation='relu', name='dense')(x)\n",
    "x = layers.Dense(5, activation='softmax', name='classification')(x)\n",
    "\n",
    "model_tf = models.Model(inputs=input_ids_in, outputs = x, name='ClassificationModelTF')\n",
    "\n",
    "model_tf.compile(optimizer='adam',loss='sparse_categorical_crossentropy', metrics=[metrics.SparseCategoricalAccuracy()])"
   ]
  },
  {
   "cell_type": "code",
   "execution_count": 18,
   "metadata": {},
   "outputs": [
    {
     "name": "stdout",
     "output_type": "stream",
     "text": [
      "Model: \"ClassificationModelTF\"\n",
      "_________________________________________________________________\n",
      " Layer (type)                Output Shape              Param #   \n",
      "=================================================================\n",
      " input_token (InputLayer)    [(None, 54)]              0         \n",
      "                                                                 \n",
      " tf_distil_bert_model (TFDi  TFBaseModelOutput(last_   66362880  \n",
      " stilBertModel)              hidden_state=(None, 54,             \n",
      "                              768),                              \n",
      "                              hidden_states=None, at             \n",
      "                             tentions=None)                      \n",
      "                                                                 \n",
      " tf.__operators__.getitem (  (None, 768)               0         \n",
      " SlicingOpLambda)                                                \n",
      "                                                                 \n",
      " dropout (Dropout)           (None, 768)               0         \n",
      "                                                                 \n",
      " dense (Dense)               (None, 64)                49216     \n",
      "                                                                 \n",
      " classification (Dense)      (None, 5)                 325       \n",
      "                                                                 \n",
      "=================================================================\n",
      "Total params: 66412421 (253.34 MB)\n",
      "Trainable params: 49541 (193.52 KB)\n",
      "Non-trainable params: 66362880 (253.15 MB)\n",
      "_________________________________________________________________\n"
     ]
    }
   ],
   "source": [
    "# summary of architecture\n",
    "model_tf.summary()"
   ]
  },
  {
   "cell_type": "code",
   "execution_count": 19,
   "metadata": {},
   "outputs": [],
   "source": [
    "# Define callbacks\n",
    "\n",
    "# EarlyStopping callback to stop training if 'val_sparse_categorical_accuracy' doesn't improve for 5 consecutive epochs,\n",
    "# Restoring the weights of the epoch with the best validation accuracy.\n",
    "es = EarlyStopping(patience = 5,\n",
    "                   monitor = 'val_sparse_categorical_accuracy',\n",
    "                   restore_best_weights = True)\n",
    "                   \n",
    "# Reduce learning rate by a factor of 0.5 if 'val_loss' doesn't improve for 5 consecutive epochs.  \n",
    "lr = ReduceLROnPlateau(patience = 5,\n",
    "                       monitor = 'val_loss',\n",
    "                       factor = 0.5,\n",
    "                       verbose = 0)"
   ]
  },
  {
   "cell_type": "code",
   "execution_count": 20,
   "metadata": {},
   "outputs": [
    {
     "name": "stdout",
     "output_type": "stream",
     "text": [
      "Epoch 1/50\n"
     ]
    },
    {
     "name": "stdout",
     "output_type": "stream",
     "text": [
      "5438/5438 [==============================] - 2379s 437ms/step - loss: 1.4110 - sparse_categorical_accuracy: 0.3945 - val_loss: 1.2129 - val_sparse_categorical_accuracy: 0.5314 - lr: 0.0010\n",
      "Epoch 2/50\n",
      "5438/5438 [==============================] - 2395s 440ms/step - loss: 1.3699 - sparse_categorical_accuracy: 0.4204 - val_loss: 1.2790 - val_sparse_categorical_accuracy: 0.4638 - lr: 0.0010\n",
      "Epoch 3/50\n",
      "5438/5438 [==============================] - 2371s 436ms/step - loss: 1.3633 - sparse_categorical_accuracy: 0.4248 - val_loss: 1.2493 - val_sparse_categorical_accuracy: 0.4840 - lr: 0.0010\n",
      "Epoch 4/50\n",
      "5438/5438 [==============================] - 2340s 430ms/step - loss: 1.3563 - sparse_categorical_accuracy: 0.4295 - val_loss: 1.1723 - val_sparse_categorical_accuracy: 0.5507 - lr: 0.0010\n",
      "Epoch 5/50\n",
      "5438/5438 [==============================] - 2363s 435ms/step - loss: 1.3532 - sparse_categorical_accuracy: 0.4297 - val_loss: 1.2663 - val_sparse_categorical_accuracy: 0.4587 - lr: 0.0010\n",
      "Epoch 6/50\n",
      "5438/5438 [==============================] - 2346s 431ms/step - loss: 1.3524 - sparse_categorical_accuracy: 0.4311 - val_loss: 1.2076 - val_sparse_categorical_accuracy: 0.5183 - lr: 0.0010\n",
      "Epoch 7/50\n",
      "5438/5438 [==============================] - 2303s 424ms/step - loss: 1.3492 - sparse_categorical_accuracy: 0.4321 - val_loss: 1.2034 - val_sparse_categorical_accuracy: 0.5190 - lr: 0.0010\n",
      "Epoch 8/50\n",
      "5438/5438 [==============================] - 2320s 427ms/step - loss: 1.3460 - sparse_categorical_accuracy: 0.4337 - val_loss: 1.1335 - val_sparse_categorical_accuracy: 0.5726 - lr: 0.0010\n",
      "Epoch 9/50\n",
      "5438/5438 [==============================] - 2342s 431ms/step - loss: 1.3463 - sparse_categorical_accuracy: 0.4342 - val_loss: 1.1890 - val_sparse_categorical_accuracy: 0.5193 - lr: 0.0010\n",
      "Epoch 10/50\n",
      "5438/5438 [==============================] - 2328s 428ms/step - loss: 1.3435 - sparse_categorical_accuracy: 0.4373 - val_loss: 1.1782 - val_sparse_categorical_accuracy: 0.5423 - lr: 0.0010\n",
      "Epoch 11/50\n",
      "5438/5438 [==============================] - 2346s 431ms/step - loss: 1.3422 - sparse_categorical_accuracy: 0.4369 - val_loss: 1.1741 - val_sparse_categorical_accuracy: 0.5475 - lr: 0.0010\n",
      "Epoch 12/50\n",
      "5438/5438 [==============================] - 2362s 434ms/step - loss: 1.3416 - sparse_categorical_accuracy: 0.4359 - val_loss: 1.1621 - val_sparse_categorical_accuracy: 0.5449 - lr: 0.0010\n",
      "Epoch 13/50\n",
      "5438/5438 [==============================] - 2338s 430ms/step - loss: 1.3400 - sparse_categorical_accuracy: 0.4377 - val_loss: 1.1843 - val_sparse_categorical_accuracy: 0.5141 - lr: 0.0010\n"
     ]
    }
   ],
   "source": [
    "# Train the model\n",
    "start_time = datetime.now()\n",
    "history = model_tf.fit(X_tf_train_balanced, y_tf_train_balanced, batch_size=32, shuffle=True, epochs=50, validation_data=(X_tf_test, y_tf_test), verbose=1, callbacks=[lr, es])\n",
    "end_time = datetime.now()\n",
    "\n",
    "training_time_tf = (end_time - start_time).total_seconds()"
   ]
  },
  {
   "cell_type": "markdown",
   "metadata": {},
   "source": [
    "\n",
    "---\n",
    "\n",
    "<b> 4. Evaluate Classification Model </b>\n",
    "\n",
    "(a) Evaluate loss and accuracy epoch-by-epoch"
   ]
  },
  {
   "cell_type": "code",
   "execution_count": 21,
   "metadata": {},
   "outputs": [
    {
     "data": {
      "text/plain": [
       "<matplotlib.legend.Legend at 0x29d61ead0>"
      ]
     },
     "execution_count": 21,
     "metadata": {},
     "output_type": "execute_result"
    },
    {
     "data": {
      "image/png": "[encoded data removed]",
      "text/plain": [
       "<Figure size 1500x500 with 2 Axes>"
      ]
     },
     "metadata": {},
     "output_type": "display_data"
    }
   ],
   "source": [
    "# plot training and validation metrics (loss and accuracy) over epochs\n",
    "fig, ax = plt.subplots(nrows=1, ncols=2, figsize=(15, 5))\n",
    "ax[0].set(title='Loss')\n",
    "ax[0].plot(history.history['loss'], label='Training')\n",
    "ax[0].plot(history.history['val_loss'], label='Validation')\n",
    "ax[0].legend(loc=\"upper right\")\n",
    "\n",
    "ax[1].set(title='Accuracy')\n",
    "ax[1].plot(history.history['sparse_categorical_accuracy'], label='Training')\n",
    "ax[1].plot(history.history['val_sparse_categorical_accuracy'], label='Validation')\n",
    "ax[1].legend(loc=\"lower right\")"
   ]
  },
  {
   "cell_type": "markdown",
   "metadata": {},
   "source": [
    "(b) Obtain model evaluation metrics"
   ]
  },
  {
   "cell_type": "code",
   "execution_count": 22,
   "metadata": {},
   "outputs": [
    {
     "name": "stdout",
     "output_type": "stream",
     "text": [
      "Accuracy Training data: 43.8%\n",
      "Accuracy Test data: 51.4%\n",
      "Training time: 30534.0s (or 508.9 minutes)\n"
     ]
    }
   ],
   "source": [
    "# summary of the model's accuracy performance on both the training and test datasets\n",
    "accuracy_tf = history.history['val_sparse_categorical_accuracy'][-1]\n",
    "print('Accuracy Training data: {:.1%}'.format(history.history['sparse_categorical_accuracy'][-1]))\n",
    "print('Accuracy Test data: {:.1%}'.format(history.history['val_sparse_categorical_accuracy'][-1]))\n",
    "print('Training time: {:.1f}s (or {:.1f} minutes)'.format(training_time_tf, training_time_tf/60))"
   ]
  },
  {
   "cell_type": "code",
   "execution_count": 26,
   "metadata": {},
   "outputs": [
    {
     "name": "stdout",
     "output_type": "stream",
     "text": [
      "2378/2378 [==============================] - 691s 290ms/step\n",
      "              precision    recall  f1-score   support\n",
      "\n",
      "     Sadness       0.65      0.55      0.59     23630\n",
      "         Joy       0.78      0.61      0.68     26942\n",
      "        Love       0.34      0.42      0.38      5882\n",
      "       Anger       0.48      0.52      0.50     10919\n",
      "        Fear       0.38      0.70      0.49      8700\n",
      "\n",
      "    accuracy                           0.57     76073\n",
      "   macro avg       0.53      0.56      0.53     76073\n",
      "weighted avg       0.62      0.57      0.58     76073\n",
      "\n"
     ]
    }
   ],
   "source": [
    "# Predict the classes\n",
    "y_pred = model_tf.predict(X_tf_test)\n",
    "y_pred_classes = np.argmax(y_pred, axis=1)\n",
    "\n",
    "# Generate the classification report\n",
    "report = classification_report(y_tf_test, y_pred_classes, target_names=['Sadness', 'Joy', 'Love', 'Anger', 'Fear'])\n",
    "\n",
    "print(report)"
   ]
  },
  {
   "cell_type": "markdown",
   "metadata": {},
   "source": [
    "<b>Comments</b>\n",
    "\n",
    "<b>Performance on: \"Training\" Data</b>\n",
    "* The DistilBert model's performance on the training data is suboptimal, with an overall accuracy of 43.8%.\n",
    "\n",
    "<b>Performance on: \"Testing\" Data</b>\n",
    "* The model's performance on the testing data is slightly better than the training data, with an overall accuracy of 51.4%. However, the F1-scores for the classes show that the model is not performing well across all emotions, particularly for \"Love\" and \"Fear\".\n",
    "\n",
    "<b>Evaluation Metrics of Interest</b>\n",
    "* Accuracy: % of predictions that are correct. In this case, the accuracy is relatively low for both training and testing data.\n",
    "* F1-Score: Composite measure that considers both “precision” and “recall”. The F1-scores for the classes \"Love\" and \"Fear\" are particularly low, indicating poor performance in these classes.\n",
    "\n",
    "<b>Potential Reasons for Poor Performance</b>\n",
    "* Model Complexity: DistilBert is a complex model which might be too sophisticated for this task, leading to longer training times and suboptimal results.\n",
    "* Insufficient Training: The model might need more training time or more data to learn effectively.\n",
    "\n",
    "<b>Key Insights & Steps Going Forward</b>\n",
    "* Feature Engineering: Additional feature engineering, such as using GloVe-based word vectoriser, might help improve the model's performance by capturing more information from the text data. This aligns with existing literature that suggests that semantic understanding can be crucial for emotion classification tasks.\n",
    "* Trying Simpler Models: Given the poor performance and long training times of the DistilBert model, it might be worth trying out simpler models like Naive Bayes, Logistic Regression, XGBoost, RandomForestClassifier, and Multinomial Classifier RNN with Glove word embeddings.\n"
   ]
  }
 ],
 "metadata": {
  "kernelspec": {
   "display_name": "base",
   "language": "python",
   "name": "python3"
  },
  "language_info": {
   "codemirror_mode": {
    "name": "ipython",
    "version": 3
   },
   "file_extension": ".py",
   "mimetype": "text/x-python",
   "name": "python",
   "nbconvert_exporter": "python",
   "pygments_lexer": "ipython3",
   "version": "3.11.7"
  }
 },
 "nbformat": 4,
 "nbformat_minor": 2
}
