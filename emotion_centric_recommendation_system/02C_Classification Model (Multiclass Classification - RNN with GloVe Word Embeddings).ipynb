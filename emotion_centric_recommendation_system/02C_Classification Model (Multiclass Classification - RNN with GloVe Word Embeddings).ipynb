{
 "cells": [
  {
   "cell_type": "markdown",
   "metadata": {},
   "source": [
    "<img src=\"http://imgur.com/1ZcRyrc.png\" style=\"float: left; margin: 5px; height: 50px\"> \n",
    "\n",
    "#   Personalizing Music Video Recommendations with Emotional Intelligence\n",
    "\n",
    "> Capstone Project: Lionel Foo\n",
    "\n",
    "---\n"
   ]
  },
  {
   "cell_type": "markdown",
   "metadata": {},
   "source": [
    "#### <b> Notebook: 02C Classification Model (Multiclass Classification - RNN with GloVe Word Embeddings) </b>\n",
    "\n",
    "<b>(a) Context: Rationale for Incorporating GloVe Word Embeddings</b>\n",
    "\n",
    "Keras' default word vectorisation approach is non-semantic by nature (i.e., word vectors produced do not reflect how semantically close/far apart words are from each other). [1]\n",
    "\n",
    "GloVe word embeddings will thus be incorporated in our model to enable semantic-based word vectorisation - with the view towards improving the classification model's performance. However, as GloVe's word embeddings are static (i.e., the same word will always have the same representation regardless of the context where it occurs - GloVe treats \"apple\" in \"apple computers\" and \"apple juice\" similarly) - word vectorisation with GloVe does not allow for context-driven semantic word vectorisation. [2] \n",
    "\n",
    "<font size=\"1.5\">\n",
    "\n",
    "References: \n",
    "\n",
    "[1] Towards Data Science. Text Classification using Word Embeddings and Deep Learning in Python - Classifying Tweets from .... \n",
    "<br>https://towardsdatascience.com/text-classification-using-word-embeddings-and-deep-learning-in-python-classifying-tweets-from-6fe644fcfc81\n",
    "\n",
    "[2] David Batista. Language Models and Contextualised Word Embeddings.\n",
    "<br>https://www.davidsbatista.net/blog/2018/12/06/Word_Embeddings/\n",
    "\n",
    "</font>\n",
    "\n",
    "<br>\n",
    "<b>(b) Incorporating GloVe Word Embeddings - Text-Preprocessing: Retention of Stop Words and No Lemmatisation</b>\n",
    "\n",
    "A review of words within the GloVe repository reveals the presence of: \n",
    "* Stop words (e.g., \"to\", \"but\", \"not\")\n",
    "* Words with similar lemmas that have different word vectors (e.g., \"computer\", \"computerized\", \"supercomputers\")\n",
    "\n",
    "As such, stop words will be retained, and lemmatisation will not be performed. \n",
    "\n",
    "<br>\n",
    "<b>(c) Notebook Outline</b>\n",
    "\n",
    "1. Import Libraries, Data & Specify Random Seeds\n",
    "2. Prepare Data for Modelling\n",
    "3. Construct GloVe Word Embedding Matrix\n",
    "4. Train Classification Model\n",
    "5. Evaluate Classification Model\n",
    "6. Comparison of Model Performance - Multinomial Classifier: w/out and w GloVe-based Word Vectoriser\n",
    "7. Key Insights & Steps Going Forward\n"
   ]
  },
  {
   "cell_type": "markdown",
   "metadata": {},
   "source": [
    "---\n",
    "\n",
    "<b> 1. Import Libraries, Data & Specify Random Seeds </b>"
   ]
  },
  {
   "cell_type": "code",
   "execution_count": 1,
   "metadata": {},
   "outputs": [],
   "source": [
    "# Imports: standard\n",
    "import pandas as pd\n",
    "import numpy as np\n",
    "import re\n",
    "\n",
    "import seaborn as sns\n",
    "import matplotlib.pyplot as plt\n",
    "\n",
    "from sklearn.model_selection import train_test_split\n",
    "from sklearn.metrics import classification_report\n",
    "\n",
    "# Imports: tensorflow for model building\n",
    "import tensorflow as tf\n",
    "from tensorflow import keras\n",
    "from keras import layers\n",
    "from tensorflow.keras.preprocessing.text import Tokenizer\n",
    "from tensorflow.keras.preprocessing.sequence import pad_sequences\n",
    "from tensorflow.keras.optimizers import Adam\n",
    "from keras.callbacks import EarlyStopping, ReduceLROnPlateau\n",
    "import time\n",
    "\n",
    "# this setting widens how many characters pandas will display in a column:\n",
    "pd.options.display.max_colwidth = 4000"
   ]
  },
  {
   "cell_type": "code",
   "execution_count": 2,
   "metadata": {},
   "outputs": [
    {
     "data": {
      "text/html": [
       "<div>\n",
       "<style scoped>\n",
       "    .dataframe tbody tr th:only-of-type {\n",
       "        vertical-align: middle;\n",
       "    }\n",
       "\n",
       "    .dataframe tbody tr th {\n",
       "        vertical-align: top;\n",
       "    }\n",
       "\n",
       "    .dataframe thead th {\n",
       "        text-align: right;\n",
       "    }\n",
       "</style>\n",
       "<table border=\"1\" class=\"dataframe\">\n",
       "  <thead>\n",
       "    <tr style=\"text-align: right;\">\n",
       "      <th></th>\n",
       "      <th>text</th>\n",
       "      <th>label</th>\n",
       "      <th>emotion_name</th>\n",
       "    </tr>\n",
       "  </thead>\n",
       "  <tbody>\n",
       "    <tr>\n",
       "      <th>0</th>\n",
       "      <td>i just feel really helpless and heavy hearted</td>\n",
       "      <td>4</td>\n",
       "      <td>Fear</td>\n",
       "    </tr>\n",
       "    <tr>\n",
       "      <th>1</th>\n",
       "      <td>i have enjoyed being able to slouch about relax and unwind and frankly needed it after those last few weeks around the end of uni and the expo i have lately started to find myself feeling a bit listless which is never really a good thing</td>\n",
       "      <td>0</td>\n",
       "      <td>Sadness</td>\n",
       "    </tr>\n",
       "    <tr>\n",
       "      <th>2</th>\n",
       "      <td>i gave up my internship with the dmrg and am feeling distraught</td>\n",
       "      <td>4</td>\n",
       "      <td>Fear</td>\n",
       "    </tr>\n",
       "  </tbody>\n",
       "</table>\n",
       "</div>"
      ],
      "text/plain": [
       "                                                                                                                                                                                                                                            text  \\\n",
       "0                                                                                                                                                                                                  i just feel really helpless and heavy hearted   \n",
       "1  i have enjoyed being able to slouch about relax and unwind and frankly needed it after those last few weeks around the end of uni and the expo i have lately started to find myself feeling a bit listless which is never really a good thing   \n",
       "2                                                                                                                                                                                i gave up my internship with the dmrg and am feeling distraught   \n",
       "\n",
       "   label emotion_name  \n",
       "0      4         Fear  \n",
       "1      0      Sadness  \n",
       "2      4         Fear  "
      ]
     },
     "execution_count": 2,
     "metadata": {},
     "output_type": "execute_result"
    }
   ],
   "source": [
    "# Import data\n",
    "df = pd.read_csv(\"Data/emotions_processed_dataset.csv\")\n",
    "df.head(3)"
   ]
  },
  {
   "cell_type": "code",
   "execution_count": 3,
   "metadata": {},
   "outputs": [
    {
     "name": "stdout",
     "output_type": "stream",
     "text": [
      "<class 'pandas.core.frame.DataFrame'>\n",
      "RangeIndex: 380365 entries, 0 to 380364\n",
      "Data columns (total 3 columns):\n",
      " #   Column        Non-Null Count   Dtype \n",
      "---  ------        --------------   ----- \n",
      " 0   text          380365 non-null  object\n",
      " 1   label         380365 non-null  int64 \n",
      " 2   emotion_name  380365 non-null  object\n",
      "dtypes: int64(1), object(2)\n",
      "memory usage: 8.7+ MB\n"
     ]
    }
   ],
   "source": [
    "# Summary of dataframe\n",
    "df.info()"
   ]
  },
  {
   "cell_type": "code",
   "execution_count": 4,
   "metadata": {},
   "outputs": [],
   "source": [
    "# Specify Random Seeds\n",
    "np.random.seed(42)\n",
    "tf.random.set_seed(42)"
   ]
  },
  {
   "cell_type": "markdown",
   "metadata": {},
   "source": [
    "\n",
    "---\n",
    "\n",
    "<b> 2. Prepare Data for Modelling </b>\n",
    "\n",
    "Outline\n",
    "* (a) Evaluate Class Imbalance\n",
    "* (b) Perform Train-Test-Split\n",
    "* (c) Address Class Imbalance\n",
    "* (d) Tokenise & Pad Text Sequences"
   ]
  },
  {
   "cell_type": "markdown",
   "metadata": {},
   "source": [
    "<b> (a) Evaluate Class Imbalance </b>"
   ]
  },
  {
   "cell_type": "code",
   "execution_count": 5,
   "metadata": {},
   "outputs": [
    {
     "name": "stdout",
     "output_type": "stream",
     "text": [
      "== Examine Class Imbalance ==\n",
      "\n",
      "= Counts =\n",
      "\n",
      "   label emotion_name   count\n",
      "0      0      Sadness  118152\n",
      "1      1          Joy  134709\n",
      "2      2         Love   29410\n",
      "3      3        Anger   54597\n",
      "4      4         Fear   43497\n",
      "\n",
      "= Proportions =\n",
      "\n",
      "label  emotion_name\n",
      "0      Sadness         0.310628\n",
      "1      Joy             0.354157\n",
      "2      Love            0.077320\n",
      "3      Anger           0.143538\n",
      "4      Fear            0.114356\n",
      "dtype: float64\n"
     ]
    }
   ],
   "source": [
    "# Examine Class Imbalance\n",
    "print(\"== Examine Class Imbalance ==\\n\")\n",
    "\n",
    "# Counts\n",
    "class_counts = df.groupby(['label', 'emotion_name']).size().reset_index(name='count')\n",
    "print(\"= Counts =\\n\")\n",
    "print(class_counts[['label', 'emotion_name', 'count']])\n",
    "\n",
    "# Proportions\n",
    "print(\"\\n= Proportions =\\n\")\n",
    "class_proportions = df.groupby(['label', 'emotion_name']).size() / len(df)\n",
    "print(class_proportions)"
   ]
  },
  {
   "cell_type": "markdown",
   "metadata": {},
   "source": [
    "Comments: Class Imbalance\n",
    "* Class [0]: Sadness ; Class [1]: Joy, Class [2]: Love, Class [3]: Anger, Class [4]: Fear\n",
    "* There are a disproportionately high number of \"Sadness\" (94522), \"Joy\" (107767), and \"Anger\" (43678) instances.\n",
    "* There are a disproportionately low number of \"Love\" (23528) instances.\n",
    "\n",
    "Comments: Approach to Addressing Class Imbalance\n",
    "* Undersampling (oversampling) of the most (least) numerous class to attain a count equivalent to the \"Fear\" class (as it has a count between both classes), where we'll:\n",
    "    * undersample: the most numerous classes (\"Sadness\", \"Joy\", and \"Anger\") \n",
    "    * oversample: the least numerous class (\"Love\")\n",
    "\n",
    "* To prevent \"training\" data from leaking into the \"testing\" data - the class rebalancing procedure will be applied:\n",
    "    * after the \"train-test-split\" step, and\n",
    "    * applied to the \"training\" sample only"
   ]
  },
  {
   "cell_type": "markdown",
   "metadata": {},
   "source": [
    "<b> (b) Perform Train-Test-Split </b>"
   ]
  },
  {
   "cell_type": "code",
   "execution_count": 6,
   "metadata": {},
   "outputs": [],
   "source": [
    "# Split the dataset first\n",
    "train_df, test_df = train_test_split(df, test_size=0.2, random_state=42, stratify=df[\"label\"])"
   ]
  },
  {
   "cell_type": "markdown",
   "metadata": {},
   "source": [
    "<br>\n",
    "<b> (c) Address Class Imbalance </b>\n"
   ]
  },
  {
   "cell_type": "code",
   "execution_count": 7,
   "metadata": {},
   "outputs": [],
   "source": [
    "# Balance the training dataset\n",
    "class_4_size = train_df[train_df[\"label\"] == 4].shape[0]\n",
    "balanced_train_df = pd.concat([train_df[train_df[\"label\"] == label].sample(n=class_4_size, replace=True, random_state=42) for label in train_df[\"label\"].unique()], axis=0)"
   ]
  },
  {
   "cell_type": "code",
   "execution_count": 8,
   "metadata": {},
   "outputs": [
    {
     "data": {
      "text/plain": [
       "label\n",
       "1    34797\n",
       "4    34797\n",
       "3    34797\n",
       "0    34797\n",
       "2    34797\n",
       "Name: count, dtype: int64"
      ]
     },
     "execution_count": 8,
     "metadata": {},
     "output_type": "execute_result"
    }
   ],
   "source": [
    "# Display the count of each unique label in the 'label' column of the balanced_train_df DataFrame after balancing\n",
    "balanced_train_df['label'].value_counts()"
   ]
  },
  {
   "cell_type": "code",
   "execution_count": 9,
   "metadata": {},
   "outputs": [
    {
     "name": "stdout",
     "output_type": "stream",
     "text": [
      "X_train_bal data type: object\n"
     ]
    }
   ],
   "source": [
    "# Extract 'text' and 'label' columns from balanced_train_df for training\n",
    "X_train_bal = balanced_train_df['text']\n",
    "y_train_bal = balanced_train_df['label']\n",
    "# Extract 'text' and 'label' columns from test_df for testing\n",
    "X_test = test_df['text']\n",
    "y_test = test_df['label']\n",
    "\n",
    "# Print the data type of X_train_bal\n",
    "print(\"X_train_bal data type:\", X_train_bal.dtype)"
   ]
  },
  {
   "cell_type": "code",
   "execution_count": 10,
   "metadata": {},
   "outputs": [
    {
     "name": "stdout",
     "output_type": "stream",
     "text": [
      "Shape y_train_bal: (173985, 5)\n",
      "Shape y_test: (76073, 5)\n"
     ]
    }
   ],
   "source": [
    "# Create copies of y_train_bal and y_test for later reference\n",
    "y_train_bal_i = y_train_bal.copy()\n",
    "y_test_i = y_test.copy()\n",
    "# Convert categorical labels to one-hot encoded format\n",
    "y_train_bal = pd.get_dummies(y_train_bal)\n",
    "y_test      = pd.get_dummies(y_test)\n",
    "# Display the shapes of the one-hot encoded label DataFrames\n",
    "print(\"Shape y_train_bal:\", y_train_bal.shape)\n",
    "print(\"Shape y_test:\", y_test.shape)"
   ]
  },
  {
   "cell_type": "markdown",
   "metadata": {},
   "source": [
    "<br>\n",
    "<b> (d) Tokenise & Pad Text Sequences </b>"
   ]
  },
  {
   "cell_type": "code",
   "execution_count": 11,
   "metadata": {},
   "outputs": [],
   "source": [
    "# Perform Tokenisation\n",
    "\n",
    "# 1. Initialise tokeniser and fit tokeniser on training data \n",
    "tokenizer = Tokenizer()\n",
    "tokenizer.fit_on_texts(X_train_bal)\n",
    "\n",
    "# 2. Use that tokenizer to transform (convert) the text message strings in training and test data into a list of integers where each integer represents the index of that word\n",
    "X_train_bal_seq = tokenizer.texts_to_sequences(X_train_bal)\n",
    "X_test_seq = tokenizer.texts_to_sequences(X_test)"
   ]
  },
  {
   "cell_type": "code",
   "execution_count": 12,
   "metadata": {},
   "outputs": [
    {
     "name": "stdout",
     "output_type": "stream",
     "text": [
      "Preview padded text sequence:\n",
      "[    0     0     0     0     0     0     0     0     0     0     0     0\n",
      "     0     0     0     0     0     0     0     0     0     0     0     0\n",
      "     0     0     0     0     0     0     0     0     0     0     0     0\n",
      "     0     0     0     0     0     0     0     1    21   468     8   813\n",
      "    34 13845]\n"
     ]
    }
   ],
   "source": [
    "# Pad Text Sequences\n",
    "\n",
    "# 1. Obtain maximum length of text sequences in X_train and X_test set to 50 based on EDA done in Notebook 01\n",
    "max_len = 50\n",
    "\n",
    "# 2. Pad Text Sequences\n",
    "X_train_bal_seq_padded = pad_sequences(X_train_bal_seq, max_len)\n",
    "X_test_seq_padded = pad_sequences(X_test_seq, max_len)\n",
    "\n",
    "# 3. Preview padded text sequence\n",
    "print(\"Preview padded text sequence:\")\n",
    "print(X_test_seq_padded[0])"
   ]
  },
  {
   "cell_type": "markdown",
   "metadata": {},
   "source": [
    "<br>\n",
    "\n",
    "---\n",
    "\n",
    "<b> 3. Construct GloVe Word Embedding Matrix </b>\n",
    "\n",
    "As keras' default process to vectorise text sequencess is not semantics-based, a semantics-based approach utilising GloVe word embeddings will be adopted. \n",
    "\n",
    "\n",
    "(a) This step produces a GloVe Word Embedding Matrix required for semantics-based vectorisation, with guidance having been obtained from:\n",
    "* Towards Data Science. Text Classification using Word Embeddings and Deep Learning in Python - Classifying Tweets from ... .\n",
    "* <font size=\"1.5\"> weblink: https://towardsdatascience.com/text-classification-using-word-embeddings-and-deep-learning-in-python-classifying-tweets-from-6fe644fcfc81 </font>\n",
    "<br>\n",
    "\n",
    "(b) Details: GloVe Pre-Trained Word Embeddings Utilised\n",
    "* As our data comprise twitter tweets, a GloVe Word Embedding that was pre-trained on 2 billion tweets will be utilised\n",
    "* While word embedding vectors of dimensions 50d, 100d, & 200d are available, embeddings with <u>200d</u> will be used to capture finer differences between words' semantic meaning\n",
    "* <font size=\"1.5\"> weblink: https://nlp.stanford.edu/projects/glove/ </font>\n",
    "* <font size=\"1.5\"> download link: https://nlp.stanford.edu/data/glove.twitter.27B.zip </font>\n",
    "<br>\n",
    "\n",
    "(c) Broad Outline of Steps Required to Construct the GloVe Word Embedding Matrix\n",
    "1. Recall tokenised \"training\" data\n",
    "2. Create a parsimonious GloVe Word Embedding Matrix containing vectorised forms of the \"training\" data's tokens only \n",
    "    * i.e., other words within GloVe's word embeddings repository are excluded as they are not relevant to our analysis; and their exclusion allows us to conserve as much memory as possible\n",
    "    * code for creating the parsimonious GloVe Word Embedding Matrix: drawn from the \"Towards Data Science\" article referenced above"
   ]
  },
  {
   "cell_type": "code",
   "execution_count": 13,
   "metadata": {},
   "outputs": [],
   "source": [
    "# 1. Recall tokenised \"training\" data\n",
    "tokenizer = Tokenizer()\n",
    "tokenizer.fit_on_texts(X_train_bal)"
   ]
  },
  {
   "cell_type": "code",
   "execution_count": 14,
   "metadata": {},
   "outputs": [],
   "source": [
    "# 2. Define a class to create a parsimonious GloVe Word Embedding Matrix\n",
    "# code source: https://towardsdatascience.com/text-classification-using-word-embeddings-and-deep-learning-in-python-classifying-tweets-from-6fe644fcfc81\n",
    "\n",
    "class Embeddings():\n",
    "\n",
    "    # A class to read a given word embedding file and to create a parsimonious word embedding matrix\n",
    "\n",
    "    def __init__(self, path, vector_dimension):\n",
    "        self.path = path \n",
    "        self.vector_dimension = vector_dimension\n",
    "    \n",
    "    @staticmethod\n",
    "    def get_coefs(word, *arr): \n",
    "        return word, np.asarray(arr, dtype='float32')\n",
    "\n",
    "    def get_embedding_index(self):\n",
    "        embeddings_index = dict(self.get_coefs(*o.split(\" \")) for o in open(self.path, errors='ignore'))\n",
    "        return embeddings_index\n",
    "\n",
    "    def create_embedding_matrix(self, tokenizer, max_features):\n",
    "    \n",
    "        # A method to create the embedding matrix\n",
    "        \n",
    "        model_embed = self.get_embedding_index()\n",
    "\n",
    "        embedding_matrix = np.zeros((max_features + 1, self.vector_dimension))\n",
    "        for word, index in tokenizer.word_index.items():\n",
    "            if index > max_features:\n",
    "                break\n",
    "            else:\n",
    "                try:\n",
    "                    embedding_matrix[index] = model_embed[word]\n",
    "                except:\n",
    "                    continue\n",
    "\n",
    "        return embedding_matrix"
   ]
  },
  {
   "cell_type": "code",
   "execution_count": 15,
   "metadata": {},
   "outputs": [],
   "source": [
    "# 3. Create parsimonious GloVe Word Embedding Matrix\n",
    "\n",
    "embed_path = \"Data/glove.twitter.27B.200d.txt\"\n",
    "embed_dim = 200  # corresponding to the number of dimensions per word in the GloVe repository above \n",
    "\n",
    "embedding = Embeddings(embed_path, embed_dim)\n",
    "embedding_matrix = embedding.create_embedding_matrix(tokenizer, len(tokenizer.word_counts))"
   ]
  },
  {
   "cell_type": "markdown",
   "metadata": {},
   "source": [
    "\n",
    "---\n",
    "\n",
    "<b> 4. Train Classification Model </b>\n",
    "\n",
    "1. Define Model\n",
    "2. Define callbacks\n",
    "3. Fit the RNN model"
   ]
  },
  {
   "cell_type": "code",
   "execution_count": 16,
   "metadata": {},
   "outputs": [
    {
     "name": "stderr",
     "output_type": "stream",
     "text": [
      "WARNING:absl:At this time, the v2.11+ optimizer `tf.keras.optimizers.Adam` runs slowly on M1/M2 Macs, please use the legacy Keras optimizer instead, located at `tf.keras.optimizers.legacy.Adam`.\n"
     ]
    },
    {
     "name": "stdout",
     "output_type": "stream",
     "text": [
      "Model: \"sequential\"\n",
      "_________________________________________________________________\n",
      " Layer (type)                Output Shape              Param #   \n",
      "=================================================================\n",
      " embedding (Embedding)       (None, None, 200)         8512200   \n",
      "                                                                 \n",
      " bidirectional (Bidirection  (None, 64)                59648     \n",
      " al)                                                             \n",
      "                                                                 \n",
      " dense (Dense)               (None, 512)               33280     \n",
      "                                                                 \n",
      " batch_normalization (Batch  (None, 512)               2048      \n",
      " Normalization)                                                  \n",
      "                                                                 \n",
      " dropout (Dropout)           (None, 512)               0         \n",
      "                                                                 \n",
      " dense_1 (Dense)             (None, 5)                 2565      \n",
      "                                                                 \n",
      "=================================================================\n",
      "Total params: 8609741 (32.84 MB)\n",
      "Trainable params: 8608717 (32.84 MB)\n",
      "Non-trainable params: 1024 (4.00 KB)\n",
      "_________________________________________________________________\n"
     ]
    }
   ],
   "source": [
    "# 1. Define a RNN-LSTM model architecture using Keras\n",
    "model = keras.models.Sequential([\n",
    "    \n",
    "    layers.Embedding(len(tokenizer.index_word)+1, embed_dim, weights=[embedding_matrix]),  # weights from: parsimonious GloVe Word Embedding Matrix\n",
    "\n",
    "    layers.Bidirectional(layers.LSTM(32)),\n",
    "    layers.Dense(512, activation='relu', kernel_regularizer='l2'),\n",
    "    layers.BatchNormalization(),\n",
    "    layers.Dropout(0.3),\n",
    "    layers.Dense(5, activation='softmax')\n",
    "])\n",
    "# Configure the model with Adam optimizer, categorical crossentropy loss, and accuracy as the evaluation metric\n",
    "opt = Adam(learning_rate=0.001)\n",
    "model.compile(loss='categorical_crossentropy',\n",
    "              optimizer=opt,\n",
    "              metrics=['accuracy'])\n",
    "\n",
    "model.summary()"
   ]
  },
  {
   "cell_type": "code",
   "execution_count": 17,
   "metadata": {},
   "outputs": [],
   "source": [
    "# 2. Define callbacks\n",
    "\n",
    "# EarlyStopping callback to stop training if 'val_accuracy' doesn't improve for 10 consecutive epochs,\n",
    "# Restoring the weights of the epoch with the best validation accuracy.\n",
    "es = EarlyStopping(patience=10,\n",
    "                   monitor = 'val_accuracy',\n",
    "                   restore_best_weights = True)\n",
    " \n",
    "# Reduce learning rate by a factor of 0.5 if 'val_loss' doesn't improve for 5 consecutive epochs.   \n",
    "lr = ReduceLROnPlateau(patience = 5,\n",
    "                       monitor = 'val_loss',\n",
    "                       factor = 0.5,\n",
    "                       verbose = 0)"
   ]
  },
  {
   "cell_type": "code",
   "execution_count": 18,
   "metadata": {},
   "outputs": [
    {
     "name": "stdout",
     "output_type": "stream",
     "text": [
      "Epoch 1/30\n"
     ]
    },
    {
     "name": "stdout",
     "output_type": "stream",
     "text": [
      "5438/5438 [==============================] - 147s 27ms/step - loss: 0.2656 - accuracy: 0.9315 - val_loss: 0.0879 - val_accuracy: 0.9685 - lr: 0.0010\n",
      "Epoch 2/30\n",
      "5438/5438 [==============================] - 145s 27ms/step - loss: 0.0723 - accuracy: 0.9774 - val_loss: 0.0994 - val_accuracy: 0.9690 - lr: 0.0010\n",
      "Epoch 3/30\n",
      "5438/5438 [==============================] - 142s 26ms/step - loss: 0.0513 - accuracy: 0.9843 - val_loss: 0.1199 - val_accuracy: 0.9668 - lr: 0.0010\n",
      "Epoch 4/30\n",
      "5438/5438 [==============================] - 151s 28ms/step - loss: 0.0380 - accuracy: 0.9891 - val_loss: 0.1211 - val_accuracy: 0.9687 - lr: 0.0010\n",
      "Epoch 5/30\n",
      "5438/5438 [==============================] - 152s 28ms/step - loss: 0.0296 - accuracy: 0.9920 - val_loss: 0.1235 - val_accuracy: 0.9690 - lr: 0.0010\n",
      "Epoch 6/30\n",
      "5438/5438 [==============================] - 156s 29ms/step - loss: 0.0247 - accuracy: 0.9935 - val_loss: 0.1301 - val_accuracy: 0.9683 - lr: 0.0010\n",
      "Epoch 7/30\n",
      "5438/5438 [==============================] - 151s 28ms/step - loss: 0.0147 - accuracy: 0.9963 - val_loss: 0.1413 - val_accuracy: 0.9699 - lr: 5.0000e-04\n",
      "Epoch 8/30\n",
      "5438/5438 [==============================] - 150s 28ms/step - loss: 0.0113 - accuracy: 0.9971 - val_loss: 0.1634 - val_accuracy: 0.9703 - lr: 5.0000e-04\n",
      "Epoch 9/30\n",
      "5438/5438 [==============================] - 150s 28ms/step - loss: 0.0104 - accuracy: 0.9975 - val_loss: 0.1916 - val_accuracy: 0.9689 - lr: 5.0000e-04\n",
      "Epoch 10/30\n",
      "5438/5438 [==============================] - 147s 27ms/step - loss: 0.0097 - accuracy: 0.9978 - val_loss: 0.1670 - val_accuracy: 0.9698 - lr: 5.0000e-04\n",
      "Epoch 11/30\n",
      "5438/5438 [==============================] - 145s 27ms/step - loss: 0.0083 - accuracy: 0.9982 - val_loss: 0.2075 - val_accuracy: 0.9684 - lr: 5.0000e-04\n",
      "Epoch 12/30\n",
      "5438/5438 [==============================] - 154s 28ms/step - loss: 0.0054 - accuracy: 0.9990 - val_loss: 0.2072 - val_accuracy: 0.9692 - lr: 2.5000e-04\n",
      "Epoch 13/30\n",
      "5438/5438 [==============================] - 148s 27ms/step - loss: 0.0042 - accuracy: 0.9991 - val_loss: 0.2164 - val_accuracy: 0.9695 - lr: 2.5000e-04\n",
      "Epoch 14/30\n",
      "5438/5438 [==============================] - 146s 27ms/step - loss: 0.0038 - accuracy: 0.9992 - val_loss: 0.2283 - val_accuracy: 0.9691 - lr: 2.5000e-04\n",
      "Epoch 15/30\n",
      "5438/5438 [==============================] - 161s 30ms/step - loss: 0.0035 - accuracy: 0.9994 - val_loss: 0.2104 - val_accuracy: 0.9698 - lr: 2.5000e-04\n",
      "Epoch 16/30\n",
      "5438/5438 [==============================] - 166s 31ms/step - loss: 0.0034 - accuracy: 0.9993 - val_loss: 0.2513 - val_accuracy: 0.9698 - lr: 2.5000e-04\n",
      "Epoch 17/30\n",
      "5438/5438 [==============================] - 164s 30ms/step - loss: 0.0025 - accuracy: 0.9996 - val_loss: 0.2328 - val_accuracy: 0.9697 - lr: 1.2500e-04\n",
      "Epoch 18/30\n",
      "5438/5438 [==============================] - 163s 30ms/step - loss: 0.0021 - accuracy: 0.9996 - val_loss: 0.2316 - val_accuracy: 0.9700 - lr: 1.2500e-04\n"
     ]
    }
   ],
   "source": [
    "# 3. Fit the RNN model\n",
    "start_time = time.time()\n",
    "history = model.fit(X_train_bal_seq_padded, y_train_bal,\n",
    "                    validation_data=(X_test_seq_padded, y_test),\n",
    "                    epochs=30,\n",
    "                    verbose=1,\n",
    "                    batch_size=32,\n",
    "                    callbacks=[lr, es])\n",
    "end_time = time.time()"
   ]
  },
  {
   "cell_type": "code",
   "execution_count": 19,
   "metadata": {},
   "outputs": [
    {
     "name": "stdout",
     "output_type": "stream",
     "text": [
      "Time taken to run the model: 2738.0095427036285 seconds\n"
     ]
    }
   ],
   "source": [
    "print(f\"Time taken to run the model: {end_time - start_time} seconds\")"
   ]
  },
  {
   "cell_type": "markdown",
   "metadata": {},
   "source": [
    "\n",
    "---\n",
    "\n",
    "<b> 5. Evaluate Classification Model </b>\n",
    "\n",
    "(a) Evaluate loss and accuracy epoch-by-epoch"
   ]
  },
  {
   "cell_type": "code",
   "execution_count": 20,
   "metadata": {},
   "outputs": [
    {
     "data": {
      "image/png": "[encoded data removed]",
      "text/plain": [
       "<Figure size 640x480 with 1 Axes>"
      ]
     },
     "metadata": {},
     "output_type": "display_data"
    },
    {
     "data": {
      "image/png": "[encoded data removed]",
      "text/plain": [
       "<Figure size 640x480 with 1 Axes>"
      ]
     },
     "metadata": {},
     "output_type": "display_data"
    }
   ],
   "source": [
    "# Graph: loss and accuracy epoch-by-epoch\n",
    "history_df = pd.DataFrame(history.history)\n",
    "history_df.loc[:, ['loss', 'val_loss']].plot()\n",
    "history_df.loc[:, ['accuracy', 'val_accuracy']].plot()\n",
    "plt.show()"
   ]
  },
  {
   "cell_type": "code",
   "execution_count": 21,
   "metadata": {},
   "outputs": [
    {
     "data": {
      "text/html": [
       "<div>\n",
       "<style scoped>\n",
       "    .dataframe tbody tr th:only-of-type {\n",
       "        vertical-align: middle;\n",
       "    }\n",
       "\n",
       "    .dataframe tbody tr th {\n",
       "        vertical-align: top;\n",
       "    }\n",
       "\n",
       "    .dataframe thead th {\n",
       "        text-align: right;\n",
       "    }\n",
       "</style>\n",
       "<table border=\"1\" class=\"dataframe\">\n",
       "  <thead>\n",
       "    <tr style=\"text-align: right;\">\n",
       "      <th></th>\n",
       "      <th>loss</th>\n",
       "      <th>accuracy</th>\n",
       "      <th>val_loss</th>\n",
       "      <th>val_accuracy</th>\n",
       "      <th>lr</th>\n",
       "    </tr>\n",
       "  </thead>\n",
       "  <tbody>\n",
       "    <tr>\n",
       "      <th>0</th>\n",
       "      <td>0.265608</td>\n",
       "      <td>0.931471</td>\n",
       "      <td>0.087884</td>\n",
       "      <td>0.968451</td>\n",
       "      <td>0.001000</td>\n",
       "    </tr>\n",
       "    <tr>\n",
       "      <th>1</th>\n",
       "      <td>0.072261</td>\n",
       "      <td>0.977429</td>\n",
       "      <td>0.099413</td>\n",
       "      <td>0.968990</td>\n",
       "      <td>0.001000</td>\n",
       "    </tr>\n",
       "    <tr>\n",
       "      <th>2</th>\n",
       "      <td>0.051342</td>\n",
       "      <td>0.984275</td>\n",
       "      <td>0.119918</td>\n",
       "      <td>0.966769</td>\n",
       "      <td>0.001000</td>\n",
       "    </tr>\n",
       "    <tr>\n",
       "      <th>3</th>\n",
       "      <td>0.037973</td>\n",
       "      <td>0.989062</td>\n",
       "      <td>0.121057</td>\n",
       "      <td>0.968714</td>\n",
       "      <td>0.001000</td>\n",
       "    </tr>\n",
       "    <tr>\n",
       "      <th>4</th>\n",
       "      <td>0.029551</td>\n",
       "      <td>0.992045</td>\n",
       "      <td>0.123452</td>\n",
       "      <td>0.969043</td>\n",
       "      <td>0.001000</td>\n",
       "    </tr>\n",
       "    <tr>\n",
       "      <th>5</th>\n",
       "      <td>0.024738</td>\n",
       "      <td>0.993471</td>\n",
       "      <td>0.130067</td>\n",
       "      <td>0.968346</td>\n",
       "      <td>0.001000</td>\n",
       "    </tr>\n",
       "    <tr>\n",
       "      <th>6</th>\n",
       "      <td>0.014715</td>\n",
       "      <td>0.996276</td>\n",
       "      <td>0.141262</td>\n",
       "      <td>0.969911</td>\n",
       "      <td>0.000500</td>\n",
       "    </tr>\n",
       "    <tr>\n",
       "      <th>7</th>\n",
       "      <td>0.011306</td>\n",
       "      <td>0.997149</td>\n",
       "      <td>0.163428</td>\n",
       "      <td>0.970344</td>\n",
       "      <td>0.000500</td>\n",
       "    </tr>\n",
       "    <tr>\n",
       "      <th>8</th>\n",
       "      <td>0.010399</td>\n",
       "      <td>0.997500</td>\n",
       "      <td>0.191642</td>\n",
       "      <td>0.968898</td>\n",
       "      <td>0.000500</td>\n",
       "    </tr>\n",
       "    <tr>\n",
       "      <th>9</th>\n",
       "      <td>0.009698</td>\n",
       "      <td>0.997816</td>\n",
       "      <td>0.167012</td>\n",
       "      <td>0.969832</td>\n",
       "      <td>0.000500</td>\n",
       "    </tr>\n",
       "    <tr>\n",
       "      <th>10</th>\n",
       "      <td>0.008328</td>\n",
       "      <td>0.998190</td>\n",
       "      <td>0.207502</td>\n",
       "      <td>0.968438</td>\n",
       "      <td>0.000500</td>\n",
       "    </tr>\n",
       "    <tr>\n",
       "      <th>11</th>\n",
       "      <td>0.005359</td>\n",
       "      <td>0.998954</td>\n",
       "      <td>0.207172</td>\n",
       "      <td>0.969174</td>\n",
       "      <td>0.000250</td>\n",
       "    </tr>\n",
       "    <tr>\n",
       "      <th>12</th>\n",
       "      <td>0.004211</td>\n",
       "      <td>0.999126</td>\n",
       "      <td>0.216382</td>\n",
       "      <td>0.969503</td>\n",
       "      <td>0.000250</td>\n",
       "    </tr>\n",
       "    <tr>\n",
       "      <th>13</th>\n",
       "      <td>0.003816</td>\n",
       "      <td>0.999201</td>\n",
       "      <td>0.228253</td>\n",
       "      <td>0.969069</td>\n",
       "      <td>0.000250</td>\n",
       "    </tr>\n",
       "    <tr>\n",
       "      <th>14</th>\n",
       "      <td>0.003526</td>\n",
       "      <td>0.999351</td>\n",
       "      <td>0.210364</td>\n",
       "      <td>0.969779</td>\n",
       "      <td>0.000250</td>\n",
       "    </tr>\n",
       "    <tr>\n",
       "      <th>15</th>\n",
       "      <td>0.003448</td>\n",
       "      <td>0.999345</td>\n",
       "      <td>0.251292</td>\n",
       "      <td>0.969779</td>\n",
       "      <td>0.000250</td>\n",
       "    </tr>\n",
       "    <tr>\n",
       "      <th>16</th>\n",
       "      <td>0.002515</td>\n",
       "      <td>0.999557</td>\n",
       "      <td>0.232811</td>\n",
       "      <td>0.969726</td>\n",
       "      <td>0.000125</td>\n",
       "    </tr>\n",
       "    <tr>\n",
       "      <th>17</th>\n",
       "      <td>0.002071</td>\n",
       "      <td>0.999569</td>\n",
       "      <td>0.231645</td>\n",
       "      <td>0.969989</td>\n",
       "      <td>0.000125</td>\n",
       "    </tr>\n",
       "  </tbody>\n",
       "</table>\n",
       "</div>"
      ],
      "text/plain": [
       "        loss  accuracy  val_loss  val_accuracy        lr\n",
       "0   0.265608  0.931471  0.087884      0.968451  0.001000\n",
       "1   0.072261  0.977429  0.099413      0.968990  0.001000\n",
       "2   0.051342  0.984275  0.119918      0.966769  0.001000\n",
       "3   0.037973  0.989062  0.121057      0.968714  0.001000\n",
       "4   0.029551  0.992045  0.123452      0.969043  0.001000\n",
       "5   0.024738  0.993471  0.130067      0.968346  0.001000\n",
       "6   0.014715  0.996276  0.141262      0.969911  0.000500\n",
       "7   0.011306  0.997149  0.163428      0.970344  0.000500\n",
       "8   0.010399  0.997500  0.191642      0.968898  0.000500\n",
       "9   0.009698  0.997816  0.167012      0.969832  0.000500\n",
       "10  0.008328  0.998190  0.207502      0.968438  0.000500\n",
       "11  0.005359  0.998954  0.207172      0.969174  0.000250\n",
       "12  0.004211  0.999126  0.216382      0.969503  0.000250\n",
       "13  0.003816  0.999201  0.228253      0.969069  0.000250\n",
       "14  0.003526  0.999351  0.210364      0.969779  0.000250\n",
       "15  0.003448  0.999345  0.251292      0.969779  0.000250\n",
       "16  0.002515  0.999557  0.232811      0.969726  0.000125\n",
       "17  0.002071  0.999569  0.231645      0.969989  0.000125"
      ]
     },
     "execution_count": 21,
     "metadata": {},
     "output_type": "execute_result"
    }
   ],
   "source": [
    "# Table: loss and accuracy epoch-by-epoch\n",
    "history_df"
   ]
  },
  {
   "cell_type": "code",
   "execution_count": 22,
   "metadata": {},
   "outputs": [
    {
     "name": "stdout",
     "output_type": "stream",
     "text": [
      "Best epoch:  8\n"
     ]
    }
   ],
   "source": [
    "# Identify best epoch\n",
    "best_epoch = np.argmax(history.history['val_accuracy']) + 1\n",
    "print(\"Best epoch: \", best_epoch)"
   ]
  },
  {
   "cell_type": "markdown",
   "metadata": {},
   "source": [
    "(b) Obtain model evaluation metrics"
   ]
  },
  {
   "cell_type": "code",
   "execution_count": 23,
   "metadata": {},
   "outputs": [],
   "source": [
    "# Define function: generate predicted classes as a numpy array\n",
    "\n",
    "def pred_class(pred_prob_varname):\n",
    "\n",
    "    pred_class_all = np.array([])\n",
    "    for pred_prob_array in pred_prob_varname:\n",
    "        pred_class = np.argmax(pred_prob_array)\n",
    "        pred_class_all = np.append(pred_class_all, pred_class)\n",
    "    \n",
    "    return pred_class_all"
   ]
  },
  {
   "cell_type": "code",
   "execution_count": 24,
   "metadata": {},
   "outputs": [
    {
     "name": "stdout",
     "output_type": "stream",
     "text": [
      "5438/5438 [==============================] - 22s 4ms/step\n",
      "2378/2378 [==============================] - 9s 4ms/step\n"
     ]
    }
   ],
   "source": [
    "# Obtain predicted probabilities and classes\n",
    "y_train_pred_prob  = model.predict(X_train_bal_seq_padded)\n",
    "y_train_pred_class = pred_class(y_train_pred_prob)\n",
    "\n",
    "y_test_pred_prob  = model.predict(X_test_seq_padded)\n",
    "y_test_pred_class = pred_class(y_test_pred_prob)"
   ]
  },
  {
   "cell_type": "code",
   "execution_count": 25,
   "metadata": {},
   "outputs": [
    {
     "data": {
      "text/plain": [
       "array([1, 4, 3, 0, 2])"
      ]
     },
     "execution_count": 25,
     "metadata": {},
     "output_type": "execute_result"
    }
   ],
   "source": [
    "y_train_bal_i.unique()"
   ]
  },
  {
   "cell_type": "code",
   "execution_count": 26,
   "metadata": {},
   "outputs": [
    {
     "name": "stdout",
     "output_type": "stream",
     "text": [
      "== Classification Report: Training Data == \n",
      "\n",
      "              precision    recall  f1-score   support\n",
      "\n",
      "     Sadness       1.00      1.00      1.00     34797\n",
      "         Joy       1.00      1.00      1.00     34797\n",
      "        Love       1.00      1.00      1.00     34797\n",
      "       Anger       1.00      1.00      1.00     34797\n",
      "        Fear       1.00      1.00      1.00     34797\n",
      "\n",
      "    accuracy                           1.00    173985\n",
      "   macro avg       1.00      1.00      1.00    173985\n",
      "weighted avg       1.00      1.00      1.00    173985\n",
      "\n"
     ]
    }
   ],
   "source": [
    "# Print model evaluation metrics: \"training\" data\n",
    "print(\"== Classification Report: Training Data ==\", \"\\n\")\n",
    "print(classification_report(y_train_bal_i, y_train_pred_class, target_names = [\"Sadness\", \"Joy\", \"Love\", \"Anger\", \"Fear\"]))"
   ]
  },
  {
   "cell_type": "code",
   "execution_count": 27,
   "metadata": {},
   "outputs": [
    {
     "data": {
      "text/plain": [
       "array([1, 4, 0, 3, 2])"
      ]
     },
     "execution_count": 27,
     "metadata": {},
     "output_type": "execute_result"
    }
   ],
   "source": [
    "y_test_i.unique()"
   ]
  },
  {
   "cell_type": "code",
   "execution_count": 28,
   "metadata": {},
   "outputs": [
    {
     "name": "stdout",
     "output_type": "stream",
     "text": [
      "== Classification Report: Testing Data == \n",
      "\n",
      "              precision    recall  f1-score   support\n",
      "\n",
      "     Sadness       0.99      0.98      0.98     23630\n",
      "         Joy       0.99      0.97      0.98     26942\n",
      "        Love       0.88      0.96      0.91      5882\n",
      "       Anger       0.96      0.97      0.96     10919\n",
      "        Fear       0.96      0.97      0.96      8700\n",
      "\n",
      "    accuracy                           0.97     76073\n",
      "   macro avg       0.95      0.97      0.96     76073\n",
      "weighted avg       0.97      0.97      0.97     76073\n",
      "\n"
     ]
    }
   ],
   "source": [
    "# Print model evaluation metrics: \"testing\" data\n",
    "print(\"== Classification Report: Testing Data ==\", \"\\n\")\n",
    "print(classification_report(y_test_i, y_test_pred_class, target_names = [\"Sadness\", \"Joy\", \"Love\", \"Anger\", \"Fear\"]))"
   ]
  },
  {
   "cell_type": "markdown",
   "metadata": {},
   "source": [
    "**Comments**\n",
    "\n",
    "(a) Evaluation Metrics of Interest\n",
    "\n",
    "* **Accuracy**: This is the percentage of predictions that are correct. It provides a general measure of how well the model performs across all classes.\n",
    "\n",
    "* **F1-Score**: This is a composite measure that considers both precision and recall. It provides a balance between the need to accurately identify positive instances (precision) and the need to cover as much of the positive instances as possible (recall).\n",
    "    * **Precision**: This is the percentage of predicted positives that are true. A low precision score on detecting a particular emotion indicates that the model is wrongly classifying other emotions as that particular emotion.\n",
    "    * **Recall**: This is the percentage of actual positives that are predicted correctly. A high recall score is desirable as it indicates that the model is able to identify a high proportion of instances for each emotion.\n",
    "\n",
    "Performance on: \"Training\" Data\n",
    "* The model exhibits perfect performance on the training data across all classes (Sadness, Joy, Love, Anger, Fear), with precision, recall, f1-score, and overall accuracy all being 1.00. This could be indicative of overfitting, as it suggests that the model has learned the training data perfectly.\n",
    "\n",
    "Performance on: \"Testing\" Data\n",
    "* Despite the potential overfitting suggested by the training data results, the model's performance on the testing data is quite good, with an overall accuracy of 0.97. This indicates that the model generalizes well to unseen data.\n",
    "* There are some differences in performance across the classes:\n",
    "    * For the classes Sadness, Joy, Anger, and Fear, the model performs very well with precision, recall, and f1-scores all above 0.96.\n",
    "    * For the Love class, the precision is slightly lower at 0.88, but the recall is quite high at 0.96. This suggests that the model is able to correctly identify most of the actual Love instances, but it also incorrectly identifies some instances of other classes as Love.\n",
    "\n",
    "In conclusion, despite the potential overfitting suggested by the training data results, the model's good performance on the testing data indicates that it generalizes well to unseen data."
   ]
  },
  {
   "cell_type": "markdown",
   "metadata": {},
   "source": [
    "\n",
    "---\n",
    "\n",
    "<b> 6. Comparison of all 5 Model Performance - Distilbert vs Naive Bayes vs Logistic Regression vs XG Boost vs RNN with Glove Word Embeddings </b>\n",
    "\n",
    "<br>\n",
    "\n",
    "(a) DistilBert\n",
    "\n",
    "|Multinomial|Train Accuracy|Test Precision|Test Recall|Test F1-Score|Test Accuracy|Support|Time seconds|\n",
    "|---|---|---|---|---|---|---|---|\n",
    "|Class 0: Sadness|---|0.65|0.55|0.59|---|23630|---|\n",
    "|Class 1: Joy|---|0.78|0.61|0.68|---|26942|---|\n",
    "|Class 2: Love|---|0.34|0.42|0.38|---|5882|---|\n",
    "|Class 3: Anger|---|0.48|0.52|0.50|---|10919|---|\n",
    "|Class 4: Fear|---|0.38|0.70|0.49|---|8700|---|\n",
    "|Overall|0.44|---|---|---|0.57|76073|30534|\n",
    "\n",
    "<br>\n",
    "\n",
    "<br>\n",
    "\n",
    "(b) Naive Bayes\n",
    "\n",
    "|Multinomial|Train Accuracy|Test Precision|Test Recall|Test F1-Score|Test Accuracy|Support|Time seconds|\n",
    "|---|---|---|---|---|---|---|---|\n",
    "|Class 0: Sadness|---|0.97|0.93|0.95|---|23630|---|\n",
    "|Class 1: Joy|---|0.97|0.90|0.94|---|26942|---|\n",
    "|Class 2: Love|---|0.74|0.96|0.84|---|5882|---|\n",
    "|Class 3: Anger|---|0.91|0.95|0.93|---|10919|---|\n",
    "|Class 4: Fear|---|0.88|0.96|0.92|---|8700|---|\n",
    "|Overall|0.95|---|---|---|0.93|76073|1497|\n",
    "\n",
    "<br>\n",
    "\n",
    "<br>\n",
    "\n",
    "(c) Logistic Regression\n",
    "\n",
    "|Multinomial|Train Accuracy|Test Precision|Test Recall|Test F1-Score|Test Accuracy|Support|Time seconds|\n",
    "|---|---|---|---|---|---|---|---|\n",
    "|Class 0: Sadness|---|0.97|0.94|0.96|---|23630|---|\n",
    "|Class 1: Joy|---|0.97|0.93|0.95|---|26942|---|\n",
    "|Class 2: Love|---|0.81|0.98|0.89|---|5882|---|\n",
    "|Class 3: Anger|---|0.93|0.95|0.94|---|10919|---|\n",
    "|Class 4: Fear|---|0.92|0.96|0.94|---|8700|---|\n",
    "|Overall|0.97|---|---|---|0.94|76073|1043|\n",
    "\n",
    "<br>\n",
    "\n",
    "(d) XG Boost\n",
    "\n",
    "|Multinomial|Train Accuracy|Test Precision|Test Recall|Test F1-Score|Test Accuracy|Support|Time seconds|\n",
    "|---|---|---|---|---|---|---|---|\n",
    "|Class 0: Sadness|---|0.95|0.91|0.93|---|23630|---|\n",
    "|Class 1: Joy|---|0.96|0.92|0.94|---|26942|---|\n",
    "|Class 2: Love|---|0.78|0.99|0.87|---|5882|---|\n",
    "|Class 3: Anger|---|0.93|0.92|0.92|---|10919|---|\n",
    "|Class 4: Fear|---|0.89|0.96|0.92|---|8700|---|\n",
    "|Overall|0.95|---|---|---|0.93|76073|2010|\n",
    "\n",
    "<br>\n",
    "\n",
    "<br>\n",
    "\n",
    "(e) RNN with Glove Word Embeddings\n",
    "\n",
    "|Multinomial|Train Accuracy|Test Precision|Test Recall|Test F1-Score|Test Accuracy|Support|Time seconds|\n",
    "|---|---|---|---|---|---|---|---|\n",
    "|Class 0: Sadness|---|0.99|0.98|0.98|---|23630|---|\n",
    "|Class 1: Joy|---|0.99|0.97|0.98|---|26942|---|\n",
    "|Class 2: Love|---|0.88|0.96|0.91|---|5882|---|\n",
    "|Class 3: Anger|---|0.96|0.97|0.96|---|10919|---|\n",
    "|Class 4: Fear|---|0.96|0.97|0.96|---|8700|---|\n",
    "|Overall|1.00|---|---|---|0.97|76073|2738|\n",
    "\n",
    "<br>"
   ]
  },
  {
   "cell_type": "markdown",
   "metadata": {},
   "source": [
    "# Emotion Classification Models Evaluation\n",
    "\n",
    "We trained five different models to classify text into five emotions: Sadness, Joy, Love, Anger, and Fear. The models were evaluated based on their F1-Score, Test Accuracy, and efficiency (time to run each model).\n",
    "\n",
    "## Evaluation Metrics\n",
    "\n",
    "1. **Accuracy**: This metric is particularly important in this case because we have a multi-class problem. A high accuracy means that the model is good at predicting the correct emotion class out of the five possible classes. \n",
    "\n",
    "2. **F1-Score**: This metric is crucial for this task because it balances precision and recall. In the context of emotion classification, precision means the percentage of correct predictions for a particular emotion out of all predictions for that emotion, while recall is the percentage of correct predictions for a particular emotion out of all actual instances of that emotion. The F1-score is particularly useful if we want to have a balance between identifying as many instances of each emotion as possible (high recall) and keeping the number of incorrect predictions low (high precision).\n",
    "\n",
    "3. **Efficiency**: This is important because we want the model to be able to process text quickly, especially if we’re dealing with large amounts of data. A model that takes too long to make predictions might not be practical for this use case.\n",
    "\n",
    "## Models Evaluation\n",
    "\n",
    "### Naive Bayes\n",
    "The model has a high overall accuracy and F1-score, which suggests that it’s good at identifying the correct emotion class. However, the F1-score for the ‘Love’ class is relatively low, which means the model might struggle to correctly identify this emotion. The model is also relatively efficient, with a runtime of 1497 seconds.\n",
    "\n",
    "### Logistic Regression\n",
    "The Logistic Regression model outperformed the Naive Bayes model with an overall test accuracy of 0.94 and improved F1-Scores across all classes. It also has a high F1-score for all individual classes, including ‘Love’. Moreover, it’s more efficient than the Naive Bayes model, with a runtime of 1043 seconds.\n",
    "\n",
    "### XG Boost\n",
    "This model has a similar overall accuracy and F1-score to the Naive Bayes model. However, it’s less efficient, with a runtime of 2010 seconds. The F1-score for the ‘Love’ class is higher than for the Naive Bayes model, but lower than for the Logistic Regression model.\n",
    "\n",
    "### Distilbert\n",
    "This model performed really poorly with an overall low accuracy and F1-score. Moreover, it’s computationally intensive, with a runtime of 30534 seconds.\n",
    "\n",
    "### RNN with Glove Word Embeddings\n",
    "This is the best performing model in terms which had the higest overall accuracy and F1-score, suggesting that it’s the best at identifying the correct emotion class. It is however relatively more computationally intensive than the non-neural network models with a runtime of 2738 secondes.\n",
    "\n",
    "\n",
    "### Based on the results, the RNN model using GloVe word embeddings had the best performance. This model is preferred because it combines the strengths of RNNs and GloVe embeddings.\n",
    "- RNNs (Recurrent Neural Networks) are capable of capturing the sequential information present in the text data, which is crucial for understanding the context of words in a sentence. On the other hand, GloVe (Global Vectors for Word Representation) is an unsupervised learning algorithm for obtaining vector representations for words. These embeddings can capture semantic relationships between words, which is beneficial for our task.\n",
    "\n",
    "- However, it’s important to note that while GloVe embeddings capture semantic relationships between words, they are static and do not take into account the context in which a word appears. This means that the same word will have the same representation regardless of its context. For example, the word “apple” would have the same representation in “apple computers” and “apple juice”. Therefore, while the combination of RNNs and GloVe embeddings can capture some level of context, it may not fully capture context-driven semantic word vectorisation."
   ]
  },
  {
   "cell_type": "markdown",
   "metadata": {},
   "source": [
    "\n",
    "---\n",
    "\n",
    "<b> 7. Future Work </b>\n",
    "\n",
    "##### While the DistilBERT model, a transformer-based model, was expected to perform well due to its ability to understand the semantic meaning of words based on their context, it did not meet expectations. Potential reasons could be the model’s complexity and the possibility of insufficient training. Future work could explore tuning the DistilBERT model or providing it with more training data to improve its performance. \n"
   ]
  },
  {
   "cell_type": "markdown",
   "metadata": {},
   "source": [
    "\n",
    "---"
   ]
  },
  {
   "cell_type": "markdown",
   "metadata": {},
   "source": [
    "\n",
    "---\n",
    "\n",
    "<b> 8. Export Model and Tokenizer </b>"
   ]
  },
  {
   "cell_type": "code",
   "execution_count": 29,
   "metadata": {},
   "outputs": [],
   "source": [
    "import os\n",
    "import pickle\n",
    "\n",
    "# Create 'Model' directory if it doesn't exist\n",
    "if not os.path.exists('Model'):\n",
    "    os.makedirs('Model')\n",
    "\n",
    "# Save the tokenizer\n",
    "with open('Model/tokenizer.pickle', 'wb') as handle:\n",
    "    pickle.dump(tokenizer, handle, protocol=pickle.HIGHEST_PROTOCOL)"
   ]
  },
  {
   "cell_type": "code",
   "execution_count": 30,
   "metadata": {},
   "outputs": [],
   "source": [
    "model.save('Model/model_emotions.keras')"
   ]
  }
 ],
 "metadata": {
  "kernelspec": {
   "display_name": "Python 3",
   "language": "python",
   "name": "python3"
  },
  "language_info": {
   "codemirror_mode": {
    "name": "ipython",
    "version": 3
   },
   "file_extension": ".py",
   "mimetype": "text/x-python",
   "name": "python",
   "nbconvert_exporter": "python",
   "pygments_lexer": "ipython3",
   "version": "3.11.7"
  }
 },
 "nbformat": 4,
 "nbformat_minor": 2
}
