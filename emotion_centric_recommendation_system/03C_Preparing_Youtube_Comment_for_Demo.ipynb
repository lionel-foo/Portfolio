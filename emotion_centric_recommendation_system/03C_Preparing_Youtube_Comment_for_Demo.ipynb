{
 "cells": [
  {
   "cell_type": "markdown",
   "metadata": {},
   "source": [
    "<img src=\"http://imgur.com/1ZcRyrc.png\" style=\"float: left; margin: 5px; height: 50px\"> \n",
    "\n",
    "#   Personalizing Music Video Recommendations with Emotional Intelligence\n",
    "\n",
    "> Capstone Project: Lionel Foo\n",
    "\n",
    "---"
   ]
  },
  {
   "cell_type": "code",
   "execution_count": 1,
   "metadata": {},
   "outputs": [],
   "source": [
    "# import library\n",
    "import pandas as pd"
   ]
  },
  {
   "cell_type": "code",
   "execution_count": 2,
   "metadata": {},
   "outputs": [],
   "source": [
    "# Read CSV file named \"youtube_comments_clean.csv\" into pandas DataFrame\n",
    "youtube_comments = pd.read_csv(\"Data/youtube_comments_clean.csv\")"
   ]
  },
  {
   "cell_type": "code",
   "execution_count": 3,
   "metadata": {},
   "outputs": [
    {
     "name": "stdout",
     "output_type": "stream",
     "text": [
      "<class 'pandas.core.frame.DataFrame'>\n",
      "RangeIndex: 55829 entries, 0 to 55828\n",
      "Data columns (total 6 columns):\n",
      " #   Column      Non-Null Count  Dtype \n",
      "---  ------      --------------  ----- \n",
      " 0   author      55820 non-null  object\n",
      " 1   updated_at  55829 non-null  object\n",
      " 2   like_count  55829 non-null  int64 \n",
      " 3   text        55829 non-null  object\n",
      " 4   video_id    55829 non-null  object\n",
      " 5   public      55829 non-null  bool  \n",
      "dtypes: bool(1), int64(1), object(4)\n",
      "memory usage: 2.2+ MB\n"
     ]
    }
   ],
   "source": [
    "# Display information about the DataFrame\n",
    "youtube_comments.info()"
   ]
  },
  {
   "cell_type": "code",
   "execution_count": 4,
   "metadata": {},
   "outputs": [
    {
     "data": {
      "text/html": [
       "<div>\n",
       "<style scoped>\n",
       "    .dataframe tbody tr th:only-of-type {\n",
       "        vertical-align: middle;\n",
       "    }\n",
       "\n",
       "    .dataframe tbody tr th {\n",
       "        vertical-align: top;\n",
       "    }\n",
       "\n",
       "    .dataframe thead th {\n",
       "        text-align: right;\n",
       "    }\n",
       "</style>\n",
       "<table border=\"1\" class=\"dataframe\">\n",
       "  <thead>\n",
       "    <tr style=\"text-align: right;\">\n",
       "      <th></th>\n",
       "      <th>author</th>\n",
       "      <th>comment_origin_video_id</th>\n",
       "      <th>text</th>\n",
       "    </tr>\n",
       "  </thead>\n",
       "  <tbody>\n",
       "    <tr>\n",
       "      <th>0</th>\n",
       "      <td>@Royalchess1</td>\n",
       "      <td>G7KNmW9a75Y</td>\n",
       "      <td>ms miley i have alot of mixed emotions while w...</td>\n",
       "    </tr>\n",
       "    <tr>\n",
       "      <th>1</th>\n",
       "      <td>@mikerooney7600</td>\n",
       "      <td>G7KNmW9a75Y</td>\n",
       "      <td>i love this song it makes every day better</td>\n",
       "    </tr>\n",
       "    <tr>\n",
       "      <th>2</th>\n",
       "      <td>@Ganesh-zs1iv</td>\n",
       "      <td>G7KNmW9a75Y</td>\n",
       "      <td>it is feb and still i am watching it</td>\n",
       "    </tr>\n",
       "  </tbody>\n",
       "</table>\n",
       "</div>"
      ],
      "text/plain": [
       "            author comment_origin_video_id  \\\n",
       "0     @Royalchess1             G7KNmW9a75Y   \n",
       "1  @mikerooney7600             G7KNmW9a75Y   \n",
       "2    @Ganesh-zs1iv             G7KNmW9a75Y   \n",
       "\n",
       "                                                text  \n",
       "0  ms miley i have alot of mixed emotions while w...  \n",
       "1         i love this song it makes every day better  \n",
       "2               it is feb and still i am watching it  "
      ]
     },
     "execution_count": 4,
     "metadata": {},
     "output_type": "execute_result"
    }
   ],
   "source": [
    "# Drop unnecessary columns 'updated_at', 'like_count', and 'public' from the DataFrame\n",
    "youtube_comments.drop(columns=['updated_at', 'like_count', 'public'], inplace=True)\n",
    "# Rename the 'video_id' column to 'comment_origin_video_id'\n",
    "youtube_comments.rename(columns={'video_id': 'comment_origin_video_id'}, inplace=True)\n",
    "# Select and reorder columns 'author', 'comment_origin_video_id', and 'text'\n",
    "youtube_comments = youtube_comments[['author', 'comment_origin_video_id', 'text']]\n",
    "# Display the first 3 rows of the modified DataFrame\n",
    "youtube_comments.head(3)"
   ]
  },
  {
   "cell_type": "code",
   "execution_count": 19,
   "metadata": {},
   "outputs": [],
   "source": [
    "# Rows with index 27386 and 52839\n",
    "specific_rows_indices = [27386, 52839]\n",
    "specific_rows = youtube_comments.loc[specific_rows_indices]\n",
    "\n",
    "# Create a new DataFrame and reset the index\n",
    "youtube_comments_for_demo= pd.concat([specific_rows]).reset_index(drop=True)"
   ]
  },
  {
   "cell_type": "code",
   "execution_count": 20,
   "metadata": {},
   "outputs": [
    {
     "data": {
      "text/html": [
       "<div>\n",
       "<style scoped>\n",
       "    .dataframe tbody tr th:only-of-type {\n",
       "        vertical-align: middle;\n",
       "    }\n",
       "\n",
       "    .dataframe tbody tr th {\n",
       "        vertical-align: top;\n",
       "    }\n",
       "\n",
       "    .dataframe thead th {\n",
       "        text-align: right;\n",
       "    }\n",
       "</style>\n",
       "<table border=\"1\" class=\"dataframe\">\n",
       "  <thead>\n",
       "    <tr style=\"text-align: right;\">\n",
       "      <th></th>\n",
       "      <th>author</th>\n",
       "      <th>comment_origin_video_id</th>\n",
       "      <th>text</th>\n",
       "    </tr>\n",
       "  </thead>\n",
       "  <tbody>\n",
       "    <tr>\n",
       "      <th>0</th>\n",
       "      <td>@Luis-yq8jw</td>\n",
       "      <td>QCtEe-zsCtQ</td>\n",
       "      <td>i lost my great grandpa even though i could no...</td>\n",
       "    </tr>\n",
       "    <tr>\n",
       "      <th>1</th>\n",
       "      <td>@darkizofficial</td>\n",
       "      <td>uS_y_65CcpA</td>\n",
       "      <td>i feel like i am back in positive meaning musi...</td>\n",
       "    </tr>\n",
       "  </tbody>\n",
       "</table>\n",
       "</div>"
      ],
      "text/plain": [
       "            author comment_origin_video_id  \\\n",
       "0      @Luis-yq8jw             QCtEe-zsCtQ   \n",
       "1  @darkizofficial             uS_y_65CcpA   \n",
       "\n",
       "                                                text  \n",
       "0  i lost my great grandpa even though i could no...  \n",
       "1  i feel like i am back in positive meaning musi...  "
      ]
     },
     "execution_count": 20,
     "metadata": {},
     "output_type": "execute_result"
    }
   ],
   "source": [
    "# Check dataframe before exporting\n",
    "youtube_comments_for_demo"
   ]
  },
  {
   "cell_type": "code",
   "execution_count": 21,
   "metadata": {},
   "outputs": [],
   "source": [
    "# export dataframe with comments for demo as csv:\n",
    "youtube_comments_for_demo.to_csv('Demo/youtube_comments_for_demo.csv', index=False)"
   ]
  }
 ],
 "metadata": {
  "kernelspec": {
   "display_name": "base",
   "language": "python",
   "name": "python3"
  },
  "language_info": {
   "codemirror_mode": {
    "name": "ipython",
    "version": 3
   },
   "file_extension": ".py",
   "mimetype": "text/x-python",
   "name": "python",
   "nbconvert_exporter": "python",
   "pygments_lexer": "ipython3",
   "version": "3.11.7"
  }
 },
 "nbformat": 4,
 "nbformat_minor": 2
}
