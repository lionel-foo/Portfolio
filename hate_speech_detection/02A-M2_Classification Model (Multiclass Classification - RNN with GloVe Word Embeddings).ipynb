{
 "cells": [
  {
   "cell_type": "markdown",
   "metadata": {},
   "source": [
    "<img src=\"http://imgur.com/1ZcRyrc.png\" style=\"float: left; margin: 5px; height: 50px\"> \n",
    "\n",
    "#   Project 4: Detecting Hate Speech\n",
    "\n",
    "> SG-DSI-41 Group 01: Lionel Foo, Joel Lim, Poon Wenzhe, Daryl Chia\n",
    "\n",
    "---\n"
   ]
  },
  {
   "cell_type": "markdown",
   "metadata": {},
   "source": [
    "#### <b> Notebook: 02A-M2 Classification Model (Multiclass Classification - RNN with GloVe Word Embeddings) </b>\n",
    "\n",
    "<b>(a) Context: Rationale for Incorporating GloVe Word Embeddings</b>\n",
    "\n",
    "Keras' default word vectorisation approach is non-semantic by nature (i.e., word vectors produced do not reflect how semantically close/far apart words are from each other). [1]\n",
    "\n",
    "GloVe word embeddings will thus be incorporated in our model to enable semantic-based word vectorisation - with the view towards improving the classification model's performance. However, as GloVe's word embeddings are static (i.e., the same word will always have the same representation regardless of the context where it occurs - GloVe treats \"apple\" in \"apple computers\" and \"apple juice\" similarly) - word vectorisation with GloVe does not allow for context-driven semantic word vectorisation. [2] \n",
    "\n",
    "<font size=\"1.5\">\n",
    "\n",
    "References: \n",
    "\n",
    "[1] Towards Data Science. Text Classification using Word Embeddings and Deep Learning in Python - Classifying Tweets from .... \n",
    "<br>https://towardsdatascience.com/text-classification-using-word-embeddings-and-deep-learning-in-python-classifying-tweets-from-6fe644fcfc81\n",
    "\n",
    "[2] David Batista. Language Models and Contextualised Word Embeddings.\n",
    "<br>https://www.davidsbatista.net/blog/2018/12/06/Word_Embeddings/\n",
    "\n",
    "</font>\n",
    "\n",
    "<br>\n",
    "<b>(b) Incorporating GloVe Word Embeddings - Text-Preprocessing: Retention of Stop Words and No Lemmatisation</b>\n",
    "\n",
    "A review of words within the GloVe repository reveals the presence of: \n",
    "* Stop words (e.g., \"to\", \"but\", \"not\")\n",
    "* Words with similar lemmas that have different word vectors (e.g., \"computer\", \"computerized\", \"supercomputers\")\n",
    "\n",
    "As such, stop words will be retained, and lemmatisation will not be performed. \n",
    "\n",
    "<br>\n",
    "<b>(c) Notebook Outline</b>\n",
    "\n",
    "1. Import Libraries, Data & Specify Random Seeds\n",
    "2. Prepare Data for Modelling\n",
    "3. Construct GloVe Word Embedding Matrix\n",
    "4. Train Classification Model\n",
    "5. Evaluate Classification Model\n",
    "6. Comparison of Model Performance - Multinomial Classifier: w/out and w GloVe-based Word Vectoriser\n",
    "7. Key Insights & Steps Going Forward\n"
   ]
  },
  {
   "cell_type": "markdown",
   "metadata": {},
   "source": [
    "---\n",
    "\n",
    "<b> 1. Import Libraries, Data & Specify Random Seeds </b>"
   ]
  },
  {
   "cell_type": "code",
   "execution_count": 1,
   "metadata": {},
   "outputs": [],
   "source": [
    "# Imports: standard\n",
    "import pandas as pd\n",
    "import numpy as np\n",
    "import re\n",
    "\n",
    "import seaborn as sns\n",
    "import matplotlib.pyplot as plt\n",
    "\n",
    "from sklearn.model_selection import train_test_split\n",
    "from sklearn.metrics import classification_report\n",
    "\n",
    "import joblib\n",
    "\n",
    "# Imports: tensorflow for model building\n",
    "import tensorflow as tf\n",
    "from tensorflow import keras\n",
    "from keras import layers\n",
    "from tensorflow.keras.preprocessing.text import Tokenizer\n",
    "from tensorflow.keras.preprocessing.sequence import pad_sequences\n",
    "from tensorflow.keras.optimizers import Adam\n",
    "from keras.callbacks import EarlyStopping, ReduceLROnPlateau\n",
    "\n",
    "# from keras.models import Sequential\n",
    "# from keras.layers import Embedding\n",
    "\n",
    "# this setting widens how many characters pandas will display in a column:\n",
    "pd.options.display.max_colwidth = 4000"
   ]
  },
  {
   "cell_type": "code",
   "execution_count": 2,
   "metadata": {},
   "outputs": [
    {
     "data": {
      "text/html": [
       "<div>\n",
       "<style scoped>\n",
       "    .dataframe tbody tr th:only-of-type {\n",
       "        vertical-align: middle;\n",
       "    }\n",
       "\n",
       "    .dataframe tbody tr th {\n",
       "        vertical-align: top;\n",
       "    }\n",
       "\n",
       "    .dataframe thead th {\n",
       "        text-align: right;\n",
       "    }\n",
       "</style>\n",
       "<table border=\"1\" class=\"dataframe\">\n",
       "  <thead>\n",
       "    <tr style=\"text-align: right;\">\n",
       "      <th></th>\n",
       "      <th>class</th>\n",
       "      <th>tweet</th>\n",
       "    </tr>\n",
       "  </thead>\n",
       "  <tbody>\n",
       "    <tr>\n",
       "      <th>0</th>\n",
       "      <td>2</td>\n",
       "      <td>as a woman you should not complain about cleaning up your house as a man you should always take the trash out</td>\n",
       "    </tr>\n",
       "    <tr>\n",
       "      <th>1</th>\n",
       "      <td>1</td>\n",
       "      <td>boy dats cold tyga dwn bad for cuffin dat hoe in the st place</td>\n",
       "    </tr>\n",
       "    <tr>\n",
       "      <th>2</th>\n",
       "      <td>1</td>\n",
       "      <td>dawg you ever fuck a bitch and she start to cry you be confused as shit</td>\n",
       "    </tr>\n",
       "  </tbody>\n",
       "</table>\n",
       "</div>"
      ],
      "text/plain": [
       "   class  \\\n",
       "0      2   \n",
       "1      1   \n",
       "2      1   \n",
       "\n",
       "                                                                                                           tweet  \n",
       "0  as a woman you should not complain about cleaning up your house as a man you should always take the trash out  \n",
       "1                                                  boy dats cold tyga dwn bad for cuffin dat hoe in the st place  \n",
       "2                                        dawg you ever fuck a bitch and she start to cry you be confused as shit  "
      ]
     },
     "execution_count": 2,
     "metadata": {},
     "output_type": "execute_result"
    }
   ],
   "source": [
    "# Import data\n",
    "df = pd.read_csv(\"data/hate-speech-and-offensive-language-dataset_cleaned.csv\")\n",
    "df.head(3)"
   ]
  },
  {
   "cell_type": "code",
   "execution_count": 3,
   "metadata": {},
   "outputs": [],
   "source": [
    "# Specify Random Seeds\n",
    "np.random.seed(42)\n",
    "tf.random.set_seed(42)"
   ]
  },
  {
   "cell_type": "markdown",
   "metadata": {},
   "source": [
    "\n",
    "---\n",
    "\n",
    "<b> 2. Prepare Data for Modelling </b>\n",
    "\n",
    "Outline\n",
    "* (a) Evaluate Class Imbalance\n",
    "* (b) Perform Train-Test-Split\n",
    "* (c) Address Class Imbalance\n",
    "* (d) Tokenise & Pad Text Sequences"
   ]
  },
  {
   "cell_type": "markdown",
   "metadata": {},
   "source": [
    "<b> (a) Evaluate Class Imbalance </b>"
   ]
  },
  {
   "cell_type": "code",
   "execution_count": 4,
   "metadata": {},
   "outputs": [],
   "source": [
    "# 1. Create X (teatures) and y (target)\n",
    "X = df['tweet']\n",
    "y = df['class']"
   ]
  },
  {
   "cell_type": "code",
   "execution_count": 5,
   "metadata": {},
   "outputs": [
    {
     "name": "stdout",
     "output_type": "stream",
     "text": [
      "== Examine Class Imbalance == \n",
      "\n",
      "= Counts = \n",
      "\n",
      "class\n",
      "1    19187\n",
      "2     4158\n",
      "0     1428\n",
      "Name: count, dtype: int64 \n",
      "\n",
      "= Proportions = \n",
      "\n",
      "class\n",
      "1    0.774513\n",
      "2    0.167844\n",
      "0    0.057643\n",
      "Name: proportion, dtype: float64\n"
     ]
    }
   ],
   "source": [
    "# 2. Evaluate class imbalance\n",
    "print(\"== Examine Class Imbalance ==\", \"\\n\")\n",
    "\n",
    "print(\"= Counts =\", \"\\n\")\n",
    "print(y.value_counts(), \"\\n\")\n",
    "\n",
    "print(\"= Proportions =\", \"\\n\")\n",
    "print(y.value_counts(normalize = True))"
   ]
  },
  {
   "cell_type": "markdown",
   "metadata": {},
   "source": [
    "Comments: Class Imbalance\n",
    "* Class [0]: Hate Speech ; Class [1]: Offensive Language, Class [2]: Neither\n",
    "* There are a disproportionately low number of \"hate speech\" (5.8%) and \"neither\" (16.8%) tweets\n",
    "\n",
    "Comments: Approach to Addressing Class Imbalance\n",
    "* Undersampling (oversampling) of the most (least) numerous class to attain a tweet count equivalent to the \"neither\" class (as it has a tweet count between both classes), where we'll:\n",
    "    * undersample: the most numerous class (\"offensive language\") \n",
    "    * oversample: the least numerous class (\"hate speech)\n",
    "\n",
    "* To prevent \"training\" data from leaking into the \"testing\" data - the class rebalancing procedure will be applied:\n",
    "    * after the \"train-test-split\" step, and\n",
    "    * applied to the \"training\" sample only"
   ]
  },
  {
   "cell_type": "markdown",
   "metadata": {},
   "source": [
    "<b> (b) Perform Train-Test-Split </b>"
   ]
  },
  {
   "cell_type": "code",
   "execution_count": 6,
   "metadata": {},
   "outputs": [],
   "source": [
    "# Split the data into training and testing sets with stratification\n",
    "X_train, X_test, y_train, y_test = train_test_split(X, y, test_size=0.2, random_state=42, stratify=y)"
   ]
  },
  {
   "cell_type": "markdown",
   "metadata": {},
   "source": [
    "<br>\n",
    "<b> (c) Address Class Imbalance </b>\n",
    "\n",
    "Recall Approach: Rebalance Classes within the \"Training\" Sample Only\n",
    "\n",
    "* Undersampling (oversampling) of the most (least) numerous class to attain a tweet count equivalent to the \"neither\" class (as it has a tweet count between both classes), where we'll:\n",
    "    * undersample: the most numerous class (\"offensive language\") \n",
    "    * oversample: the least numerous class (\"hate speech)"
   ]
  },
  {
   "cell_type": "code",
   "execution_count": 7,
   "metadata": {},
   "outputs": [
    {
     "name": "stdout",
     "output_type": "stream",
     "text": [
      "== Examine Class Balance : Proportions == \n",
      "\n",
      "class\n",
      "0    0.339337\n",
      "1    0.331519\n",
      "2    0.329144\n",
      "Name: proportion, dtype: float64\n"
     ]
    }
   ],
   "source": [
    "# Perform Class Rebalancing on \"Training\" Data\n",
    "\n",
    "# 1. Temporarily Concatenate X_train and y_train (Column-to-Column)\n",
    "df_train = pd.concat(objs=[X_train,y_train], axis=1)\n",
    "\n",
    "# 2. Perform Rebalancing\n",
    "class_2 = df_train[df_train[\"class\"] == 2]\n",
    "class_1 = df_train[df_train[\"class\"] == 1].sample(n=3350, random_state=42)\n",
    "class_0 = df_train[df_train[\"class\"] == 0]\n",
    "\n",
    "df_train_balanced = pd.concat([class_0, class_0, class_0, class_1, class_2], axis=0)\n",
    "\n",
    "# 3. Check For Class Balance\n",
    "print(\"== Examine Class Balance : Proportions ==\", \"\\n\")\n",
    "print(df_train_balanced[\"class\"].value_counts(normalize=True))"
   ]
  },
  {
   "cell_type": "code",
   "execution_count": 8,
   "metadata": {},
   "outputs": [
    {
     "name": "stdout",
     "output_type": "stream",
     "text": [
      "X_train_bal data type: object\n"
     ]
    }
   ],
   "source": [
    "# Perform Class Rebalancing on \"Training\" Data (Cont'd)\n",
    "\n",
    "# 4. Add balanced: X_train_bal, y_train_bal\n",
    "X_train_bal = df_train_balanced[\"tweet\"]\n",
    "y_train_bal = df_train_balanced[\"class\"]\n",
    "\n",
    "# 5. Check that X_train_bal \"tweets\" are treated as strings\n",
    "print(\"X_train_bal data type:\", X_train_bal.dtype)"
   ]
  },
  {
   "cell_type": "code",
   "execution_count": 9,
   "metadata": {},
   "outputs": [
    {
     "name": "stdout",
     "output_type": "stream",
     "text": [
      "Shape y_train_bal: (10105, 3)\n",
      "Shape y_test: (4955, 3)\n"
     ]
    }
   ],
   "source": [
    "# Dummify \"training\" and \"testing\" data's target\n",
    "# > as we have multiple class categories\n",
    "\n",
    "y_train_bal_i = y_train_bal.copy()\n",
    "y_test_i = y_test.copy()\n",
    "\n",
    "y_train_bal = pd.get_dummies(y_train_bal)\n",
    "y_test      = pd.get_dummies(y_test)\n",
    "\n",
    "print(\"Shape y_train_bal:\", y_train_bal.shape)\n",
    "print(\"Shape y_test:\", y_test.shape)"
   ]
  },
  {
   "cell_type": "markdown",
   "metadata": {},
   "source": [
    "<br>\n",
    "<b> (d) Tokenise & Pad Text Sequences </b>"
   ]
  },
  {
   "cell_type": "code",
   "execution_count": 10,
   "metadata": {},
   "outputs": [],
   "source": [
    "# Perform Tokenisation\n",
    "\n",
    "# 1. Initialise tokeniser and fit tokeniser on training data \n",
    "tokenizer = Tokenizer()\n",
    "tokenizer.fit_on_texts(X_train_bal)\n",
    "\n",
    "# 2. Use that tokenizer to transform (convert) the text message strings in training and test data into a list of integers where each integer represents the index of that word\n",
    "X_train_bal_seq = tokenizer.texts_to_sequences(X_train_bal)\n",
    "X_test_seq = tokenizer.texts_to_sequences(X_test)"
   ]
  },
  {
   "cell_type": "code",
   "execution_count": 11,
   "metadata": {},
   "outputs": [
    {
     "name": "stdout",
     "output_type": "stream",
     "text": [
      "Max sequence length: 37\n",
      "Preview padded text sequence:\n",
      "[   0    0    0    0    0    0    0    0    0    0    0    0    0    0\n",
      "    0    0    0    0    0    0    0    0    0    0    0 1589  160   25\n",
      "  244   60  447  412    1  465   19   11   45]\n"
     ]
    }
   ],
   "source": [
    "# Pad Text Sequences\n",
    "\n",
    "# 1. Obtain maximum length of text sequences in X_train and X_test\n",
    "max_len_train = max(len(seq) for seq in tokenizer.texts_to_sequences(X_train_bal))\n",
    "max_len_test  = max(len(seq) for seq in tokenizer.texts_to_sequences(X_test))\n",
    "max_len = max(max_len_train, max_len_test)\n",
    "\n",
    "print(\"Max sequence length:\", max_len)\n",
    "\n",
    "# 2. Pad Text Sequences\n",
    "X_train_bal_seq_padded = pad_sequences(X_train_bal_seq, max_len)\n",
    "X_test_seq_padded = pad_sequences(X_test_seq, max_len)\n",
    "\n",
    "# 3. Preview padded text sequence\n",
    "print(\"Preview padded text sequence:\")\n",
    "print(X_test_seq_padded[0])"
   ]
  },
  {
   "cell_type": "markdown",
   "metadata": {},
   "source": [
    "<br>\n",
    "\n",
    "---\n",
    "\n",
    "<b> 3. Construct GloVe Word Embedding Matrix </b>\n",
    "\n",
    "As keras' default process to vectorise text sequencess is not semantics-based, a semantics-based approach utilising GloVe word embeddings will be adopted. \n",
    "\n",
    "\n",
    "(a) This step produces a GloVe Word Embedding Matrix required for semantics-based vectorisation, with guidance having been obtained from:\n",
    "* Towards Data Science. Text Classification using Word Embeddings and Deep Learning in Python - Classifying Tweets from ... .\n",
    "* <font size=\"1.5\"> weblink: https://towardsdatascience.com/text-classification-using-word-embeddings-and-deep-learning-in-python-classifying-tweets-from-6fe644fcfc81 </font>\n",
    "<br>\n",
    "\n",
    "(b) Details: GloVe Pre-Trained Word Embeddings Utilised\n",
    "* As our data comprise twitter tweets, a GloVe Word Embedding that was pre-trained on 2 billion tweets will be utilised\n",
    "* While word embedding vectors of dimensions 50d, 100d, & 200d are available, embeddings with <u>200d</u> will be used to capture finer differences between words' semantic meaning\n",
    "* <font size=\"1.5\"> weblink: https://nlp.stanford.edu/projects/glove/ </font>\n",
    "* <font size=\"1.5\"> download link: https://nlp.stanford.edu/data/glove.twitter.27B.zip </font>\n",
    "<br>\n",
    "\n",
    "(c) Broad Outline of Steps Required to Construct the GloVe Word Embedding Matrix\n",
    "1. Recall tokenised \"training\" data\n",
    "2. Create a parsimonious GloVe Word Embedding Matrix containing vectorised forms of the \"training\" data's tokens only \n",
    "    * i.e., other words within GloVe's word embeddings repository are excluded as they are not relevant to our analysis; and their exclusion allows us to conserve as much memory as possible\n",
    "    * code for creating the parsimonious GloVe Word Embedding Matrix: drawn from the \"Towards Data Science\" article referenced above"
   ]
  },
  {
   "cell_type": "code",
   "execution_count": 12,
   "metadata": {},
   "outputs": [],
   "source": [
    "# 1. Recall tokenised \"training\" data\n",
    "tokenizer = Tokenizer()\n",
    "tokenizer.fit_on_texts(X_train_bal)"
   ]
  },
  {
   "cell_type": "code",
   "execution_count": 13,
   "metadata": {},
   "outputs": [],
   "source": [
    "# 2. Define a class to create a parsimonious GloVe Word Embedding Matrix\n",
    "# code source: https://towardsdatascience.com/text-classification-using-word-embeddings-and-deep-learning-in-python-classifying-tweets-from-6fe644fcfc81\n",
    "\n",
    "class Embeddings():\n",
    "\n",
    "    # A class to read a given word embedding file and to create a parsimonious word embedding matrix\n",
    "\n",
    "    def __init__(self, path, vector_dimension):\n",
    "        self.path = path \n",
    "        self.vector_dimension = vector_dimension\n",
    "    \n",
    "    @staticmethod\n",
    "    def get_coefs(word, *arr): \n",
    "        return word, np.asarray(arr, dtype='float32')\n",
    "\n",
    "    def get_embedding_index(self):\n",
    "        embeddings_index = dict(self.get_coefs(*o.split(\" \")) for o in open(self.path, errors='ignore'))\n",
    "        return embeddings_index\n",
    "\n",
    "    def create_embedding_matrix(self, tokenizer, max_features):\n",
    "    \n",
    "        # A method to create the embedding matrix\n",
    "        \n",
    "        model_embed = self.get_embedding_index()\n",
    "\n",
    "        embedding_matrix = np.zeros((max_features + 1, self.vector_dimension))\n",
    "        for word, index in tokenizer.word_index.items():\n",
    "            if index > max_features:\n",
    "                break\n",
    "            else:\n",
    "                try:\n",
    "                    embedding_matrix[index] = model_embed[word]\n",
    "                except:\n",
    "                    continue\n",
    "\n",
    "        return embedding_matrix"
   ]
  },
  {
   "cell_type": "code",
   "execution_count": 14,
   "metadata": {},
   "outputs": [],
   "source": [
    "# 3. Create parsimonious GloVe Word Embedding Matrix\n",
    "\n",
    "embed_path = \"data/glove.twitter.27B.200d.txt\"\n",
    "embed_dim = 200  # corresponding to the number of dimensions per word in the GloVe repository above \n",
    "\n",
    "embedding = Embeddings(embed_path, embed_dim)\n",
    "embedding_matrix = embedding.create_embedding_matrix(tokenizer, len(tokenizer.word_counts))"
   ]
  },
  {
   "cell_type": "markdown",
   "metadata": {},
   "source": [
    "\n",
    "---\n",
    "\n",
    "<b> 4. Train Classification Model </b>\n",
    "\n",
    "1. Define Model\n",
    "2. Define callbacks\n",
    "3. Fit the RNN model"
   ]
  },
  {
   "cell_type": "code",
   "execution_count": 15,
   "metadata": {},
   "outputs": [
    {
     "name": "stderr",
     "output_type": "stream",
     "text": [
      "WARNING:absl:At this time, the v2.11+ optimizer `tf.keras.optimizers.Adam` runs slowly on M1/M2 Macs, please use the legacy Keras optimizer instead, located at `tf.keras.optimizers.legacy.Adam`.\n"
     ]
    },
    {
     "name": "stdout",
     "output_type": "stream",
     "text": [
      "Model: \"sequential\"\n",
      "_________________________________________________________________\n",
      " Layer (type)                Output Shape              Param #   \n",
      "=================================================================\n",
      " embedding (Embedding)       (None, None, 200)         2265800   \n",
      "                                                                 \n",
      " bidirectional (Bidirection  (None, 64)                59648     \n",
      " al)                                                             \n",
      "                                                                 \n",
      " dense (Dense)               (None, 512)               33280     \n",
      "                                                                 \n",
      " batch_normalization (Batch  (None, 512)               2048      \n",
      " Normalization)                                                  \n",
      "                                                                 \n",
      " dropout (Dropout)           (None, 512)               0         \n",
      "                                                                 \n",
      " dense_1 (Dense)             (None, 3)                 1539      \n",
      "                                                                 \n",
      "=================================================================\n",
      "Total params: 2362315 (9.01 MB)\n",
      "Trainable params: 2361291 (9.01 MB)\n",
      "Non-trainable params: 1024 (4.00 KB)\n",
      "_________________________________________________________________\n"
     ]
    }
   ],
   "source": [
    "# 1. Define a RNN-LSTM model architecture using Keras\n",
    "model = keras.models.Sequential([\n",
    "    \n",
    "    layers.Embedding(len(tokenizer.index_word)+1, embed_dim, weights=[embedding_matrix]),  # weights from: parsimonious GloVe Word Embedding Matrix\n",
    "\n",
    "    layers.Bidirectional(layers.LSTM(32)),\n",
    "    layers.Dense(512, activation='relu', kernel_regularizer='l2'),\n",
    "    layers.BatchNormalization(),\n",
    "    layers.Dropout(0.3),\n",
    "    layers.Dense(3, activation='softmax')\n",
    "])\n",
    "# Configure the model with Adam optimizer, categorical crossentropy loss, and accuracy as the evaluation metric\n",
    "opt = Adam(learning_rate=0.001)\n",
    "model.compile(loss='categorical_crossentropy',\n",
    "              optimizer=opt,\n",
    "              metrics=['accuracy'])\n",
    "\n",
    "model.summary()"
   ]
  },
  {
   "cell_type": "code",
   "execution_count": 16,
   "metadata": {},
   "outputs": [],
   "source": [
    "# 2. Define callbacks\n",
    "\n",
    "# EarlyStopping callback to stop training if 'val_accuracy' doesn't improve for 10 consecutive epochs,\n",
    "# Restoring the weights of the epoch with the best validation accuracy.\n",
    "es = EarlyStopping(patience=10,\n",
    "                   monitor = 'val_accuracy',\n",
    "                   restore_best_weights = True)\n",
    " \n",
    "# Reduce learning rate by a factor of 0.5 if 'val_loss' doesn't improve for 5 consecutive epochs.   \n",
    "lr = ReduceLROnPlateau(patience = 5,\n",
    "                       monitor = 'val_loss',\n",
    "                       factor = 0.5,\n",
    "                       verbose = 0)"
   ]
  },
  {
   "cell_type": "code",
   "execution_count": 17,
   "metadata": {},
   "outputs": [
    {
     "name": "stdout",
     "output_type": "stream",
     "text": [
      "Epoch 1/50\n"
     ]
    },
    {
     "name": "stdout",
     "output_type": "stream",
     "text": [
      "316/316 [==============================] - 5s 13ms/step - loss: 1.1163 - accuracy: 0.7452 - val_loss: 0.9313 - val_accuracy: 0.7582 - lr: 0.0010\n",
      "Epoch 2/50\n",
      "316/316 [==============================] - 4s 12ms/step - loss: 0.5001 - accuracy: 0.8790 - val_loss: 0.5344 - val_accuracy: 0.8339 - lr: 0.0010\n",
      "Epoch 3/50\n",
      "316/316 [==============================] - 4s 13ms/step - loss: 0.2709 - accuracy: 0.9318 - val_loss: 0.4681 - val_accuracy: 0.8585 - lr: 0.0010\n",
      "Epoch 4/50\n",
      "316/316 [==============================] - 4s 14ms/step - loss: 0.1614 - accuracy: 0.9614 - val_loss: 0.5600 - val_accuracy: 0.8527 - lr: 0.0010\n",
      "Epoch 5/50\n",
      "316/316 [==============================] - 5s 15ms/step - loss: 0.1096 - accuracy: 0.9744 - val_loss: 0.6042 - val_accuracy: 0.8741 - lr: 0.0010\n",
      "Epoch 6/50\n",
      "316/316 [==============================] - 4s 13ms/step - loss: 0.0816 - accuracy: 0.9801 - val_loss: 0.8836 - val_accuracy: 0.7974 - lr: 0.0010\n",
      "Epoch 7/50\n",
      "316/316 [==============================] - 4s 13ms/step - loss: 0.0649 - accuracy: 0.9836 - val_loss: 0.7442 - val_accuracy: 0.8289 - lr: 0.0010\n",
      "Epoch 8/50\n",
      "316/316 [==============================] - 4s 13ms/step - loss: 0.0500 - accuracy: 0.9890 - val_loss: 0.8797 - val_accuracy: 0.8377 - lr: 0.0010\n",
      "Epoch 9/50\n",
      "316/316 [==============================] - 4s 14ms/step - loss: 0.0377 - accuracy: 0.9921 - val_loss: 0.8075 - val_accuracy: 0.8426 - lr: 5.0000e-04\n",
      "Epoch 10/50\n",
      "316/316 [==============================] - 4s 14ms/step - loss: 0.0308 - accuracy: 0.9930 - val_loss: 0.7503 - val_accuracy: 0.8605 - lr: 5.0000e-04\n",
      "Epoch 11/50\n",
      "316/316 [==============================] - 5s 14ms/step - loss: 0.0277 - accuracy: 0.9942 - val_loss: 0.8165 - val_accuracy: 0.8505 - lr: 5.0000e-04\n",
      "Epoch 12/50\n",
      "316/316 [==============================] - 5s 15ms/step - loss: 0.0242 - accuracy: 0.9958 - val_loss: 0.9281 - val_accuracy: 0.8228 - lr: 5.0000e-04\n",
      "Epoch 13/50\n",
      "316/316 [==============================] - 5s 15ms/step - loss: 0.0246 - accuracy: 0.9938 - val_loss: 0.7266 - val_accuracy: 0.8712 - lr: 5.0000e-04\n",
      "Epoch 14/50\n",
      "316/316 [==============================] - 5s 14ms/step - loss: 0.0200 - accuracy: 0.9966 - val_loss: 0.8177 - val_accuracy: 0.8505 - lr: 2.5000e-04\n",
      "Epoch 15/50\n",
      "316/316 [==============================] - 5s 15ms/step - loss: 0.0175 - accuracy: 0.9969 - val_loss: 0.9607 - val_accuracy: 0.8281 - lr: 2.5000e-04\n"
     ]
    }
   ],
   "source": [
    "# 3. Fit the RNN model\n",
    "history = model.fit(X_train_bal_seq_padded, y_train_bal,\n",
    "                    validation_data=(X_test_seq_padded, y_test),\n",
    "                    epochs=50,\n",
    "                    verbose=1,\n",
    "                    batch_size=32,\n",
    "                    callbacks=[lr, es])"
   ]
  },
  {
   "cell_type": "markdown",
   "metadata": {},
   "source": [
    "\n",
    "---\n",
    "\n",
    "<b> 5. Evaluate Classification Model </b>\n",
    "\n",
    "(a) Evaluate loss and accuracy epoch-by-epoch"
   ]
  },
  {
   "cell_type": "code",
   "execution_count": 18,
   "metadata": {},
   "outputs": [
    {
     "data": {
      "image/png": "[encoded data removed]",
      "text/plain": [
       "<Figure size 640x480 with 1 Axes>"
      ]
     },
     "metadata": {},
     "output_type": "display_data"
    },
    {
     "data": {
      "image/png": "[encoded data removed]",
      "text/plain": [
       "<Figure size 640x480 with 1 Axes>"
      ]
     },
     "metadata": {},
     "output_type": "display_data"
    }
   ],
   "source": [
    "# Graph: loss and accuracy epoch-by-epoch\n",
    "history_df = pd.DataFrame(history.history)\n",
    "history_df.loc[:, ['loss', 'val_loss']].plot()\n",
    "history_df.loc[:, ['accuracy', 'val_accuracy']].plot()\n",
    "plt.show()"
   ]
  },
  {
   "cell_type": "code",
   "execution_count": 19,
   "metadata": {},
   "outputs": [
    {
     "data": {
      "text/html": [
       "<div>\n",
       "<style scoped>\n",
       "    .dataframe tbody tr th:only-of-type {\n",
       "        vertical-align: middle;\n",
       "    }\n",
       "\n",
       "    .dataframe tbody tr th {\n",
       "        vertical-align: top;\n",
       "    }\n",
       "\n",
       "    .dataframe thead th {\n",
       "        text-align: right;\n",
       "    }\n",
       "</style>\n",
       "<table border=\"1\" class=\"dataframe\">\n",
       "  <thead>\n",
       "    <tr style=\"text-align: right;\">\n",
       "      <th></th>\n",
       "      <th>loss</th>\n",
       "      <th>accuracy</th>\n",
       "      <th>val_loss</th>\n",
       "      <th>val_accuracy</th>\n",
       "      <th>lr</th>\n",
       "    </tr>\n",
       "  </thead>\n",
       "  <tbody>\n",
       "    <tr>\n",
       "      <th>0</th>\n",
       "      <td>1.116309</td>\n",
       "      <td>0.745176</td>\n",
       "      <td>0.931270</td>\n",
       "      <td>0.758224</td>\n",
       "      <td>0.00100</td>\n",
       "    </tr>\n",
       "    <tr>\n",
       "      <th>1</th>\n",
       "      <td>0.500141</td>\n",
       "      <td>0.878971</td>\n",
       "      <td>0.534408</td>\n",
       "      <td>0.833905</td>\n",
       "      <td>0.00100</td>\n",
       "    </tr>\n",
       "    <tr>\n",
       "      <th>2</th>\n",
       "      <td>0.270926</td>\n",
       "      <td>0.931816</td>\n",
       "      <td>0.468106</td>\n",
       "      <td>0.858527</td>\n",
       "      <td>0.00100</td>\n",
       "    </tr>\n",
       "    <tr>\n",
       "      <th>3</th>\n",
       "      <td>0.161384</td>\n",
       "      <td>0.961405</td>\n",
       "      <td>0.559978</td>\n",
       "      <td>0.852674</td>\n",
       "      <td>0.00100</td>\n",
       "    </tr>\n",
       "    <tr>\n",
       "      <th>4</th>\n",
       "      <td>0.109590</td>\n",
       "      <td>0.974369</td>\n",
       "      <td>0.604195</td>\n",
       "      <td>0.874067</td>\n",
       "      <td>0.00100</td>\n",
       "    </tr>\n",
       "    <tr>\n",
       "      <th>5</th>\n",
       "      <td>0.081616</td>\n",
       "      <td>0.980109</td>\n",
       "      <td>0.883627</td>\n",
       "      <td>0.797376</td>\n",
       "      <td>0.00100</td>\n",
       "    </tr>\n",
       "    <tr>\n",
       "      <th>6</th>\n",
       "      <td>0.064889</td>\n",
       "      <td>0.983572</td>\n",
       "      <td>0.744206</td>\n",
       "      <td>0.828860</td>\n",
       "      <td>0.00100</td>\n",
       "    </tr>\n",
       "    <tr>\n",
       "      <th>7</th>\n",
       "      <td>0.049969</td>\n",
       "      <td>0.989015</td>\n",
       "      <td>0.879745</td>\n",
       "      <td>0.837740</td>\n",
       "      <td>0.00100</td>\n",
       "    </tr>\n",
       "    <tr>\n",
       "      <th>8</th>\n",
       "      <td>0.037737</td>\n",
       "      <td>0.992083</td>\n",
       "      <td>0.807509</td>\n",
       "      <td>0.842583</td>\n",
       "      <td>0.00050</td>\n",
       "    </tr>\n",
       "    <tr>\n",
       "      <th>9</th>\n",
       "      <td>0.030833</td>\n",
       "      <td>0.992974</td>\n",
       "      <td>0.750288</td>\n",
       "      <td>0.860545</td>\n",
       "      <td>0.00050</td>\n",
       "    </tr>\n",
       "    <tr>\n",
       "      <th>10</th>\n",
       "      <td>0.027675</td>\n",
       "      <td>0.994161</td>\n",
       "      <td>0.816504</td>\n",
       "      <td>0.850454</td>\n",
       "      <td>0.00050</td>\n",
       "    </tr>\n",
       "    <tr>\n",
       "      <th>11</th>\n",
       "      <td>0.024160</td>\n",
       "      <td>0.995844</td>\n",
       "      <td>0.928131</td>\n",
       "      <td>0.822805</td>\n",
       "      <td>0.00050</td>\n",
       "    </tr>\n",
       "    <tr>\n",
       "      <th>12</th>\n",
       "      <td>0.024585</td>\n",
       "      <td>0.993765</td>\n",
       "      <td>0.726606</td>\n",
       "      <td>0.871241</td>\n",
       "      <td>0.00050</td>\n",
       "    </tr>\n",
       "    <tr>\n",
       "      <th>13</th>\n",
       "      <td>0.020018</td>\n",
       "      <td>0.996635</td>\n",
       "      <td>0.817692</td>\n",
       "      <td>0.850454</td>\n",
       "      <td>0.00025</td>\n",
       "    </tr>\n",
       "    <tr>\n",
       "      <th>14</th>\n",
       "      <td>0.017504</td>\n",
       "      <td>0.996932</td>\n",
       "      <td>0.960727</td>\n",
       "      <td>0.828052</td>\n",
       "      <td>0.00025</td>\n",
       "    </tr>\n",
       "  </tbody>\n",
       "</table>\n",
       "</div>"
      ],
      "text/plain": [
       "        loss  accuracy  val_loss  val_accuracy       lr\n",
       "0   1.116309  0.745176  0.931270      0.758224  0.00100\n",
       "1   0.500141  0.878971  0.534408      0.833905  0.00100\n",
       "2   0.270926  0.931816  0.468106      0.858527  0.00100\n",
       "3   0.161384  0.961405  0.559978      0.852674  0.00100\n",
       "4   0.109590  0.974369  0.604195      0.874067  0.00100\n",
       "5   0.081616  0.980109  0.883627      0.797376  0.00100\n",
       "6   0.064889  0.983572  0.744206      0.828860  0.00100\n",
       "7   0.049969  0.989015  0.879745      0.837740  0.00100\n",
       "8   0.037737  0.992083  0.807509      0.842583  0.00050\n",
       "9   0.030833  0.992974  0.750288      0.860545  0.00050\n",
       "10  0.027675  0.994161  0.816504      0.850454  0.00050\n",
       "11  0.024160  0.995844  0.928131      0.822805  0.00050\n",
       "12  0.024585  0.993765  0.726606      0.871241  0.00050\n",
       "13  0.020018  0.996635  0.817692      0.850454  0.00025\n",
       "14  0.017504  0.996932  0.960727      0.828052  0.00025"
      ]
     },
     "execution_count": 19,
     "metadata": {},
     "output_type": "execute_result"
    }
   ],
   "source": [
    "# Table: loss and accuracy epoch-by-epoch\n",
    "history_df"
   ]
  },
  {
   "cell_type": "code",
   "execution_count": 20,
   "metadata": {},
   "outputs": [
    {
     "name": "stdout",
     "output_type": "stream",
     "text": [
      "Best epoch:  5\n"
     ]
    }
   ],
   "source": [
    "# Identify best epoch\n",
    "best_epoch = np.argmax(history.history['val_accuracy']) + 1\n",
    "print(\"Best epoch: \", best_epoch)"
   ]
  },
  {
   "cell_type": "markdown",
   "metadata": {},
   "source": [
    "(b) Obtain model evaluation metrics"
   ]
  },
  {
   "cell_type": "code",
   "execution_count": 21,
   "metadata": {},
   "outputs": [],
   "source": [
    "# Define function: generate predicted classes as a numpy array\n",
    "\n",
    "def pred_class(pred_prob_varname):\n",
    "\n",
    "    pred_class_all = np.array([])\n",
    "    for pred_prob_array in pred_prob_varname:\n",
    "        pred_class = np.argmax(pred_prob_array)\n",
    "        pred_class_all = np.append(pred_class_all, pred_class)\n",
    "    \n",
    "    return pred_class_all"
   ]
  },
  {
   "cell_type": "code",
   "execution_count": 22,
   "metadata": {},
   "outputs": [
    {
     "name": "stdout",
     "output_type": "stream",
     "text": [
      "184/316 [================>.............] - ETA: 0s"
     ]
    },
    {
     "name": "stdout",
     "output_type": "stream",
     "text": [
      "316/316 [==============================] - 1s 3ms/step\n",
      "155/155 [==============================] - 0s 3ms/step\n"
     ]
    }
   ],
   "source": [
    "# Obtain predicted probabilities and classes\n",
    "y_train_pred_prob  = model.predict(X_train_bal_seq_padded)\n",
    "y_train_pred_class = pred_class(y_train_pred_prob)\n",
    "\n",
    "y_test_pred_prob  = model.predict(X_test_seq_padded)\n",
    "y_test_pred_class = pred_class(y_test_pred_prob)"
   ]
  },
  {
   "cell_type": "code",
   "execution_count": 23,
   "metadata": {},
   "outputs": [
    {
     "name": "stdout",
     "output_type": "stream",
     "text": [
      "== Classification Report: Training Data == \n",
      "\n",
      "              precision    recall  f1-score   support\n",
      "\n",
      "     class 0       0.99      0.97      0.98      3429\n",
      "     class 1       0.97      0.99      0.98      3350\n",
      "     class 2       0.98      1.00      0.99      3326\n",
      "\n",
      "    accuracy                           0.98     10105\n",
      "   macro avg       0.98      0.98      0.98     10105\n",
      "weighted avg       0.98      0.98      0.98     10105\n",
      "\n"
     ]
    }
   ],
   "source": [
    "# Print model evaluation metrics: \"training\" data\n",
    "print(\"== Classification Report: Training Data ==\", \"\\n\")\n",
    "print(classification_report(y_train_bal_i, y_train_pred_class, target_names = [\"class 0\", \"class 1\", \"class 2\"]))"
   ]
  },
  {
   "cell_type": "code",
   "execution_count": 24,
   "metadata": {},
   "outputs": [
    {
     "name": "stdout",
     "output_type": "stream",
     "text": [
      "== Classification Report: Testing Data == \n",
      "\n",
      "              precision    recall  f1-score   support\n",
      "\n",
      "     class 0       0.36      0.47      0.41       285\n",
      "     class 1       0.96      0.89      0.92      3838\n",
      "     class 2       0.77      0.94      0.85       832\n",
      "\n",
      "    accuracy                           0.87      4955\n",
      "   macro avg       0.70      0.76      0.73      4955\n",
      "weighted avg       0.89      0.87      0.88      4955\n",
      "\n"
     ]
    }
   ],
   "source": [
    "# Print model evaluation metrics: \"testing\" data\n",
    "print(\"== Classification Report: Testing Data ==\", \"\\n\")\n",
    "print(classification_report(y_test_i, y_test_pred_class, target_names = [\"class 0\", \"class 1\", \"class 2\"]))"
   ]
  },
  {
   "cell_type": "markdown",
   "metadata": {},
   "source": [
    "<b>Comments</b>\n",
    "\n",
    "Performance on: \"Training\" Data\n",
    "* The model performs well across all evaluation metrics and across all classes, with (a) precision, (b) recall, (c) f1-score and (d) overall accuracy being > 0.90 \n",
    "\n",
    "Performance on: \"Testing\" Data\n",
    "* The model predicts class 1 (\"offensive language\") and class 2 (\"neither) tweets well, with (a) \"precision\" and (b) \"recall\", (c) \"f1-scores\" being > 0.8\n",
    "* While the model's predictive performance on class 0 (\"hate speech\") fares better than a model without the GloVe-based word vectoriser, \n",
    "    * it still does not predict class 0 (\"hate speech) well, with relatively low \"precision\" and \"recall\" scores\n",
    "\n",
    "<br>\n",
    "\n",
    "---\n",
    "\n",
    "<b>6. Comparison of Model Performance - Multinomial Classifier: w/out and w GloVe-based Word Vectoriser</b>\n",
    "\n",
    "(a) Evaluation Metrics of Interest\n",
    "\n",
    "* Accuracy: % of predictions that are correct \n",
    "\n",
    "* F1-Score: Composite measure that considers both (i) “precision” and (ii) “recall”\n",
    "\n",
    "    * “precision”: % of predicted “positives” that are true\n",
    "        * Relevant as a low precision score on detecting hate speech indicates that we are wrongly censoring non-hate speech that could be of interest to readers\n",
    "\n",
    "    * “recall”: % of actual “positives” that are predicted correctly\n",
    "        * Relevant as we wish to identify as high a proportion of hate speech that exists\n",
    "<br>\n",
    "\n",
    "(b-1) Training Data\n",
    "\n",
    "|w/out GloVe|F1-Score|Accuracy|Support|\n",
    "|---|---|---|---|\n",
    "|Class 0: Hate|0.93|---|3429|\n",
    "|Class 1: Offensive|0.94|---|3350|\n",
    "|Class 2: Neither|0.97|---|3326|\n",
    "|Overall|---|0.95|10105|\n",
    "\n",
    "<br>\n",
    "\n",
    "|w GloVe|F1-Score|Accuracy|Support|\n",
    "|---|---|---|---|\n",
    "|Class 0: Hate|0.97|---|3429|\n",
    "|Class 1: Offensive|0.96|---|3350|\n",
    "|Class 2: Neither|0.99|---|3326|\n",
    "|Overall|---|0.97|10105|\n",
    "\n",
    "\n",
    "(b-2) Testing Data\n",
    "\n",
    "|w/out GloVe|F1-Score|Accuracy|Support|\n",
    "|---|---|---|---|\n",
    "|Class 0: Hate|0.40|---|285|\n",
    "|Class 1: Offensive|0.91|---|3838|\n",
    "|Class 2: Neither|0.82|---|832|\n",
    "|Overall|---|0.86|4955|\n",
    "\n",
    "<br>\n",
    "\n",
    "|w GloVe|F1-Score|Accuracy|Support|\n",
    "|---|---|---|---|\n",
    "|Class 0: Hate|0.40|---|285|\n",
    "|Class 1: Offensive|0.93|---|3838|\n",
    "|Class 2: Neither|0.86|---|832|\n",
    "|Overall|---|0.88|4955|\n",
    "\n",
    "*note: scores may vary from code re-run to re-run*\n",
    "\n",
    "<br>\n",
    "\n",
    "---\n",
    "\n",
    "<b>7. Key Insights & Steps Going Forward</b>\n",
    "\n",
    "* Use of a GloVe-based word vectoriser improves model performance - in line with the fact that it helps account for semantic differences across texts.\n",
    "* It is challenging to separably identify \"hate speech\", considering that it comprises the original/\"test\" dataset's minority class \n",
    "* Going forward:\n",
    "    * Continue to use a GloVe-based word vectoriser\n",
    "    * Collapse \"hate speech\" and \"offensive language\" categories, as a \"hurtful comments\" category"
   ]
  },
  {
   "cell_type": "markdown",
   "metadata": {},
   "source": [
    "\n",
    "---"
   ]
  }
 ],
 "metadata": {
  "kernelspec": {
   "display_name": "Python 3",
   "language": "python",
   "name": "python3"
  },
  "language_info": {
   "codemirror_mode": {
    "name": "ipython",
    "version": 3
   },
   "file_extension": ".py",
   "mimetype": "text/x-python",
   "name": "python",
   "nbconvert_exporter": "python",
   "pygments_lexer": "ipython3",
   "version": "3.10.4"
  }
 },
 "nbformat": 4,
 "nbformat_minor": 2
}
