{
 "cells": [
  {
   "cell_type": "markdown",
   "metadata": {},
   "source": [
    "<img src=\"http://imgur.com/1ZcRyrc.png\" style=\"float: left; margin: 5px; height: 50px\"> \n",
    "\n",
    "#   Project 4: Detecting Hate Speech\n",
    "\n",
    "> SG-DSI-41 Group 01: Lionel Foo, Joel Lim, Poon Wenzhe, Daryl Chia\n",
    "\n",
    "---\n"
   ]
  },
  {
   "cell_type": "markdown",
   "metadata": {},
   "source": [
    "#### <b> Notebook: 02B-M2 Classification Model (Binary Classification - RNN with GloVe Word Embeddings) </b>\n",
    "\n",
    "<b>(a) Recap: Key Insights & Steps Going Forward from \"Notebook 02A-M2 Classification Model (Multiclass Classification - RNN with GloVe Word Embeddings\"</b>\n",
    "\n",
    "* Use of a GloVe-based word vectoriser improves model performance - in line with the fact that it helps account for semantic differences across texts.\n",
    "* It is challenging to separably identify \"hate speech\", considering that it comprises the original/\"test\" dataset's minority class \n",
    "* Going forward:\n",
    "    * Continue to use a GloVe-based word vectoriser\n",
    "    * Collapse \"hate speech\" and \"offensive language\" categories, as a \"hurtful comments\" category\n",
    "\n",
    "<br>\n",
    "\n",
    "<b>(b) Notebook Objectives</b>\n",
    "\n",
    "This notebook thus continues the modeling process based on the insights above, namely by: \n",
    "* Continuing use of a GloVe-based word vectoriser\n",
    "* Performing binary classification (collapsing \"hate speech\" and \"offensive language\" categories, as a \"hurtful comments\" category)\n",
    "\n",
    "<b>(c) Notebook Outline</b>\n",
    "\n",
    "1. Import Libraries, Data & Specify Random Seeds\n",
    "2. Prepare Data for Modelling\n",
    "3. Construct GloVe Word Embedding Matrix\n",
    "4. Train Classification Model\n",
    "5. Evaluate Classification Model\n",
    "6. Export Fitted Model's Components as Pickle Files\n",
    "\n",
    "<br>"
   ]
  },
  {
   "cell_type": "markdown",
   "metadata": {},
   "source": [
    "---\n",
    "\n",
    "<b> 1. Import Libraries, Data & Specify Random Seeds </b>"
   ]
  },
  {
   "cell_type": "code",
   "execution_count": 1,
   "metadata": {},
   "outputs": [],
   "source": [
    "# Imports: standard\n",
    "import pandas as pd\n",
    "import numpy as np\n",
    "import re\n",
    "\n",
    "import seaborn as sns\n",
    "import matplotlib.pyplot as plt\n",
    "\n",
    "from sklearn.model_selection import train_test_split\n",
    "from sklearn.metrics import classification_report\n",
    "\n",
    "import joblib\n",
    "\n",
    "# Imports: tensorflow for model building\n",
    "import tensorflow as tf\n",
    "from tensorflow import keras\n",
    "from keras import layers\n",
    "from tensorflow.keras.preprocessing.text import Tokenizer\n",
    "from tensorflow.keras.preprocessing.sequence import pad_sequences\n",
    "from tensorflow.keras.optimizers import Adam\n",
    "from keras.callbacks import EarlyStopping, ReduceLROnPlateau\n",
    "\n",
    "# from keras.models import Sequential\n",
    "# from keras.layers import Embedding\n",
    "\n",
    "# this setting widens how many characters pandas will display in a column:\n",
    "pd.options.display.max_colwidth = 4000"
   ]
  },
  {
   "cell_type": "code",
   "execution_count": 2,
   "metadata": {},
   "outputs": [
    {
     "data": {
      "text/html": [
       "<div>\n",
       "<style scoped>\n",
       "    .dataframe tbody tr th:only-of-type {\n",
       "        vertical-align: middle;\n",
       "    }\n",
       "\n",
       "    .dataframe tbody tr th {\n",
       "        vertical-align: top;\n",
       "    }\n",
       "\n",
       "    .dataframe thead th {\n",
       "        text-align: right;\n",
       "    }\n",
       "</style>\n",
       "<table border=\"1\" class=\"dataframe\">\n",
       "  <thead>\n",
       "    <tr style=\"text-align: right;\">\n",
       "      <th></th>\n",
       "      <th>class</th>\n",
       "      <th>tweet</th>\n",
       "    </tr>\n",
       "  </thead>\n",
       "  <tbody>\n",
       "    <tr>\n",
       "      <th>0</th>\n",
       "      <td>2</td>\n",
       "      <td>as a woman you should not complain about cleaning up your house as a man you should always take the trash out</td>\n",
       "    </tr>\n",
       "    <tr>\n",
       "      <th>1</th>\n",
       "      <td>1</td>\n",
       "      <td>boy dats cold tyga dwn bad for cuffin dat hoe in the st place</td>\n",
       "    </tr>\n",
       "    <tr>\n",
       "      <th>2</th>\n",
       "      <td>1</td>\n",
       "      <td>dawg you ever fuck a bitch and she start to cry you be confused as shit</td>\n",
       "    </tr>\n",
       "  </tbody>\n",
       "</table>\n",
       "</div>"
      ],
      "text/plain": [
       "   class  \\\n",
       "0      2   \n",
       "1      1   \n",
       "2      1   \n",
       "\n",
       "                                                                                                           tweet  \n",
       "0  as a woman you should not complain about cleaning up your house as a man you should always take the trash out  \n",
       "1                                                  boy dats cold tyga dwn bad for cuffin dat hoe in the st place  \n",
       "2                                        dawg you ever fuck a bitch and she start to cry you be confused as shit  "
      ]
     },
     "execution_count": 2,
     "metadata": {},
     "output_type": "execute_result"
    }
   ],
   "source": [
    "# Import data\n",
    "df = pd.read_csv(\"data/hate-speech-and-offensive-language-dataset_cleaned.csv\")\n",
    "df.head(3)"
   ]
  },
  {
   "cell_type": "code",
   "execution_count": 3,
   "metadata": {},
   "outputs": [],
   "source": [
    "# Specify Random Seeds\n",
    "np.random.seed(42)\n",
    "tf.random.set_seed(42)"
   ]
  },
  {
   "cell_type": "markdown",
   "metadata": {},
   "source": [
    "\n",
    "---\n",
    "\n",
    "<b> 2. Prepare Data for Modelling </b>\n",
    "\n",
    "Outline\n",
    "* (a) Evaluate Class Imbalance\n",
    "* (b) Perform Train-Test-Split\n",
    "* (c) Address Class Imbalance\n",
    "* (d) Tokenise & Pad Text Sequences"
   ]
  },
  {
   "cell_type": "markdown",
   "metadata": {},
   "source": [
    "<b> (a) Evaluate Class Imbalance </b>"
   ]
  },
  {
   "cell_type": "code",
   "execution_count": 4,
   "metadata": {},
   "outputs": [],
   "source": [
    "# 1. Create X (teatures) and y (target)\n",
    "X = df['tweet']\n",
    "y = df['class']"
   ]
  },
  {
   "cell_type": "code",
   "execution_count": 5,
   "metadata": {},
   "outputs": [
    {
     "name": "stdout",
     "output_type": "stream",
     "text": [
      "== Examine Class Imbalance == \n",
      "\n",
      "= Counts = \n",
      "\n",
      "class\n",
      "1    19187\n",
      "2     4158\n",
      "0     1428\n",
      "Name: count, dtype: int64 \n",
      "\n",
      "= Proportions = \n",
      "\n",
      "class\n",
      "1    0.774513\n",
      "2    0.167844\n",
      "0    0.057643\n",
      "Name: proportion, dtype: float64\n"
     ]
    }
   ],
   "source": [
    "# 2. Evaluate class imbalance\n",
    "print(\"== Examine Class Imbalance ==\", \"\\n\")\n",
    "\n",
    "print(\"= Counts =\", \"\\n\")\n",
    "print(y.value_counts(), \"\\n\")\n",
    "\n",
    "print(\"= Proportions =\", \"\\n\")\n",
    "print(y.value_counts(normalize = True))"
   ]
  },
  {
   "cell_type": "markdown",
   "metadata": {},
   "source": [
    "<b>Comments: Class Imbalance</b>\n",
    "\n",
    "* Class [0]: Hate Speech ; Class [1]: Offensive Language, Class [2]: Neither\n",
    "* There are a disproportionately low number of \"hate speech\" (5.8%) and \"neither\" (16.8%) tweets\n",
    "\n",
    "\n",
    "<b>Comments: Approach to Addressing Class Imbalance & Earlier Difficulties with Separately Identifying Hate Speech</b>\n",
    "\n",
    "Given the poor performance of the earlier model as documented under \"02A-M2 Classification Model (Multiclass Classification - RNN with GloVe Word Embeddings)\": \n",
    "\n",
    "* We decided to collapse Class 0 (Hate Speech) and Class 1 (Offensive Language), where: \n",
    "    * Class 0 and Class 1 are classified as a new class, class 1, which represents hurtful text\n",
    "    * Original Class 2 (Neither) will be reclassified as class 0, representing non-hurtful text\n",
    "    * This allows us to evaluate the dataset as a binomial problem\n",
    "\n",
    "* To balance our classes, we used the original Class 2 as our baseline. This means that we aimed to have the same number of samples in each revised Class as there were in the original Class 2.\n",
    "    * We retained all samples from the original Class 0 (because it was already undersampled compared to the other classes) and undersampled the original Class 1. \n",
    "    * The number of samples we removed from the original Class 1 was calculated as the difference between the number of samples in the original Class 2 and the original Class 0. \n",
    "    * This ensured that the total number of samples in the new Class 1 (which is a combination of the original classes 0 and 1) matched the number of samples in the original Class 2.\n",
    "    * On this note, the new Class 1 comprises both hate speech and offensive language, effectively transforming our multiclass problem into a binary classification problem.\n",
    "\n",
    "* To prevent \"training\" data from leaking into the \"testing\" data - the class rebalancing procedure will be applied:\n",
    "    * after the \"train-test-split\" step, and\n",
    "    * applied to the \"training\" sample only"
   ]
  },
  {
   "cell_type": "markdown",
   "metadata": {},
   "source": [
    "<b> (b) Perform Train-Test-Split </b>"
   ]
  },
  {
   "cell_type": "code",
   "execution_count": 6,
   "metadata": {},
   "outputs": [],
   "source": [
    "# Split the data into training and testing sets with stratification\n",
    "X_train, X_test, y_train, y_test = train_test_split(X, y, test_size=0.2, random_state=42, stratify=y)"
   ]
  },
  {
   "cell_type": "markdown",
   "metadata": {},
   "source": [
    "<b> (c) Perform Binary Re-Classification & Re-Balancing </b>"
   ]
  },
  {
   "cell_type": "markdown",
   "metadata": {},
   "source": [
    "On \"Training\" Data"
   ]
  },
  {
   "cell_type": "code",
   "execution_count": 7,
   "metadata": {},
   "outputs": [
    {
     "data": {
      "text/plain": [
       "class\n",
       "1    15349\n",
       "2     3326\n",
       "0     1143\n",
       "Name: count, dtype: int64"
      ]
     },
     "execution_count": 7,
     "metadata": {},
     "output_type": "execute_result"
    }
   ],
   "source": [
    "# Perform Class Rebalancing on \"Training\" Data\n",
    "\n",
    "# 1. Temporarily Concatenate X_train and y_train (Column-to-Column)\n",
    "df_train = pd.concat(objs=[X_train,y_train], axis=1)\n",
    "\n",
    "# 2. Examine Class Balance within the \"Training\" Data\n",
    "df_train[\"class\"].value_counts()"
   ]
  },
  {
   "cell_type": "code",
   "execution_count": 8,
   "metadata": {},
   "outputs": [
    {
     "name": "stdout",
     "output_type": "stream",
     "text": [
      "== Examine Class Balance : Proportions == \n",
      "\n",
      "class\n",
      "0    0.5\n",
      "1    0.5\n",
      "Name: proportion, dtype: float64\n"
     ]
    }
   ],
   "source": [
    "# 3. Implement Binary Classification & Perform Class Rebalancing \n",
    "class_0   = df_train[df_train[\"class\"] == 2]\n",
    "class_1_0 = df_train[df_train[\"class\"] == 0]\n",
    "class_1_1 = df_train[df_train[\"class\"] == 1].sample(n=(len(class_0)-len(class_1_0)), random_state=42)\n",
    "\n",
    "df_train_balanced = pd.concat([class_0, class_1_0, class_1_1], axis=0)\n",
    "df_train_balanced[\"class\"] = df_train_balanced[\"class\"].map({0:1,1:1,2:0})\n",
    "\n",
    "# 4. Check For Class Balance\n",
    "print(\"== Examine Class Balance : Proportions ==\", \"\\n\")\n",
    "print(df_train_balanced[\"class\"].value_counts(normalize=True))"
   ]
  },
  {
   "cell_type": "code",
   "execution_count": 9,
   "metadata": {},
   "outputs": [
    {
     "name": "stdout",
     "output_type": "stream",
     "text": [
      "X_train_bal data type: object\n"
     ]
    }
   ],
   "source": [
    "# Perform Class Rebalancing on \"Training\" Data (Cont'd)\n",
    "\n",
    "# 4. Add balanced: X_train_bal, y_train_bal\n",
    "X_train_bal = df_train_balanced[\"tweet\"]\n",
    "y_train_bal = df_train_balanced[\"class\"]\n",
    "\n",
    "# 5. Check that X_train_bal \"tweets\" are treated as strings\n",
    "print(\"X_train_bal data type:\", X_train_bal.dtype)"
   ]
  },
  {
   "cell_type": "markdown",
   "metadata": {},
   "source": [
    "On \"Testing\" Data"
   ]
  },
  {
   "cell_type": "code",
   "execution_count": 10,
   "metadata": {},
   "outputs": [],
   "source": [
    "# Perform Class Re-Classification on \"Testing\" Data\n",
    "\n",
    "# 1. Temporarily Concatenate X_test and y_test (Column-to-Column)\n",
    "df_test = pd.concat(objs=[X_test, y_test], axis=1)\n",
    "\n",
    "# 2. Implement Binary Classification\n",
    "df_test[\"class\"] = df_test[\"class\"].map({0:1,1:1,2:0})\n",
    "\n",
    "# 3. Add reclassified: X_test, y_test\n",
    "X_test = df_test[\"tweet\"]\n",
    "y_test = df_test[\"class\"]"
   ]
  },
  {
   "cell_type": "markdown",
   "metadata": {},
   "source": [
    "<br>\n",
    "<b> (d) Tokenise & Pad Text Sequences </b>"
   ]
  },
  {
   "cell_type": "code",
   "execution_count": 11,
   "metadata": {},
   "outputs": [],
   "source": [
    "# Perform Tokenisation\n",
    "\n",
    "# 1. Initialise tokeniser and fit tokeniser on training data \n",
    "tokenizer = Tokenizer()\n",
    "tokenizer.fit_on_texts(X_train_bal)\n",
    "\n",
    "# 2. Use that tokenizer to transform (convert) the text message strings in training and test data into a list of integers where each integer represents the index of that word\n",
    "X_train_bal_seq = tokenizer.texts_to_sequences(X_train_bal)\n",
    "X_test_seq = tokenizer.texts_to_sequences(X_test)"
   ]
  },
  {
   "cell_type": "code",
   "execution_count": 12,
   "metadata": {},
   "outputs": [
    {
     "name": "stdout",
     "output_type": "stream",
     "text": [
      "Max sequence length: 37\n",
      "Preview padded text sequence:\n",
      "[   0    0    0    0    0    0    0    0    0    0    0    0    0    0\n",
      "    0    0    0    0    0    0    0    0    0    0    0 1526  156   24\n",
      "  214   57  482  406    2  499   17   11   47]\n"
     ]
    }
   ],
   "source": [
    "# Pad Text Sequences\n",
    "\n",
    "# 1. Obtain maximum length of text sequences in X_train and X_test\n",
    "max_len_train = max(len(seq) for seq in tokenizer.texts_to_sequences(X_train_bal))\n",
    "max_len_test  = max(len(seq) for seq in tokenizer.texts_to_sequences(X_test))\n",
    "max_len = max(max_len_train, max_len_test)\n",
    "\n",
    "print(\"Max sequence length:\", max_len)\n",
    "\n",
    "# 2. Pad Text Sequences\n",
    "X_train_bal_seq_padded = pad_sequences(X_train_bal_seq, max_len)\n",
    "X_test_seq_padded  = pad_sequences(X_test_seq, max_len)\n",
    "\n",
    "# 3. Preview padded text sequence\n",
    "print(\"Preview padded text sequence:\")\n",
    "print(X_test_seq_padded[0])"
   ]
  },
  {
   "cell_type": "markdown",
   "metadata": {},
   "source": [
    "<br>\n",
    "\n",
    "---\n",
    "\n",
    "<b> 3. Construct GloVe Word Embedding Matrix </b>\n",
    "\n",
    "As keras' default process to vectorise text sequencess is not semantics-based, a semantics-based approach utilising GloVe word embeddings will be adopted. \n",
    "\n",
    "\n",
    "(a) This step produces a GloVe Word Embedding Matrix required for semantics-based vectorisation, with guidance having been obtained from:\n",
    "* Towards Data Science. Text Classification using Word Embeddings and Deep Learning in Python - Classifying Tweets from ... .\n",
    "* <font size=\"1.5\"> weblink: https://towardsdatascience.com/text-classification-using-word-embeddings-and-deep-learning-in-python-classifying-tweets-from-6fe644fcfc81 </font>\n",
    "<br>\n",
    "\n",
    "(b) Details: GloVe Pre-Trained Word Embeddings Utilised\n",
    "* As our data comprise twitter tweets, a GloVe Word Embedding that was pre-trained on 2 billion tweets will be utilised\n",
    "* While word embedding vectors of dimensions 50d, 100d, & 200d are available, embeddings with <u>200d</u> will be used to capture finer differences between words' semantic meaning\n",
    "* <font size=\"1.5\"> weblink: https://nlp.stanford.edu/projects/glove/ </font>\n",
    "* <font size=\"1.5\"> download link: https://nlp.stanford.edu/data/glove.twitter.27B.zip </font>\n",
    "<br>\n",
    "\n",
    "(c) Broad Outline of Steps Required to Construct the GloVe Word Embedding Matrix\n",
    "1. Recall tokenised \"training\" data\n",
    "2. Create a parsimonious GloVe Word Embedding Matrix containing vectorised forms of the \"training\" data's tokens only \n",
    "    * i.e., other words within GloVe's word embeddings repository are excluded as they are not relevant to our analysis; and their exclusion allows us to conserve as much memory as possible\n",
    "    * code for creating the parsimonious GloVe Word Embedding Matrix: drawn from the \"Towards Data Science\" article referenced above"
   ]
  },
  {
   "cell_type": "code",
   "execution_count": 13,
   "metadata": {},
   "outputs": [],
   "source": [
    "# 1. Recall tokenised \"training\" data\n",
    "tokenizer = Tokenizer()\n",
    "tokenizer.fit_on_texts(X_train_bal)"
   ]
  },
  {
   "cell_type": "code",
   "execution_count": 14,
   "metadata": {},
   "outputs": [],
   "source": [
    "# 2. Define a class to create a parsimonious GloVe Word Embedding Matrix\n",
    "# code source: https://towardsdatascience.com/text-classification-using-word-embeddings-and-deep-learning-in-python-classifying-tweets-from-6fe644fcfc81\n",
    "\n",
    "class Embeddings():\n",
    "\n",
    "    # A class to read a given word embedding file and to create a parsimonious word embedding matrix\n",
    "\n",
    "    def __init__(self, path, vector_dimension):\n",
    "        self.path = path \n",
    "        self.vector_dimension = vector_dimension\n",
    "    \n",
    "    @staticmethod\n",
    "    def get_coefs(word, *arr): \n",
    "        return word, np.asarray(arr, dtype='float32')\n",
    "\n",
    "    def get_embedding_index(self):\n",
    "        embeddings_index = dict(self.get_coefs(*o.split(\" \")) for o in open(self.path, errors='ignore'))\n",
    "        return embeddings_index\n",
    "\n",
    "    def create_embedding_matrix(self, tokenizer, max_features):\n",
    "    \n",
    "        # A method to create the embedding matrix\n",
    "        \n",
    "        model_embed = self.get_embedding_index()\n",
    "\n",
    "        embedding_matrix = np.zeros((max_features + 1, self.vector_dimension))\n",
    "        for word, index in tokenizer.word_index.items():\n",
    "            if index > max_features:\n",
    "                break\n",
    "            else:\n",
    "                try:\n",
    "                    embedding_matrix[index] = model_embed[word]\n",
    "                except:\n",
    "                    continue\n",
    "\n",
    "        return embedding_matrix"
   ]
  },
  {
   "cell_type": "code",
   "execution_count": 15,
   "metadata": {},
   "outputs": [],
   "source": [
    "# 3. Create parsimonious GloVe Word Embedding Matrix\n",
    "\n",
    "embed_path = \"data/glove.twitter.27B.200d.txt\"\n",
    "embed_dim = 200  # corresponding to the number of dimensions per word in the GloVe repository above \n",
    "\n",
    "embedding = Embeddings(embed_path, embed_dim)\n",
    "embedding_matrix = embedding.create_embedding_matrix(tokenizer, len(tokenizer.word_counts))"
   ]
  },
  {
   "cell_type": "markdown",
   "metadata": {},
   "source": [
    "\n",
    "---\n",
    "\n",
    "<b> 4. Train Classification Model </b>\n",
    "\n",
    "1. Define Model\n",
    "2. Define callbacks\n",
    "3. Fit the RNN model"
   ]
  },
  {
   "cell_type": "code",
   "execution_count": 16,
   "metadata": {},
   "outputs": [
    {
     "name": "stderr",
     "output_type": "stream",
     "text": [
      "WARNING:absl:At this time, the v2.11+ optimizer `tf.keras.optimizers.Adam` runs slowly on M1/M2 Macs, please use the legacy Keras optimizer instead, located at `tf.keras.optimizers.legacy.Adam`.\n"
     ]
    },
    {
     "name": "stdout",
     "output_type": "stream",
     "text": [
      "Model: \"sequential\"\n",
      "_________________________________________________________________\n",
      " Layer (type)                Output Shape              Param #   \n",
      "=================================================================\n",
      " embedding (Embedding)       (None, None, 200)         2120200   \n",
      "                                                                 \n",
      " bidirectional (Bidirection  (None, 64)                59648     \n",
      " al)                                                             \n",
      "                                                                 \n",
      " dense (Dense)               (None, 512)               33280     \n",
      "                                                                 \n",
      " batch_normalization (Batch  (None, 512)               2048      \n",
      " Normalization)                                                  \n",
      "                                                                 \n",
      " dropout (Dropout)           (None, 512)               0         \n",
      "                                                                 \n",
      " dense_1 (Dense)             (None, 1)                 513       \n",
      "                                                                 \n",
      "=================================================================\n",
      "Total params: 2215689 (8.45 MB)\n",
      "Trainable params: 2214665 (8.45 MB)\n",
      "Non-trainable params: 1024 (4.00 KB)\n",
      "_________________________________________________________________\n"
     ]
    }
   ],
   "source": [
    "# 1. Define a RNN-LSTM model architecture using Keras\n",
    "model = keras.models.Sequential([\n",
    "    \n",
    "    layers.Embedding(len(tokenizer.index_word)+1, embed_dim, weights=[embedding_matrix]),  # weights from: parsimonious GloVe Word Embedding Matrix\n",
    "\n",
    "    layers.Bidirectional(layers.LSTM(32)),\n",
    "    layers.Dense(512, activation='relu', kernel_regularizer='l2'),\n",
    "    layers.BatchNormalization(),\n",
    "    layers.Dropout(0.3),\n",
    "    layers.Dense(1, activation='sigmoid')\n",
    "])\n",
    "# Configure the model with Adam optimizer, categorical crossentropy loss, and accuracy as the evaluation metric\n",
    "opt = Adam(learning_rate=0.001)\n",
    "model.compile(loss='binary_crossentropy',\n",
    "              optimizer=opt,\n",
    "              metrics=['accuracy'])\n",
    "\n",
    "model.summary()"
   ]
  },
  {
   "cell_type": "code",
   "execution_count": 17,
   "metadata": {},
   "outputs": [],
   "source": [
    "# 2. Define callbacks\n",
    "\n",
    "# EarlyStopping callback to stop training if 'val_accuracy' doesn't improve for 10 consecutive epochs,\n",
    "# Restoring the weights of the epoch with the best validation accuracy.\n",
    "es = EarlyStopping(patience=10,\n",
    "                   monitor = 'val_accuracy',\n",
    "                   restore_best_weights = True)\n",
    " \n",
    "# Reduce learning rate by a factor of 0.5 if 'val_loss' doesn't improve for 5 consecutive epochs.    \n",
    "lr = ReduceLROnPlateau(patience = 5,\n",
    "                       monitor = 'val_loss',\n",
    "                       factor = 0.5,\n",
    "                       verbose = 0)"
   ]
  },
  {
   "cell_type": "code",
   "execution_count": 18,
   "metadata": {},
   "outputs": [
    {
     "name": "stdout",
     "output_type": "stream",
     "text": [
      "Epoch 1/50\n"
     ]
    },
    {
     "name": "stdout",
     "output_type": "stream",
     "text": [
      "208/208 [==============================] - 4s 14ms/step - loss: 0.7677 - accuracy: 0.8637 - val_loss: 0.5545 - val_accuracy: 0.9473 - lr: 0.0010\n",
      "Epoch 2/50\n",
      "208/208 [==============================] - 3s 13ms/step - loss: 0.2906 - accuracy: 0.9406 - val_loss: 0.2723 - val_accuracy: 0.9516 - lr: 0.0010\n",
      "Epoch 3/50\n",
      "208/208 [==============================] - 3s 13ms/step - loss: 0.1589 - accuracy: 0.9644 - val_loss: 0.1791 - val_accuracy: 0.9550 - lr: 0.0010\n",
      "Epoch 4/50\n",
      "208/208 [==============================] - 3s 14ms/step - loss: 0.0929 - accuracy: 0.9797 - val_loss: 0.2655 - val_accuracy: 0.9419 - lr: 0.0010\n",
      "Epoch 5/50\n",
      "208/208 [==============================] - 3s 14ms/step - loss: 0.0635 - accuracy: 0.9832 - val_loss: 0.4406 - val_accuracy: 0.8930 - lr: 0.0010\n",
      "Epoch 6/50\n",
      "208/208 [==============================] - 3s 15ms/step - loss: 0.0413 - accuracy: 0.9908 - val_loss: 0.2185 - val_accuracy: 0.9556 - lr: 0.0010\n",
      "Epoch 7/50\n",
      "208/208 [==============================] - 3s 16ms/step - loss: 0.0338 - accuracy: 0.9920 - val_loss: 0.2179 - val_accuracy: 0.9520 - lr: 0.0010\n",
      "Epoch 8/50\n",
      "208/208 [==============================] - 4s 17ms/step - loss: 0.0265 - accuracy: 0.9943 - val_loss: 0.2826 - val_accuracy: 0.9354 - lr: 0.0010\n",
      "Epoch 9/50\n",
      "208/208 [==============================] - 4s 17ms/step - loss: 0.0199 - accuracy: 0.9961 - val_loss: 0.2649 - val_accuracy: 0.9463 - lr: 5.0000e-04\n",
      "Epoch 10/50\n",
      "208/208 [==============================] - 4s 18ms/step - loss: 0.0133 - accuracy: 0.9971 - val_loss: 0.3190 - val_accuracy: 0.9384 - lr: 5.0000e-04\n",
      "Epoch 11/50\n",
      "208/208 [==============================] - 4s 19ms/step - loss: 0.0102 - accuracy: 0.9985 - val_loss: 0.3192 - val_accuracy: 0.9344 - lr: 5.0000e-04\n",
      "Epoch 12/50\n",
      "208/208 [==============================] - 4s 18ms/step - loss: 0.0081 - accuracy: 0.9988 - val_loss: 0.3584 - val_accuracy: 0.9344 - lr: 5.0000e-04\n",
      "Epoch 13/50\n",
      "208/208 [==============================] - 4s 19ms/step - loss: 0.0095 - accuracy: 0.9980 - val_loss: 0.3167 - val_accuracy: 0.9419 - lr: 5.0000e-04\n",
      "Epoch 14/50\n",
      "208/208 [==============================] - 4s 19ms/step - loss: 0.0078 - accuracy: 0.9988 - val_loss: 0.3168 - val_accuracy: 0.9447 - lr: 2.5000e-04\n",
      "Epoch 15/50\n",
      "208/208 [==============================] - 4s 18ms/step - loss: 0.0067 - accuracy: 0.9988 - val_loss: 0.3083 - val_accuracy: 0.9447 - lr: 2.5000e-04\n",
      "Epoch 16/50\n",
      "208/208 [==============================] - 3s 16ms/step - loss: 0.0048 - accuracy: 0.9995 - val_loss: 0.3204 - val_accuracy: 0.9405 - lr: 2.5000e-04\n"
     ]
    }
   ],
   "source": [
    "# 3. Fit the RNN model\n",
    "history = model.fit(X_train_bal_seq_padded, y_train_bal,\n",
    "                    validation_data=(X_test_seq_padded, y_test),\n",
    "                    epochs=50,\n",
    "                    verbose=1,\n",
    "                    batch_size=32,\n",
    "                    callbacks=[lr, es])"
   ]
  },
  {
   "cell_type": "markdown",
   "metadata": {},
   "source": [
    "\n",
    "---\n",
    "\n",
    "<b> 5. Evaluate Classification Model </b>\n",
    "\n",
    "(a) Evaluate loss and accuracy epoch-by-epoch"
   ]
  },
  {
   "cell_type": "code",
   "execution_count": 19,
   "metadata": {},
   "outputs": [
    {
     "data": {
      "image/png": "[encoded data removed]",
      "text/plain": [
       "<Figure size 640x480 with 1 Axes>"
      ]
     },
     "metadata": {},
     "output_type": "display_data"
    },
    {
     "data": {
      "image/png": "[encoded data removed]",
      "text/plain": [
       "<Figure size 640x480 with 1 Axes>"
      ]
     },
     "metadata": {},
     "output_type": "display_data"
    }
   ],
   "source": [
    "# Graph: loss and accuracy epoch-by-epoch\n",
    "history_df = pd.DataFrame(history.history)\n",
    "history_df.loc[:, ['loss', 'val_loss']].plot()\n",
    "history_df.loc[:, ['accuracy', 'val_accuracy']].plot()\n",
    "plt.show()"
   ]
  },
  {
   "cell_type": "code",
   "execution_count": 20,
   "metadata": {},
   "outputs": [
    {
     "data": {
      "text/html": [
       "<div>\n",
       "<style scoped>\n",
       "    .dataframe tbody tr th:only-of-type {\n",
       "        vertical-align: middle;\n",
       "    }\n",
       "\n",
       "    .dataframe tbody tr th {\n",
       "        vertical-align: top;\n",
       "    }\n",
       "\n",
       "    .dataframe thead th {\n",
       "        text-align: right;\n",
       "    }\n",
       "</style>\n",
       "<table border=\"1\" class=\"dataframe\">\n",
       "  <thead>\n",
       "    <tr style=\"text-align: right;\">\n",
       "      <th></th>\n",
       "      <th>loss</th>\n",
       "      <th>accuracy</th>\n",
       "      <th>val_loss</th>\n",
       "      <th>val_accuracy</th>\n",
       "      <th>lr</th>\n",
       "    </tr>\n",
       "  </thead>\n",
       "  <tbody>\n",
       "    <tr>\n",
       "      <th>0</th>\n",
       "      <td>0.767671</td>\n",
       "      <td>0.863650</td>\n",
       "      <td>0.554518</td>\n",
       "      <td>0.947326</td>\n",
       "      <td>0.00100</td>\n",
       "    </tr>\n",
       "    <tr>\n",
       "      <th>1</th>\n",
       "      <td>0.290618</td>\n",
       "      <td>0.940619</td>\n",
       "      <td>0.272289</td>\n",
       "      <td>0.951564</td>\n",
       "      <td>0.00100</td>\n",
       "    </tr>\n",
       "    <tr>\n",
       "      <th>2</th>\n",
       "      <td>0.158875</td>\n",
       "      <td>0.964372</td>\n",
       "      <td>0.179110</td>\n",
       "      <td>0.954995</td>\n",
       "      <td>0.00100</td>\n",
       "    </tr>\n",
       "    <tr>\n",
       "      <th>3</th>\n",
       "      <td>0.092861</td>\n",
       "      <td>0.979705</td>\n",
       "      <td>0.265475</td>\n",
       "      <td>0.941877</td>\n",
       "      <td>0.00100</td>\n",
       "    </tr>\n",
       "    <tr>\n",
       "      <th>4</th>\n",
       "      <td>0.063530</td>\n",
       "      <td>0.983163</td>\n",
       "      <td>0.440631</td>\n",
       "      <td>0.893037</td>\n",
       "      <td>0.00100</td>\n",
       "    </tr>\n",
       "    <tr>\n",
       "      <th>5</th>\n",
       "      <td>0.041319</td>\n",
       "      <td>0.990830</td>\n",
       "      <td>0.218499</td>\n",
       "      <td>0.955600</td>\n",
       "      <td>0.00100</td>\n",
       "    </tr>\n",
       "    <tr>\n",
       "      <th>6</th>\n",
       "      <td>0.033776</td>\n",
       "      <td>0.992032</td>\n",
       "      <td>0.217905</td>\n",
       "      <td>0.951968</td>\n",
       "      <td>0.00100</td>\n",
       "    </tr>\n",
       "    <tr>\n",
       "      <th>7</th>\n",
       "      <td>0.026543</td>\n",
       "      <td>0.994287</td>\n",
       "      <td>0.282566</td>\n",
       "      <td>0.935419</td>\n",
       "      <td>0.00100</td>\n",
       "    </tr>\n",
       "    <tr>\n",
       "      <th>8</th>\n",
       "      <td>0.019937</td>\n",
       "      <td>0.996091</td>\n",
       "      <td>0.264910</td>\n",
       "      <td>0.946317</td>\n",
       "      <td>0.00050</td>\n",
       "    </tr>\n",
       "    <tr>\n",
       "      <th>9</th>\n",
       "      <td>0.013293</td>\n",
       "      <td>0.997144</td>\n",
       "      <td>0.318989</td>\n",
       "      <td>0.938446</td>\n",
       "      <td>0.00050</td>\n",
       "    </tr>\n",
       "    <tr>\n",
       "      <th>10</th>\n",
       "      <td>0.010208</td>\n",
       "      <td>0.998497</td>\n",
       "      <td>0.319205</td>\n",
       "      <td>0.934410</td>\n",
       "      <td>0.00050</td>\n",
       "    </tr>\n",
       "    <tr>\n",
       "      <th>11</th>\n",
       "      <td>0.008062</td>\n",
       "      <td>0.998797</td>\n",
       "      <td>0.358360</td>\n",
       "      <td>0.934410</td>\n",
       "      <td>0.00050</td>\n",
       "    </tr>\n",
       "    <tr>\n",
       "      <th>12</th>\n",
       "      <td>0.009548</td>\n",
       "      <td>0.998046</td>\n",
       "      <td>0.316746</td>\n",
       "      <td>0.941877</td>\n",
       "      <td>0.00050</td>\n",
       "    </tr>\n",
       "    <tr>\n",
       "      <th>13</th>\n",
       "      <td>0.007767</td>\n",
       "      <td>0.998797</td>\n",
       "      <td>0.316813</td>\n",
       "      <td>0.944702</td>\n",
       "      <td>0.00025</td>\n",
       "    </tr>\n",
       "    <tr>\n",
       "      <th>14</th>\n",
       "      <td>0.006738</td>\n",
       "      <td>0.998797</td>\n",
       "      <td>0.308280</td>\n",
       "      <td>0.944702</td>\n",
       "      <td>0.00025</td>\n",
       "    </tr>\n",
       "    <tr>\n",
       "      <th>15</th>\n",
       "      <td>0.004848</td>\n",
       "      <td>0.999549</td>\n",
       "      <td>0.320419</td>\n",
       "      <td>0.940464</td>\n",
       "      <td>0.00025</td>\n",
       "    </tr>\n",
       "  </tbody>\n",
       "</table>\n",
       "</div>"
      ],
      "text/plain": [
       "        loss  accuracy  val_loss  val_accuracy       lr\n",
       "0   0.767671  0.863650  0.554518      0.947326  0.00100\n",
       "1   0.290618  0.940619  0.272289      0.951564  0.00100\n",
       "2   0.158875  0.964372  0.179110      0.954995  0.00100\n",
       "3   0.092861  0.979705  0.265475      0.941877  0.00100\n",
       "4   0.063530  0.983163  0.440631      0.893037  0.00100\n",
       "5   0.041319  0.990830  0.218499      0.955600  0.00100\n",
       "6   0.033776  0.992032  0.217905      0.951968  0.00100\n",
       "7   0.026543  0.994287  0.282566      0.935419  0.00100\n",
       "8   0.019937  0.996091  0.264910      0.946317  0.00050\n",
       "9   0.013293  0.997144  0.318989      0.938446  0.00050\n",
       "10  0.010208  0.998497  0.319205      0.934410  0.00050\n",
       "11  0.008062  0.998797  0.358360      0.934410  0.00050\n",
       "12  0.009548  0.998046  0.316746      0.941877  0.00050\n",
       "13  0.007767  0.998797  0.316813      0.944702  0.00025\n",
       "14  0.006738  0.998797  0.308280      0.944702  0.00025\n",
       "15  0.004848  0.999549  0.320419      0.940464  0.00025"
      ]
     },
     "execution_count": 20,
     "metadata": {},
     "output_type": "execute_result"
    }
   ],
   "source": [
    "# Table: loss and accuracy epoch-by-epoch\n",
    "history_df"
   ]
  },
  {
   "cell_type": "markdown",
   "metadata": {},
   "source": [
    "(b) Obtain model evaluation metrics"
   ]
  },
  {
   "cell_type": "code",
   "execution_count": 21,
   "metadata": {},
   "outputs": [],
   "source": [
    "# Define function: generate predicted classes as a numpy array\n",
    "\n",
    "def pred_class(pred_prob_varname):\n",
    "    pred_class_all = (pred_prob_varname >= 0.5).astype(int)\n",
    "    return pred_class_all"
   ]
  },
  {
   "cell_type": "code",
   "execution_count": 22,
   "metadata": {},
   "outputs": [
    {
     "name": "stdout",
     "output_type": "stream",
     "text": [
      " 92/208 [============>.................] - ETA: 0s"
     ]
    },
    {
     "name": "stdout",
     "output_type": "stream",
     "text": [
      "208/208 [==============================] - 1s 3ms/step\n",
      "155/155 [==============================] - 0s 3ms/step\n"
     ]
    }
   ],
   "source": [
    "# Obtain predicted probabilities and classes\n",
    "y_train_pred_prob  = model.predict(X_train_bal_seq_padded)\n",
    "y_train_pred_class = pred_class(y_train_pred_prob)\n",
    "\n",
    "y_test_pred_prob  = model.predict(X_test_seq_padded)\n",
    "y_test_pred_class = pred_class(y_test_pred_prob)"
   ]
  },
  {
   "cell_type": "code",
   "execution_count": 23,
   "metadata": {},
   "outputs": [
    {
     "name": "stdout",
     "output_type": "stream",
     "text": [
      "== Classification Report: Training Data == \n",
      "\n",
      "              precision    recall  f1-score   support\n",
      "\n",
      "           0       1.00      0.98      0.99      3326\n",
      "           1       0.99      1.00      0.99      3326\n",
      "\n",
      "    accuracy                           0.99      6652\n",
      "   macro avg       0.99      0.99      0.99      6652\n",
      "weighted avg       0.99      0.99      0.99      6652\n",
      "\n"
     ]
    }
   ],
   "source": [
    "# Print model evaluation metrics: \"training\" data\n",
    "print(\"== Classification Report: Training Data ==\", \"\\n\")\n",
    "print(classification_report(y_train_bal, y_train_pred_class))"
   ]
  },
  {
   "cell_type": "code",
   "execution_count": 24,
   "metadata": {},
   "outputs": [
    {
     "name": "stdout",
     "output_type": "stream",
     "text": [
      "== Classification Report: Testing Data == \n",
      "\n",
      "              precision    recall  f1-score   support\n",
      "\n",
      "           0       0.86      0.88      0.87       832\n",
      "           1       0.98      0.97      0.97      4123\n",
      "\n",
      "    accuracy                           0.96      4955\n",
      "   macro avg       0.92      0.93      0.92      4955\n",
      "weighted avg       0.96      0.96      0.96      4955\n",
      "\n"
     ]
    }
   ],
   "source": [
    "# Print model evaluation metrics: \"testing\" data\n",
    "print(\"== Classification Report: Testing Data ==\", \"\\n\")\n",
    "print(classification_report(y_test, y_test_pred_class))"
   ]
  },
  {
   "cell_type": "markdown",
   "metadata": {},
   "source": [
    "<b>Comments</b>\n",
    "\n",
    "Performance on: \"Training\" Data\n",
    "* The model performs well across all evaluation metrics and across all classes, with (a) precision, (b) recall, (c) f1-score and (d) overall accuracy being > 0.90 \n",
    "\n",
    "Performance on: \"Testing\" Data\n",
    "* The model performs well across all evaluation metrics and across all classes, with (a) precision, (b) recall, (c) f1-score and (d) overall accuracy being > 0.85 "
   ]
  },
  {
   "cell_type": "markdown",
   "metadata": {},
   "source": [
    "\n",
    "---\n",
    "\n",
    "<b>6. Comparison of Model Performance - Multinomial vs. Binomial Classifier: w GloVe-based Word Vectoriser</b>\n",
    "\n",
    "(a) Evaluation Metrics of Interest\n",
    "\n",
    "* Accuracy: % of predictions that are correct \n",
    "\n",
    "* F1-Score: Composite measure that considers both (i) “precision” and (ii) “recall”\n",
    "\n",
    "    * “precision”: % of predicted “positives” that are true\n",
    "        * Relevant as a low precision score on detecting hate speech indicates that we are wrongly censoring non-hate speech that could be of interest to readers\n",
    "\n",
    "    * “recall”: % of actual “positives” that are predicted correctly\n",
    "        * Relevant as we wish to identify as high a proportion of hate speech that exists\n",
    "<br>\n",
    "\n",
    "(b-1) Training Data\n",
    "\n",
    "|Multinomial|F1-Score|Accuracy|Support|\n",
    "|---|---|---|---|\n",
    "|Class 0: Hate|0.97|---|3429|\n",
    "|Class 1: Offensive|0.96|---|3350|\n",
    "|Class 2: Neither|0.99|---|3326|\n",
    "|Overall|---|0.97|10105|\n",
    "\n",
    "<br>\n",
    "\n",
    "|Binary|F1-Score|Accuracy|Support|\n",
    "|---|---|---|---|\n",
    "|Class 0: Neither|0.98|---|3326|\n",
    "|Class 1: Hateful + Offensive|0.98|---|3326|\n",
    "|Overall|---|0.98|6652|\n",
    "\n",
    "<br>\n",
    "\n",
    "(b-2) Testing Data\n",
    "\n",
    "|Multinomial|F1-Score|Accuracy|Support|\n",
    "|---|---|---|---|\n",
    "|Class 0: Hate|0.40|---|285|\n",
    "|Class 1: Offensive|0.91|---|3838|\n",
    "|Class 2: Neither|0.82|---|832|\n",
    "|Overall|---|0.86|4955|\n",
    "\n",
    "<br>\n",
    "\n",
    "|Binary|F1-Score|Accuracy|Support|\n",
    "|---|---|---|---|\n",
    "|Class 0: Neither|0.86|---|832|\n",
    "|Class 1: Hateful + Offensive|0.97|---|4123|\n",
    "|Overall|---|0.95|4955|\n",
    "\n",
    "*note: scores may vary from code re-run to re-run*\n",
    "<br>\n",
    "\n",
    "---\n",
    "\n",
    "<b>7. Key Insights</b>\n",
    "\n",
    "Switching from a multiclass to binary classification approach allows us to circumvent difficulties with separately identifying hate speech, whilst being able to identify hurtful speech (hate speech & offensive language) well - considering the high “accuracy” and “F1” “test” scores and their small gap with “training” scores. "
   ]
  },
  {
   "cell_type": "markdown",
   "metadata": {},
   "source": [
    "\n",
    "---\n",
    "\n",
    "<b> 8. Export Fitted Model's Components as Pickle Files </b>"
   ]
  },
  {
   "cell_type": "code",
   "execution_count": 25,
   "metadata": {},
   "outputs": [
    {
     "data": {
      "text/plain": [
       "['pickle_files/Model_02B_model.pkl']"
      ]
     },
     "execution_count": 25,
     "metadata": {},
     "output_type": "execute_result"
    }
   ],
   "source": [
    "# Export Fitted Tokeniser and Model\n",
    "joblib.dump(tokenizer,\"pickle_files/Model_02B_tokenizer.pkl\")\n",
    "joblib.dump(model,\"pickle_files/Model_02B_model.pkl\")"
   ]
  }
 ],
 "metadata": {
  "kernelspec": {
   "display_name": "Python 3",
   "language": "python",
   "name": "python3"
  },
  "language_info": {
   "codemirror_mode": {
    "name": "ipython",
    "version": 3
   },
   "file_extension": ".py",
   "mimetype": "text/x-python",
   "name": "python",
   "nbconvert_exporter": "python",
   "pygments_lexer": "ipython3",
   "version": "3.11.7"
  }
 },
 "nbformat": 4,
 "nbformat_minor": 2
}
