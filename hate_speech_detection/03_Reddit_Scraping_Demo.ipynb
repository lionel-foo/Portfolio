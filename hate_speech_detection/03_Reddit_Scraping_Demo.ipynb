{
 "cells": [
  {
   "cell_type": "markdown",
   "metadata": {},
   "source": [
    "# ![](https://ga-dash.s3.amazonaws.com/production/assets/logo-9f88ae6c9c3871690e33280fcf557f33.png) Project 4: Detecting Hate Speech"
   ]
  },
  {
   "cell_type": "markdown",
   "metadata": {},
   "source": [
    "\n",
    "--- \n",
    "\n",
    "SG-DSI-41 Group 01: Lionel Foo, Joel Lim, Poon Wenzhe, Daryl Chia\n",
    "\n",
    "### <b> Notebook: 03 Reddit Scraping for Demo</b>\n",
    "\n",
    "#### Overview\n",
    "\n",
    "* Scrape a subreddit for hottest threads to obtain data for the demo.\n"
   ]
  },
  {
   "cell_type": "markdown",
   "metadata": {},
   "source": [
    "\n",
    "---\n",
    "\n",
    "### 01 Import Libraries"
   ]
  },
  {
   "cell_type": "code",
   "execution_count": 1,
   "metadata": {},
   "outputs": [],
   "source": [
    "# 1. Installation\n",
    "#!pip install praw\n",
    "\n",
    "# 2. Imports\n",
    "import praw\n",
    "import pandas as pd\n",
    "import re"
   ]
  },
  {
   "cell_type": "markdown",
   "metadata": {},
   "source": [
    "---\n",
    "\n",
    "### 02 Data Collection - Scraping Subreddit Data"
   ]
  },
  {
   "cell_type": "markdown",
   "metadata": {},
   "source": [
    "* Scrape 100 \"hottest\" threads & accompanying comments from r/TheRightCantMeme/ subreddit\n",
    "* The below includes leftover code from Project 3 scraping with details such as post hint"
   ]
  },
  {
   "cell_type": "code",
   "execution_count": 2,
   "metadata": {},
   "outputs": [],
   "source": [
    "# authenticate with Reddit API - redacted input api key as required\n",
    "reddit = praw.Reddit(\n",
    "    client_id = \"\",\n",
    "    client_secret = \"\",\n",
    "    user_agent = \"\",\n",
    "    ratelimit_seconds = 30)\n",
    "\n",
    "# create 2 separate lists to store threads and comments after we scrape them from the subreddit\n",
    "threads = []\n",
    "comments = []\n",
    "\n",
    "# subreddit to scrape\n",
    "subreddit = reddit.subreddit(\"TheRightCantMeme\")\n",
    "\n",
    "# iterate through hottest threads in subreddit\n",
    "# scrape 100 threads (for illustrative purposes: to reset to 1,000) \n",
    "for submission in subreddit.hot(limit = 100):\n",
    "    try:\n",
    "        tr_author_nm = submission.author.name\n",
    "    except:\n",
    "        #store empty name\n",
    "        tr_author_nm = \"\"\n",
    "    if hasattr(submission, \"post_hint\"):\n",
    "        hint = submission.post_hint\n",
    "    else:\n",
    "        hint = \"\"\n",
    "\n",
    "\n",
    "    # store thread data\n",
    "    thread = {\n",
    "        \"id\": submission.id,\n",
    "        \"title\": submission.title, \n",
    "        \"score\": submission.score,\n",
    "        \"num_comments\": submission.num_comments,\n",
    "        \"post_hint\": hint,\n",
    "        \"self_text\": submission.selftext,\n",
    "        \"author_name\": tr_author_nm,\n",
    "        \"url\": submission.url\n",
    "    }  \n",
    "    threads.append(thread)\n",
    "    \n",
    "\n",
    "    # store all comment data under thread\n",
    "    submission.comments.replace_more(limit=0)\n",
    "    for comment in submission.comments.list():\n",
    "        # required as there are some comments without author name\n",
    "        author_nm = \"\"\n",
    "        try:\n",
    "            author_nm = comment.author.name\n",
    "        except:\n",
    "            # store empy name\n",
    "            author_nm = \"\"\n",
    "        # store thread data\n",
    "        comment_data = {\n",
    "            \"thread_id\": submission.id, \n",
    "            \"comment_id\": comment.id,\n",
    "            \"comment_text\": comment.body,\n",
    "            \"comment_score\" : comment.score,\n",
    "            \"author_name\": author_nm\n",
    "        }\n",
    "        comments.append(comment_data)"
   ]
  },
  {
   "cell_type": "markdown",
   "metadata": {},
   "source": [
    "* Convert Lists to Pandas Dataframes, and Export Dataframes as CSV files"
   ]
  },
  {
   "cell_type": "code",
   "execution_count": 3,
   "metadata": {},
   "outputs": [],
   "source": [
    "df_threads = pd.DataFrame(threads)\n",
    "df_comments = pd.DataFrame(comments)\n",
    "\n",
    "df_threads.to_csv('./demo/threads.csv', index=False)\n",
    "df_comments.to_csv('./demo/comments.csv', index=False)"
   ]
  },
  {
   "cell_type": "markdown",
   "metadata": {},
   "source": [
    "\n",
    "---\n",
    "\n",
    "### 03 EDA & Cleaning"
   ]
  },
  {
   "cell_type": "markdown",
   "metadata": {},
   "source": [
    "* Check the number of threads and comments"
   ]
  },
  {
   "cell_type": "code",
   "execution_count": 4,
   "metadata": {},
   "outputs": [
    {
     "name": "stdout",
     "output_type": "stream",
     "text": [
      "Thread Rows:  100\n",
      "Comment Rows:  4130\n"
     ]
    }
   ],
   "source": [
    "print('Thread Rows: ', df_threads.shape[0])\n",
    "print('Comment Rows: ', df_comments.shape[0])"
   ]
  },
  {
   "cell_type": "markdown",
   "metadata": {},
   "source": [
    "* Removal of rows with comment text as [deleted]"
   ]
  },
  {
   "cell_type": "code",
   "execution_count": 5,
   "metadata": {},
   "outputs": [
    {
     "name": "stdout",
     "output_type": "stream",
     "text": [
      "Comment Rows:  4025\n"
     ]
    }
   ],
   "source": [
    "# create a mask variable to contain rows with \"deleted\" or \"removed\" based on part (2c)\n",
    "deleted_texts = [\"[deleted]\", \"[removed]\"]\n",
    "\n",
    "# 1. remove them from dataframe = coffee\n",
    "df_comments_clean = df_comments[~df_comments[\"comment_text\"].isin(deleted_texts)]\n",
    "\n",
    "print('Comment Rows: ', df_comments_clean.shape[0])"
   ]
  },
  {
   "cell_type": "markdown",
   "metadata": {},
   "source": [
    "* Remove Reddit's own markdown formatting for links and keep only the text"
   ]
  },
  {
   "cell_type": "code",
   "execution_count": 6,
   "metadata": {},
   "outputs": [
    {
     "data": {
      "text/html": [
       "<div>\n",
       "<style scoped>\n",
       "    .dataframe tbody tr th:only-of-type {\n",
       "        vertical-align: middle;\n",
       "    }\n",
       "\n",
       "    .dataframe tbody tr th {\n",
       "        vertical-align: top;\n",
       "    }\n",
       "\n",
       "    .dataframe thead th {\n",
       "        text-align: right;\n",
       "    }\n",
       "</style>\n",
       "<table border=\"1\" class=\"dataframe\">\n",
       "  <thead>\n",
       "    <tr style=\"text-align: right;\">\n",
       "      <th></th>\n",
       "      <th>thread_id</th>\n",
       "      <th>comment_id</th>\n",
       "      <th>comment_text</th>\n",
       "      <th>comment_score</th>\n",
       "      <th>author_name</th>\n",
       "    </tr>\n",
       "  </thead>\n",
       "  <tbody>\n",
       "    <tr>\n",
       "      <th>359</th>\n",
       "      <td>tzaw3i</td>\n",
       "      <td>j9a8f7s</td>\n",
       "      <td>[Those](https://en.wikipedia.org/wiki/Powers_o...</td>\n",
       "      <td>3</td>\n",
       "      <td>Niomedes</td>\n",
       "    </tr>\n",
       "    <tr>\n",
       "      <th>943</th>\n",
       "      <td>1al0n50</td>\n",
       "      <td>kpc2tjm</td>\n",
       "      <td>[Here](https://www.mic.com/articles/185045/wol...</td>\n",
       "      <td>79</td>\n",
       "      <td>Alric_Rahl</td>\n",
       "    </tr>\n",
       "    <tr>\n",
       "      <th>1060</th>\n",
       "      <td>1al51n7</td>\n",
       "      <td>kpefwp3</td>\n",
       "      <td>[Ayo](https://en.m.wikipedia.org/wiki/Lalibela)</td>\n",
       "      <td>22</td>\n",
       "      <td>Soviet-pirate</td>\n",
       "    </tr>\n",
       "    <tr>\n",
       "      <th>1997</th>\n",
       "      <td>1ajh1mt</td>\n",
       "      <td>kp1mimr</td>\n",
       "      <td>[Christian Socialism](https://en.wikipedia.org...</td>\n",
       "      <td>10</td>\n",
       "      <td>Less-Country-2767</td>\n",
       "    </tr>\n",
       "    <tr>\n",
       "      <th>2295</th>\n",
       "      <td>1aiso8s</td>\n",
       "      <td>koxvpz7</td>\n",
       "      <td>[the talmud doesn’t actually say that](http://...</td>\n",
       "      <td>50</td>\n",
       "      <td>TravisPorerr</td>\n",
       "    </tr>\n",
       "  </tbody>\n",
       "</table>\n",
       "</div>"
      ],
      "text/plain": [
       "     thread_id comment_id                                       comment_text  \\\n",
       "359     tzaw3i    j9a8f7s  [Those](https://en.wikipedia.org/wiki/Powers_o...   \n",
       "943    1al0n50    kpc2tjm  [Here](https://www.mic.com/articles/185045/wol...   \n",
       "1060   1al51n7    kpefwp3    [Ayo](https://en.m.wikipedia.org/wiki/Lalibela)   \n",
       "1997   1ajh1mt    kp1mimr  [Christian Socialism](https://en.wikipedia.org...   \n",
       "2295   1aiso8s    koxvpz7  [the talmud doesn’t actually say that](http://...   \n",
       "\n",
       "      comment_score        author_name  \n",
       "359               3           Niomedes  \n",
       "943              79         Alric_Rahl  \n",
       "1060             22      Soviet-pirate  \n",
       "1997             10  Less-Country-2767  \n",
       "2295             50       TravisPorerr  "
      ]
     },
     "execution_count": 6,
     "metadata": {},
     "output_type": "execute_result"
    }
   ],
   "source": [
    "# testing out the regex expression to see if we filtered out the rows correctly\n",
    "link_regex = r'\\[(.+?)\\]\\((.+?)\\)'\n",
    "df_comments_clean[df_comments_clean['comment_text'].str.match(link_regex)].head()"
   ]
  },
  {
   "cell_type": "code",
   "execution_count": 7,
   "metadata": {},
   "outputs": [],
   "source": [
    "# define a function to filter out rows with markdown formatting on links\n",
    "\n",
    "def keep_text_from_link(text):\n",
    "    link_regex = r'\\[(.+?)\\]\\((.+?)\\)'\n",
    "    \n",
    "    def replace_link(match):\n",
    "        return match.group(1)\n",
    "\n",
    "    return re.sub(link_regex, replace_link, text)"
   ]
  },
  {
   "cell_type": "code",
   "execution_count": 8,
   "metadata": {},
   "outputs": [
    {
     "name": "stderr",
     "output_type": "stream",
     "text": [
      "/var/folders/fy/92rm3rl955997y4_8yf6zth00000gn/T/ipykernel_28546/2829578273.py:2: SettingWithCopyWarning: \n",
      "A value is trying to be set on a copy of a slice from a DataFrame.\n",
      "Try using .loc[row_indexer,col_indexer] = value instead\n",
      "\n",
      "See the caveats in the documentation: https://pandas.pydata.org/pandas-docs/stable/user_guide/indexing.html#returning-a-view-versus-a-copy\n",
      "  df_comments_clean[\"comment_text\"] = df_comments_clean[\"comment_text\"].apply(lambda x: keep_text_from_link(x))\n"
     ]
    }
   ],
   "source": [
    "# apply to dataframe\n",
    "df_comments_clean[\"comment_text\"] = df_comments_clean[\"comment_text\"].apply(lambda x: keep_text_from_link(x))"
   ]
  },
  {
   "cell_type": "markdown",
   "metadata": {},
   "source": [
    "* Check if filtering is successful"
   ]
  },
  {
   "cell_type": "code",
   "execution_count": 9,
   "metadata": {},
   "outputs": [
    {
     "data": {
      "text/html": [
       "<div>\n",
       "<style scoped>\n",
       "    .dataframe tbody tr th:only-of-type {\n",
       "        vertical-align: middle;\n",
       "    }\n",
       "\n",
       "    .dataframe tbody tr th {\n",
       "        vertical-align: top;\n",
       "    }\n",
       "\n",
       "    .dataframe thead th {\n",
       "        text-align: right;\n",
       "    }\n",
       "</style>\n",
       "<table border=\"1\" class=\"dataframe\">\n",
       "  <thead>\n",
       "    <tr style=\"text-align: right;\">\n",
       "      <th></th>\n",
       "      <th>thread_id</th>\n",
       "      <th>comment_id</th>\n",
       "      <th>comment_text</th>\n",
       "      <th>comment_score</th>\n",
       "      <th>author_name</th>\n",
       "    </tr>\n",
       "  </thead>\n",
       "  <tbody>\n",
       "  </tbody>\n",
       "</table>\n",
       "</div>"
      ],
      "text/plain": [
       "Empty DataFrame\n",
       "Columns: [thread_id, comment_id, comment_text, comment_score, author_name]\n",
       "Index: []"
      ]
     },
     "execution_count": 9,
     "metadata": {},
     "output_type": "execute_result"
    }
   ],
   "source": [
    "df_comments_clean[df_comments_clean[\"comment_text\"].str.match(link_regex)].head()"
   ]
  },
  {
   "cell_type": "markdown",
   "metadata": {},
   "source": [
    "* Removal of url-only comments"
   ]
  },
  {
   "cell_type": "code",
   "execution_count": 10,
   "metadata": {},
   "outputs": [
    {
     "data": {
      "text/html": [
       "<div>\n",
       "<style scoped>\n",
       "    .dataframe tbody tr th:only-of-type {\n",
       "        vertical-align: middle;\n",
       "    }\n",
       "\n",
       "    .dataframe tbody tr th {\n",
       "        vertical-align: top;\n",
       "    }\n",
       "\n",
       "    .dataframe thead th {\n",
       "        text-align: right;\n",
       "    }\n",
       "</style>\n",
       "<table border=\"1\" class=\"dataframe\">\n",
       "  <thead>\n",
       "    <tr style=\"text-align: right;\">\n",
       "      <th></th>\n",
       "      <th>thread_id</th>\n",
       "      <th>comment_id</th>\n",
       "      <th>comment_text</th>\n",
       "      <th>comment_score</th>\n",
       "      <th>author_name</th>\n",
       "    </tr>\n",
       "  </thead>\n",
       "  <tbody>\n",
       "    <tr>\n",
       "      <th>297</th>\n",
       "      <td>tzaw3i</td>\n",
       "      <td>i6mb3wa</td>\n",
       "      <td>https://www.usatoday.com/story/news/politics/2...</td>\n",
       "      <td>14</td>\n",
       "      <td>jliane</td>\n",
       "    </tr>\n",
       "    <tr>\n",
       "      <th>364</th>\n",
       "      <td>tzaw3i</td>\n",
       "      <td>ikybdyo</td>\n",
       "      <td>https://en.m.wikipedia.org/wiki/Accelerationism</td>\n",
       "      <td>51</td>\n",
       "      <td>maxwellsearcy</td>\n",
       "    </tr>\n",
       "    <tr>\n",
       "      <th>1247</th>\n",
       "      <td>1al7vv9</td>\n",
       "      <td>kpg35e7</td>\n",
       "      <td>https://en.m.wikipedia.org/wiki/Jewish_settlem...</td>\n",
       "      <td>5</td>\n",
       "      <td>SSeptic</td>\n",
       "    </tr>\n",
       "    <tr>\n",
       "      <th>2380</th>\n",
       "      <td>1aisx9r</td>\n",
       "      <td>kp0krq9</td>\n",
       "      <td>https://images.app.goo.gl/PcN1G9qPHUNtHnud7\\n\\...</td>\n",
       "      <td>9</td>\n",
       "      <td>Quartia</td>\n",
       "    </tr>\n",
       "    <tr>\n",
       "      <th>3433</th>\n",
       "      <td>1ah3162</td>\n",
       "      <td>komabqx</td>\n",
       "      <td>https://www.nbcnews.com/news/us-news/pa-man-ar...</td>\n",
       "      <td>13</td>\n",
       "      <td>Titaniumfury</td>\n",
       "    </tr>\n",
       "    <tr>\n",
       "      <th>3539</th>\n",
       "      <td>1agyr36</td>\n",
       "      <td>kokjrds</td>\n",
       "      <td>https://en.wikipedia.org/wiki/Critical_race_th...</td>\n",
       "      <td>57</td>\n",
       "      <td>faultydesign</td>\n",
       "    </tr>\n",
       "    <tr>\n",
       "      <th>3557</th>\n",
       "      <td>1agyr36</td>\n",
       "      <td>kol31a5</td>\n",
       "      <td>https://www.statista.com/statistics/476456/mas...</td>\n",
       "      <td>75</td>\n",
       "      <td>gartsmith</td>\n",
       "    </tr>\n",
       "    <tr>\n",
       "      <th>3580</th>\n",
       "      <td>1agyr36</td>\n",
       "      <td>kozg67s</td>\n",
       "      <td>https://www2.ed.gov/admins/lead/safety/prevent...</td>\n",
       "      <td>1</td>\n",
       "      <td>Depressed_Squirrl</td>\n",
       "    </tr>\n",
       "    <tr>\n",
       "      <th>3936</th>\n",
       "      <td>1agde4c</td>\n",
       "      <td>kogem6a</td>\n",
       "      <td>https://en.m.wikipedia.org/wiki/Lehi_(militant...</td>\n",
       "      <td>16</td>\n",
       "      <td>Okayhatstand</td>\n",
       "    </tr>\n",
       "  </tbody>\n",
       "</table>\n",
       "</div>"
      ],
      "text/plain": [
       "     thread_id comment_id                                       comment_text  \\\n",
       "297     tzaw3i    i6mb3wa  https://www.usatoday.com/story/news/politics/2...   \n",
       "364     tzaw3i    ikybdyo    https://en.m.wikipedia.org/wiki/Accelerationism   \n",
       "1247   1al7vv9    kpg35e7  https://en.m.wikipedia.org/wiki/Jewish_settlem...   \n",
       "2380   1aisx9r    kp0krq9  https://images.app.goo.gl/PcN1G9qPHUNtHnud7\\n\\...   \n",
       "3433   1ah3162    komabqx  https://www.nbcnews.com/news/us-news/pa-man-ar...   \n",
       "3539   1agyr36    kokjrds  https://en.wikipedia.org/wiki/Critical_race_th...   \n",
       "3557   1agyr36    kol31a5  https://www.statista.com/statistics/476456/mas...   \n",
       "3580   1agyr36    kozg67s  https://www2.ed.gov/admins/lead/safety/prevent...   \n",
       "3936   1agde4c    kogem6a  https://en.m.wikipedia.org/wiki/Lehi_(militant...   \n",
       "\n",
       "      comment_score        author_name  \n",
       "297              14             jliane  \n",
       "364              51      maxwellsearcy  \n",
       "1247              5            SSeptic  \n",
       "2380              9            Quartia  \n",
       "3433             13       Titaniumfury  \n",
       "3539             57       faultydesign  \n",
       "3557             75          gartsmith  \n",
       "3580              1  Depressed_Squirrl  \n",
       "3936             16       Okayhatstand  "
      ]
     },
     "execution_count": 10,
     "metadata": {},
     "output_type": "execute_result"
    }
   ],
   "source": [
    "# testing out the regex expression to see if we filtered out the rows correctly\n",
    "url_regex = r'https?://\\S+|www\\.\\S+'\n",
    "df_comments_clean[df_comments_clean[\"comment_text\"].str.match(url_regex)]"
   ]
  },
  {
   "cell_type": "code",
   "execution_count": 11,
   "metadata": {},
   "outputs": [],
   "source": [
    "# define a function to filter out rows with urls and return with a blank instead\n",
    "def remove_url(text):\n",
    "    url_regex = r'https?://\\S+|www\\.\\S+'\n",
    "    return re.sub(url_regex, '', text)"
   ]
  },
  {
   "cell_type": "code",
   "execution_count": 12,
   "metadata": {},
   "outputs": [
    {
     "name": "stderr",
     "output_type": "stream",
     "text": [
      "/var/folders/fy/92rm3rl955997y4_8yf6zth00000gn/T/ipykernel_28546/2218555016.py:2: SettingWithCopyWarning: \n",
      "A value is trying to be set on a copy of a slice from a DataFrame.\n",
      "Try using .loc[row_indexer,col_indexer] = value instead\n",
      "\n",
      "See the caveats in the documentation: https://pandas.pydata.org/pandas-docs/stable/user_guide/indexing.html#returning-a-view-versus-a-copy\n",
      "  df_comments_clean[\"comment_text\"] = df_comments_clean[\"comment_text\"].apply(lambda x: remove_url(x))\n"
     ]
    }
   ],
   "source": [
    "# apply to the dataframe\n",
    "df_comments_clean[\"comment_text\"] = df_comments_clean[\"comment_text\"].apply(lambda x: remove_url(x))"
   ]
  },
  {
   "cell_type": "markdown",
   "metadata": {},
   "source": [
    "* Check if filtering is successful"
   ]
  },
  {
   "cell_type": "code",
   "execution_count": 13,
   "metadata": {},
   "outputs": [
    {
     "data": {
      "text/html": [
       "<div>\n",
       "<style scoped>\n",
       "    .dataframe tbody tr th:only-of-type {\n",
       "        vertical-align: middle;\n",
       "    }\n",
       "\n",
       "    .dataframe tbody tr th {\n",
       "        vertical-align: top;\n",
       "    }\n",
       "\n",
       "    .dataframe thead th {\n",
       "        text-align: right;\n",
       "    }\n",
       "</style>\n",
       "<table border=\"1\" class=\"dataframe\">\n",
       "  <thead>\n",
       "    <tr style=\"text-align: right;\">\n",
       "      <th></th>\n",
       "      <th>thread_id</th>\n",
       "      <th>comment_id</th>\n",
       "      <th>comment_text</th>\n",
       "      <th>comment_score</th>\n",
       "      <th>author_name</th>\n",
       "    </tr>\n",
       "  </thead>\n",
       "  <tbody>\n",
       "  </tbody>\n",
       "</table>\n",
       "</div>"
      ],
      "text/plain": [
       "Empty DataFrame\n",
       "Columns: [thread_id, comment_id, comment_text, comment_score, author_name]\n",
       "Index: []"
      ]
     },
     "execution_count": 13,
     "metadata": {},
     "output_type": "execute_result"
    }
   ],
   "source": [
    "df_comments_clean[df_comments_clean['comment_text'].str.match(url_regex)]"
   ]
  },
  {
   "cell_type": "markdown",
   "metadata": {},
   "source": [
    "* Removal of comments posted by AutoModerator"
   ]
  },
  {
   "cell_type": "code",
   "execution_count": 14,
   "metadata": {},
   "outputs": [],
   "source": [
    "# only save comment rows that are not posted by automoderator\n",
    "df_comments_clean = df_comments_clean[df_comments_clean[\"author_name\"] != \"AutoModerator\"]"
   ]
  },
  {
   "cell_type": "markdown",
   "metadata": {},
   "source": [
    "* sanity check on updated dataframe to see if any comments by automoderator left"
   ]
  },
  {
   "cell_type": "code",
   "execution_count": 15,
   "metadata": {},
   "outputs": [
    {
     "data": {
      "text/html": [
       "<div>\n",
       "<style scoped>\n",
       "    .dataframe tbody tr th:only-of-type {\n",
       "        vertical-align: middle;\n",
       "    }\n",
       "\n",
       "    .dataframe tbody tr th {\n",
       "        vertical-align: top;\n",
       "    }\n",
       "\n",
       "    .dataframe thead th {\n",
       "        text-align: right;\n",
       "    }\n",
       "</style>\n",
       "<table border=\"1\" class=\"dataframe\">\n",
       "  <thead>\n",
       "    <tr style=\"text-align: right;\">\n",
       "      <th></th>\n",
       "      <th>thread_id</th>\n",
       "      <th>comment_id</th>\n",
       "      <th>comment_text</th>\n",
       "      <th>comment_score</th>\n",
       "      <th>author_name</th>\n",
       "    </tr>\n",
       "  </thead>\n",
       "  <tbody>\n",
       "  </tbody>\n",
       "</table>\n",
       "</div>"
      ],
      "text/plain": [
       "Empty DataFrame\n",
       "Columns: [thread_id, comment_id, comment_text, comment_score, author_name]\n",
       "Index: []"
      ]
     },
     "execution_count": 15,
     "metadata": {},
     "output_type": "execute_result"
    }
   ],
   "source": [
    "df_comments_clean[df_comments_clean[\"author_name\"] == \"AutoModerator\"]"
   ]
  },
  {
   "cell_type": "code",
   "execution_count": 16,
   "metadata": {},
   "outputs": [
    {
     "name": "stdout",
     "output_type": "stream",
     "text": [
      "Comment Rows:  3894\n"
     ]
    }
   ],
   "source": [
    "print('Comment Rows: ', df_comments_clean.shape[0])"
   ]
  },
  {
   "cell_type": "markdown",
   "metadata": {},
   "source": [
    "* Check that there are no empty comments"
   ]
  },
  {
   "cell_type": "code",
   "execution_count": 17,
   "metadata": {},
   "outputs": [
    {
     "name": "stdout",
     "output_type": "stream",
     "text": [
      "No. of empty comments: 0\n"
     ]
    }
   ],
   "source": [
    "print(\"No. of empty comments:\", df_comments_clean[\"comment_text\"].isnull().sum())"
   ]
  },
  {
   "cell_type": "markdown",
   "metadata": {},
   "source": [
    "* Check the final dataframe row counts"
   ]
  },
  {
   "cell_type": "code",
   "execution_count": 18,
   "metadata": {},
   "outputs": [
    {
     "name": "stdout",
     "output_type": "stream",
     "text": [
      "Thread Rows:  100\n",
      "Comment Rows:  4130\n"
     ]
    }
   ],
   "source": [
    "print('Thread Rows: ', df_threads.shape[0])\n",
    "print('Comment Rows: ', df_comments.shape[0])"
   ]
  },
  {
   "cell_type": "markdown",
   "metadata": {},
   "source": [
    "\n",
    "---\n",
    "\n",
    "### 04 Merge Comments & Threads Dataframes\n",
    "\n",
    "Merge the thread and comment dataframes for demo purposes."
   ]
  },
  {
   "cell_type": "code",
   "execution_count": 19,
   "metadata": {},
   "outputs": [
    {
     "data": {
      "text/plain": [
       "(3894, 13)"
      ]
     },
     "execution_count": 19,
     "metadata": {},
     "output_type": "execute_result"
    }
   ],
   "source": [
    "# perform merging\n",
    "clean_merged = pd.merge(df_comments_clean, df_threads, left_on='thread_id', right_on='id', how='left', suffixes=('', '_thread'))\n",
    "clean_merged.shape"
   ]
  },
  {
   "cell_type": "code",
   "execution_count": 20,
   "metadata": {},
   "outputs": [
    {
     "data": {
      "text/html": [
       "<div>\n",
       "<style scoped>\n",
       "    .dataframe tbody tr th:only-of-type {\n",
       "        vertical-align: middle;\n",
       "    }\n",
       "\n",
       "    .dataframe tbody tr th {\n",
       "        vertical-align: top;\n",
       "    }\n",
       "\n",
       "    .dataframe thead th {\n",
       "        text-align: right;\n",
       "    }\n",
       "</style>\n",
       "<table border=\"1\" class=\"dataframe\">\n",
       "  <thead>\n",
       "    <tr style=\"text-align: right;\">\n",
       "      <th></th>\n",
       "      <th>thread_id</th>\n",
       "      <th>comment_id</th>\n",
       "      <th>comment_text</th>\n",
       "      <th>comment_score</th>\n",
       "      <th>author_name</th>\n",
       "      <th>id</th>\n",
       "      <th>title</th>\n",
       "      <th>score</th>\n",
       "      <th>num_comments</th>\n",
       "      <th>post_hint</th>\n",
       "      <th>self_text</th>\n",
       "      <th>author_name_thread</th>\n",
       "      <th>url</th>\n",
       "    </tr>\n",
       "  </thead>\n",
       "  <tbody>\n",
       "    <tr>\n",
       "      <th>0</th>\n",
       "      <td>tzaw3i</td>\n",
       "      <td>i3zbuma</td>\n",
       "      <td>The left wing doesn’t exist in this country. C...</td>\n",
       "      <td>1856</td>\n",
       "      <td>_realm_breaker</td>\n",
       "      <td>tzaw3i</td>\n",
       "      <td>2nd post regarding Biden. again, he's not left...</td>\n",
       "      <td>8109</td>\n",
       "      <td>736</td>\n",
       "      <td>image</td>\n",
       "      <td></td>\n",
       "      <td>the_red_guard</td>\n",
       "      <td>https://i.redd.it/dliu0r47tcs81.jpg</td>\n",
       "    </tr>\n",
       "    <tr>\n",
       "      <th>1</th>\n",
       "      <td>tzaw3i</td>\n",
       "      <td>i49gyqr</td>\n",
       "      <td>As horriable as trump was. I do miss his senil...</td>\n",
       "      <td>514</td>\n",
       "      <td>englishcrumpit</td>\n",
       "      <td>tzaw3i</td>\n",
       "      <td>2nd post regarding Biden. again, he's not left...</td>\n",
       "      <td>8109</td>\n",
       "      <td>736</td>\n",
       "      <td>image</td>\n",
       "      <td></td>\n",
       "      <td>the_red_guard</td>\n",
       "      <td>https://i.redd.it/dliu0r47tcs81.jpg</td>\n",
       "    </tr>\n",
       "    <tr>\n",
       "      <th>2</th>\n",
       "      <td>tzaw3i</td>\n",
       "      <td>i5zbs1f</td>\n",
       "      <td>Why is \"Nothing  fundamentally changing\" not a...</td>\n",
       "      <td>108</td>\n",
       "      <td></td>\n",
       "      <td>tzaw3i</td>\n",
       "      <td>2nd post regarding Biden. again, he's not left...</td>\n",
       "      <td>8109</td>\n",
       "      <td>736</td>\n",
       "      <td>image</td>\n",
       "      <td></td>\n",
       "      <td>the_red_guard</td>\n",
       "      <td>https://i.redd.it/dliu0r47tcs81.jpg</td>\n",
       "    </tr>\n",
       "    <tr>\n",
       "      <th>3</th>\n",
       "      <td>tzaw3i</td>\n",
       "      <td>i45nffy</td>\n",
       "      <td>The sheer amount of libs using this sub to def...</td>\n",
       "      <td>205</td>\n",
       "      <td>Somelebguy989</td>\n",
       "      <td>tzaw3i</td>\n",
       "      <td>2nd post regarding Biden. again, he's not left...</td>\n",
       "      <td>8109</td>\n",
       "      <td>736</td>\n",
       "      <td>image</td>\n",
       "      <td></td>\n",
       "      <td>the_red_guard</td>\n",
       "      <td>https://i.redd.it/dliu0r47tcs81.jpg</td>\n",
       "    </tr>\n",
       "    <tr>\n",
       "      <th>4</th>\n",
       "      <td>tzaw3i</td>\n",
       "      <td>i50tba0</td>\n",
       "      <td>He isn’t Trump so that one should be Checked off</td>\n",
       "      <td>78</td>\n",
       "      <td></td>\n",
       "      <td>tzaw3i</td>\n",
       "      <td>2nd post regarding Biden. again, he's not left...</td>\n",
       "      <td>8109</td>\n",
       "      <td>736</td>\n",
       "      <td>image</td>\n",
       "      <td></td>\n",
       "      <td>the_red_guard</td>\n",
       "      <td>https://i.redd.it/dliu0r47tcs81.jpg</td>\n",
       "    </tr>\n",
       "  </tbody>\n",
       "</table>\n",
       "</div>"
      ],
      "text/plain": [
       "  thread_id comment_id                                       comment_text  \\\n",
       "0    tzaw3i    i3zbuma  The left wing doesn’t exist in this country. C...   \n",
       "1    tzaw3i    i49gyqr  As horriable as trump was. I do miss his senil...   \n",
       "2    tzaw3i    i5zbs1f  Why is \"Nothing  fundamentally changing\" not a...   \n",
       "3    tzaw3i    i45nffy  The sheer amount of libs using this sub to def...   \n",
       "4    tzaw3i    i50tba0   He isn’t Trump so that one should be Checked off   \n",
       "\n",
       "   comment_score     author_name      id  \\\n",
       "0           1856  _realm_breaker  tzaw3i   \n",
       "1            514  englishcrumpit  tzaw3i   \n",
       "2            108                  tzaw3i   \n",
       "3            205   Somelebguy989  tzaw3i   \n",
       "4             78                  tzaw3i   \n",
       "\n",
       "                                               title  score  num_comments  \\\n",
       "0  2nd post regarding Biden. again, he's not left...   8109           736   \n",
       "1  2nd post regarding Biden. again, he's not left...   8109           736   \n",
       "2  2nd post regarding Biden. again, he's not left...   8109           736   \n",
       "3  2nd post regarding Biden. again, he's not left...   8109           736   \n",
       "4  2nd post regarding Biden. again, he's not left...   8109           736   \n",
       "\n",
       "  post_hint self_text author_name_thread                                  url  \n",
       "0     image                the_red_guard  https://i.redd.it/dliu0r47tcs81.jpg  \n",
       "1     image                the_red_guard  https://i.redd.it/dliu0r47tcs81.jpg  \n",
       "2     image                the_red_guard  https://i.redd.it/dliu0r47tcs81.jpg  \n",
       "3     image                the_red_guard  https://i.redd.it/dliu0r47tcs81.jpg  \n",
       "4     image                the_red_guard  https://i.redd.it/dliu0r47tcs81.jpg  "
      ]
     },
     "execution_count": 20,
     "metadata": {},
     "output_type": "execute_result"
    }
   ],
   "source": [
    "# check rows and columns if merge is done appropriately\n",
    "clean_merged.head()"
   ]
  },
  {
   "cell_type": "markdown",
   "metadata": {},
   "source": [
    "\n",
    "---\n",
    "\n",
    "### 05 Save Cleaned Merged Dataframes as CSV"
   ]
  },
  {
   "cell_type": "code",
   "execution_count": 21,
   "metadata": {},
   "outputs": [],
   "source": [
    "clean_merged.to_csv(\"./demo/clean_merged.csv\", index=False)"
   ]
  }
 ],
 "metadata": {
  "anaconda-cloud": {},
  "kernelspec": {
   "display_name": "Python 3 (ipykernel)",
   "language": "python",
   "name": "python3"
  },
  "language_info": {
   "codemirror_mode": {
    "name": "ipython",
    "version": 3
   },
   "file_extension": ".py",
   "mimetype": "text/x-python",
   "name": "python",
   "nbconvert_exporter": "python",
   "pygments_lexer": "ipython3",
   "version": "3.11.7"
  }
 },
 "nbformat": 4,
 "nbformat_minor": 4
}
