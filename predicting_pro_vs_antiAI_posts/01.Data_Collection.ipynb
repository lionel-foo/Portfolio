{
 "cells": [
  {
   "cell_type": "markdown",
   "metadata": {},
   "source": [
    "# ![](https://ga-dash.s3.amazonaws.com/production/assets/logo-9f88ae6c9c3871690e33280fcf557f33.png) Project 3: Web APIs & NLP\n",
    "\n",
    "**DSI-41 Group 2**: Muhammad Faaiz Khan, Lionel Foo, Gabriel Tan\n",
    "\n",
    "## **Project title**: Generative AI and Art - understanding and predicting chatter from online communities\n",
    "\n",
    "## Part 1 Data Collection"
   ]
  },
  {
   "cell_type": "markdown",
   "metadata": {},
   "source": [
    "## 01. Imports"
   ]
  },
  {
   "cell_type": "code",
   "execution_count": 1,
   "metadata": {},
   "outputs": [],
   "source": [
    "import pandas as pd\n",
    "import praw\n",
    "from praw.models import MoreComments\n",
    "\n",
    "# this setting widens how many characters pandas will display in a column:\n",
    "pd.options.display.max_colwidth = 400"
   ]
  },
  {
   "cell_type": "markdown",
   "metadata": {},
   "source": [
    "## 1. Data Scraping\n",
    "We will use the PRAW API to perform scraping on 2 Subreddits: *r/DefendingAIArt* and *r/ArtistHate*"
   ]
  },
  {
   "cell_type": "code",
   "execution_count": 2,
   "metadata": {},
   "outputs": [],
   "source": [
    "# Unique identifier client_id and client_secret retrieved from personal application registered on Reddit.\n",
    "# The client_id and client_secret has been redacted as they are confidential information. Do input your own client_id & secret to run the code.\n",
    "reddit = praw.Reddit(user_agent=\"PRAW\", client_id=\"\", \n",
    "                     client_secret=\"\")"
   ]
  },
  {
   "cell_type": "markdown",
   "metadata": {},
   "source": [
    "The scraping process is summarised below:\n",
    "1. Define a dictionary where the keys are our column names, with empty lists as the values.\n",
    "2. Loop through all posts in each subreddit, appending the relevant post information into our dictionary with each loop.\n",
    "3. Convert the dictionary to dataframe format and export.\n",
    "\n",
    "The information scraped from the subreddit is defined below:\n",
    "\n",
    "\n",
    "|Feature|Type|Description|\n",
    "|---|---|---|\n",
    "|`subr-def_ai`|int|Boolean, whether the post is from *r/DefendingAIArt* (1) or *r/ArtistHate* (0)|\n",
    "|`is_op`|int|Boolean, whether the post is the original post/OP (1) or a comment (0) |\n",
    "|`author`|obj|Provide an instance (Username) of *Redditor* |\n",
    "|`post_id`|obj|The unique id of the *post*/*comment*|\n",
    "|`body`|str|Content of the *post*/*comment*|\n",
    "|`upvotes`|int|Number of upvotes for the *post*/*comment*|\n",
    "|`num_comments`|int|Number of comments/responses to the post| \n",
    "\n",
    "*For OP, `body` will be a concatenation of both its title and its post content (if any). Comments have no title and thus do not require this concatenation."
   ]
  },
  {
   "cell_type": "code",
   "execution_count": 3,
   "metadata": {},
   "outputs": [],
   "source": [
    "# First defining the dictionary before the scraping process\n",
    "reddit_dict = {'subr-def_ai':[],\n",
    "                'is_op': [],\n",
    "                'author': [],\n",
    "                'post_id': [],\n",
    "                'body': [],\n",
    "                'upvotes': [],\n",
    "                'num_comments': []}"
   ]
  },
  {
   "cell_type": "markdown",
   "metadata": {},
   "source": [
    "To facilitate in populating our dictionary with the scraped data, we will define the functions below."
   ]
  },
  {
   "cell_type": "code",
   "execution_count": 4,
   "metadata": {},
   "outputs": [],
   "source": [
    "# Define function to append post information to the dictionary\n",
    "def dictapp(dict, post, def_ai=True, op=False):\n",
    "    if op:\n",
    "        dict['is_op'].append(1)\n",
    "        if post.selftext:\n",
    "            dict['body'].append(post.title + ' ' + post.selftext)\n",
    "        else:\n",
    "            dict['body'].append(post.title)\n",
    "    else:\n",
    "        dict['is_op'].append(0)\n",
    "        dict['body'].append(post.body)\n",
    "    dict['author'].append(post.author)\n",
    "    dict['num_comments'].append(replycnt(post, op))\n",
    "    dict['subr-def_ai'].append(int(def_ai))\n",
    "    dict['upvotes'].append(post.score)\n",
    "    dict['post_id'].append(post.id)\n",
    "\n",
    "\n",
    "# Defining function to count replies to comment. This is used in dictapp() above.\n",
    "def replycnt(comment, op):\n",
    "    if op:\n",
    "        reply_obj = comment.comments\n",
    "    else:\n",
    "        reply_obj = comment.replies\n",
    "    count = 0\n",
    "    for reply in reply_obj:\n",
    "        count += 1\n",
    "    return count"
   ]
  },
  {
   "cell_type": "markdown",
   "metadata": {},
   "source": [
    "Further attributes of the .submission class can be found [here](https://praw.readthedocs.io/en/stable/code_overview/models/submission.html).\n",
    "Further attributes of the .subreddit class can be found [here](https://praw.readthedocs.io/en/stable/code_overview/models/subreddit.html)."
   ]
  },
  {
   "cell_type": "markdown",
   "metadata": {},
   "source": [
    "We start scraping *r/DefendingAIArt* and append the posts to `reddit_dict`."
   ]
  },
  {
   "cell_type": "code",
   "execution_count": 5,
   "metadata": {},
   "outputs": [
    {
     "name": "stderr",
     "output_type": "stream",
     "text": [
      "/var/folders/fy/92rm3rl955997y4_8yf6zth00000gn/T/ipykernel_88760/3949176417.py:1: DeprecationWarning: Positional arguments for 'BaseListingMixin.top' will no longer be supported in PRAW 8.\n",
      "Call this function with 'time_filter' as a keyword argument.\n",
      "  for submission in reddit.subreddit(\"DefendingAIArt\").top(\"all\"):\n"
     ]
    }
   ],
   "source": [
    "for submission in reddit.subreddit(\"DefendingAIArt\").top(\"all\"):\n",
    "    submission.comments.replace_more(limit=0)                   # Ignores elements that expand the comments on the page\n",
    "    dictapp(reddit_dict, submission, def_ai=True, op=True)      # Appends the OP to the dictionary\n",
    "    for comment in submission.comments.list():\n",
    "        dictapp(reddit_dict, comment, def_ai=True)              # For loop to append all comments in submission"
   ]
  },
  {
   "cell_type": "code",
   "execution_count": 6,
   "metadata": {},
   "outputs": [
    {
     "data": {
      "text/html": [
       "<div>\n",
       "<style scoped>\n",
       "    .dataframe tbody tr th:only-of-type {\n",
       "        vertical-align: middle;\n",
       "    }\n",
       "\n",
       "    .dataframe tbody tr th {\n",
       "        vertical-align: top;\n",
       "    }\n",
       "\n",
       "    .dataframe thead th {\n",
       "        text-align: right;\n",
       "    }\n",
       "</style>\n",
       "<table border=\"1\" class=\"dataframe\">\n",
       "  <thead>\n",
       "    <tr style=\"text-align: right;\">\n",
       "      <th></th>\n",
       "      <th>subr-def_ai</th>\n",
       "      <th>is_op</th>\n",
       "      <th>author</th>\n",
       "      <th>post_id</th>\n",
       "      <th>body</th>\n",
       "      <th>upvotes</th>\n",
       "      <th>num_comments</th>\n",
       "    </tr>\n",
       "  </thead>\n",
       "  <tbody>\n",
       "    <tr>\n",
       "      <th>0</th>\n",
       "      <td>1</td>\n",
       "      <td>1</td>\n",
       "      <td>None</td>\n",
       "      <td>101n5dv</td>\n",
       "      <td>[TW: DEATH THREAT] And they say that \"AI bros\" are the ones harassing the artists?</td>\n",
       "      <td>499</td>\n",
       "      <td>9</td>\n",
       "    </tr>\n",
       "    <tr>\n",
       "      <th>1</th>\n",
       "      <td>1</td>\n",
       "      <td>0</td>\n",
       "      <td>Zinthaniel</td>\n",
       "      <td>j2plqsw</td>\n",
       "      <td>there's no rule in this sub requiring you to hide the tweet handle. So its kind of idiotic to do so, especially when the tweet is glorifying killing people who use AI.</td>\n",
       "      <td>30</td>\n",
       "      <td>1</td>\n",
       "    </tr>\n",
       "    <tr>\n",
       "      <th>2</th>\n",
       "      <td>1</td>\n",
       "      <td>0</td>\n",
       "      <td>None</td>\n",
       "      <td>j2oryjg</td>\n",
       "      <td>\"Corpos telling modern artists to die\"\\nIT'S FREE AND OPEN SOURCE</td>\n",
       "      <td>55</td>\n",
       "      <td>2</td>\n",
       "    </tr>\n",
       "    <tr>\n",
       "      <th>3</th>\n",
       "      <td>1</td>\n",
       "      <td>0</td>\n",
       "      <td>chillaxinbball</td>\n",
       "      <td>j2rbhzy</td>\n",
       "      <td>Unfortunately there are a few idiots on Twitter that are being rude which is giving the antiai crowd a huge confirmation bias boner. The Anti ai crowd has a hard time separating individuals from the group and seeing that the *majority* of the hateful comments comes from them.</td>\n",
       "      <td>12</td>\n",
       "      <td>0</td>\n",
       "    </tr>\n",
       "    <tr>\n",
       "      <th>4</th>\n",
       "      <td>1</td>\n",
       "      <td>0</td>\n",
       "      <td>Trippy-Worlds</td>\n",
       "      <td>j2oyyyb</td>\n",
       "      <td>Why is the username crossed out? They need to be reported on Twitter and probably to the FBI. \\n\\nWould really like to see who all those likes are as well. Please tell us the Twitter ID. Suggesting violence is not permissible!</td>\n",
       "      <td>22</td>\n",
       "      <td>1</td>\n",
       "    </tr>\n",
       "  </tbody>\n",
       "</table>\n",
       "</div>"
      ],
      "text/plain": [
       "   subr-def_ai  is_op          author  post_id  \\\n",
       "0            1      1            None  101n5dv   \n",
       "1            1      0      Zinthaniel  j2plqsw   \n",
       "2            1      0            None  j2oryjg   \n",
       "3            1      0  chillaxinbball  j2rbhzy   \n",
       "4            1      0   Trippy-Worlds  j2oyyyb   \n",
       "\n",
       "                                                                                                                                                                                                                                                                                   body  \\\n",
       "0                                                                                                                                                                                                    [TW: DEATH THREAT] And they say that \"AI bros\" are the ones harassing the artists?   \n",
       "1                                                                                                               there's no rule in this sub requiring you to hide the tweet handle. So its kind of idiotic to do so, especially when the tweet is glorifying killing people who use AI.   \n",
       "2                                                                                                                                                                                                                     \"Corpos telling modern artists to die\"\\nIT'S FREE AND OPEN SOURCE   \n",
       "3  Unfortunately there are a few idiots on Twitter that are being rude which is giving the antiai crowd a huge confirmation bias boner. The Anti ai crowd has a hard time separating individuals from the group and seeing that the *majority* of the hateful comments comes from them.   \n",
       "4                                                    Why is the username crossed out? They need to be reported on Twitter and probably to the FBI. \\n\\nWould really like to see who all those likes are as well. Please tell us the Twitter ID. Suggesting violence is not permissible!   \n",
       "\n",
       "   upvotes  num_comments  \n",
       "0      499             9  \n",
       "1       30             1  \n",
       "2       55             2  \n",
       "3       12             0  \n",
       "4       22             1  "
      ]
     },
     "execution_count": 6,
     "metadata": {},
     "output_type": "execute_result"
    }
   ],
   "source": [
    "# Checking dataframe\n",
    "pd.DataFrame(reddit_dict).head()"
   ]
  },
  {
   "cell_type": "markdown",
   "metadata": {},
   "source": [
    "Next, we scrape r/ArtistHate and append the posts to `reddit_dict`."
   ]
  },
  {
   "cell_type": "code",
   "execution_count": 7,
   "metadata": {},
   "outputs": [
    {
     "name": "stderr",
     "output_type": "stream",
     "text": [
      "/var/folders/fy/92rm3rl955997y4_8yf6zth00000gn/T/ipykernel_88760/1675939007.py:1: DeprecationWarning: Positional arguments for 'BaseListingMixin.top' will no longer be supported in PRAW 8.\n",
      "Call this function with 'time_filter' as a keyword argument.\n",
      "  for submission in reddit.subreddit(\"ArtistHate\").top(\"all\"):\n"
     ]
    }
   ],
   "source": [
    "for submission in reddit.subreddit(\"ArtistHate\").top(\"all\"):\n",
    "    submission.comments.replace_more(limit=0)\n",
    "    dictapp(reddit_dict, submission, def_ai=False, op=True)      # Note that def_ai is set to False in this block as we are scraping r/ArtistHate instead\n",
    "    for comment in submission.comments.list():\n",
    "        dictapp(reddit_dict, comment, def_ai=False)"
   ]
  },
  {
   "cell_type": "code",
   "execution_count": 8,
   "metadata": {},
   "outputs": [
    {
     "data": {
      "text/html": [
       "<div>\n",
       "<style scoped>\n",
       "    .dataframe tbody tr th:only-of-type {\n",
       "        vertical-align: middle;\n",
       "    }\n",
       "\n",
       "    .dataframe tbody tr th {\n",
       "        vertical-align: top;\n",
       "    }\n",
       "\n",
       "    .dataframe thead th {\n",
       "        text-align: right;\n",
       "    }\n",
       "</style>\n",
       "<table border=\"1\" class=\"dataframe\">\n",
       "  <thead>\n",
       "    <tr style=\"text-align: right;\">\n",
       "      <th></th>\n",
       "      <th>subr-def_ai</th>\n",
       "      <th>is_op</th>\n",
       "      <th>author</th>\n",
       "      <th>post_id</th>\n",
       "      <th>body</th>\n",
       "      <th>upvotes</th>\n",
       "      <th>num_comments</th>\n",
       "    </tr>\n",
       "  </thead>\n",
       "  <tbody>\n",
       "    <tr>\n",
       "      <th>7786</th>\n",
       "      <td>0</td>\n",
       "      <td>0</td>\n",
       "      <td>None</td>\n",
       "      <td>kgtcoti</td>\n",
       "      <td>[removed]</td>\n",
       "      <td>7</td>\n",
       "      <td>1</td>\n",
       "    </tr>\n",
       "    <tr>\n",
       "      <th>7787</th>\n",
       "      <td>0</td>\n",
       "      <td>0</td>\n",
       "      <td>KoumoriChinpo</td>\n",
       "      <td>kgqrhw0</td>\n",
       "      <td>Buying the projection machine wouldn't be lazy but I think using it to create pictures with would. But that's a weird unrealistic hypothetical that doesn't really help the argument you are trying to make. It's like arguing hypothetically if orange juice caused cancer we should stop drinking orange juice.</td>\n",
       "      <td>14</td>\n",
       "      <td>0</td>\n",
       "    </tr>\n",
       "    <tr>\n",
       "      <th>7788</th>\n",
       "      <td>0</td>\n",
       "      <td>0</td>\n",
       "      <td>KoumoriChinpo</td>\n",
       "      <td>kgu9wfh</td>\n",
       "      <td>Hm. Nah, it's still just you interpreting me saying \"AI\" the way you want it to pretend you are making some kind of point.</td>\n",
       "      <td>4</td>\n",
       "      <td>1</td>\n",
       "    </tr>\n",
       "    <tr>\n",
       "      <th>7789</th>\n",
       "      <td>0</td>\n",
       "      <td>0</td>\n",
       "      <td>KoumoriChinpo</td>\n",
       "      <td>kgu72a1</td>\n",
       "      <td>That's wonderful. Good for you.</td>\n",
       "      <td>3</td>\n",
       "      <td>0</td>\n",
       "    </tr>\n",
       "    <tr>\n",
       "      <th>7790</th>\n",
       "      <td>0</td>\n",
       "      <td>0</td>\n",
       "      <td>GrandFrequency</td>\n",
       "      <td>kgua1yy</td>\n",
       "      <td>Yeah, it's definitely not going over your head at all.</td>\n",
       "      <td>1</td>\n",
       "      <td>0</td>\n",
       "    </tr>\n",
       "  </tbody>\n",
       "</table>\n",
       "</div>"
      ],
      "text/plain": [
       "      subr-def_ai  is_op          author  post_id  \\\n",
       "7786            0      0            None  kgtcoti   \n",
       "7787            0      0   KoumoriChinpo  kgqrhw0   \n",
       "7788            0      0   KoumoriChinpo  kgu9wfh   \n",
       "7789            0      0   KoumoriChinpo  kgu72a1   \n",
       "7790            0      0  GrandFrequency  kgua1yy   \n",
       "\n",
       "                                                                                                                                                                                                                                                                                                                   body  \\\n",
       "7786                                                                                                                                                                                                                                                                                                          [removed]   \n",
       "7787  Buying the projection machine wouldn't be lazy but I think using it to create pictures with would. But that's a weird unrealistic hypothetical that doesn't really help the argument you are trying to make. It's like arguing hypothetically if orange juice caused cancer we should stop drinking orange juice.   \n",
       "7788                                                                                                                                                                                         Hm. Nah, it's still just you interpreting me saying \"AI\" the way you want it to pretend you are making some kind of point.   \n",
       "7789                                                                                                                                                                                                                                                                                    That's wonderful. Good for you.   \n",
       "7790                                                                                                                                                                                                                                                             Yeah, it's definitely not going over your head at all.   \n",
       "\n",
       "      upvotes  num_comments  \n",
       "7786        7             1  \n",
       "7787       14             0  \n",
       "7788        4             1  \n",
       "7789        3             0  \n",
       "7790        1             0  "
      ]
     },
     "execution_count": 8,
     "metadata": {},
     "output_type": "execute_result"
    }
   ],
   "source": [
    "# Checking tail end of dataframe\n",
    "pd.DataFrame(reddit_dict).tail()"
   ]
  },
  {
   "cell_type": "markdown",
   "metadata": {},
   "source": [
    "The dictionary is then converted to a dataframe `reddit_df`, then exported to .csv format."
   ]
  },
  {
   "cell_type": "code",
   "execution_count": 9,
   "metadata": {},
   "outputs": [],
   "source": [
    "# Creating dataframe and exporting to csv format\n",
    "reddit_df = pd.DataFrame(reddit_dict)\n",
    "\n",
    "# Import library:\n",
    "import os  # to work with files/directories\n",
    "\n",
    "# Define the output folder path:\n",
    "output_folder_path = '../project_3/output'\n",
    "\n",
    "# Check if the output folder exists, and create it if not:\n",
    "if not os.path.exists(output_folder_path):\n",
    "    os.makedirs(output_folder_path)\n",
    "\n",
    "# Save CSV file within the 'output' folder:\n",
    "reddit_df.to_csv(os.path.join(output_folder_path, 'reddit.csv'))"
   ]
  }
 ],
 "metadata": {
  "kernelspec": {
   "display_name": "Python 3",
   "language": "python",
   "name": "python3"
  },
  "language_info": {
   "codemirror_mode": {
    "name": "ipython",
    "version": 3
   },
   "file_extension": ".py",
   "mimetype": "text/x-python",
   "name": "python",
   "nbconvert_exporter": "python",
   "pygments_lexer": "ipython3",
   "version": "3.11.5"
  }
 },
 "nbformat": 4,
 "nbformat_minor": 2
}
